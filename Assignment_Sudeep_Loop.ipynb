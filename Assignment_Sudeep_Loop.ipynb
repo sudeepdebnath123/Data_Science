{
 "cells": [
  {
   "cell_type": "markdown",
   "id": "207bfe3c",
   "metadata": {},
   "source": [
    "#### 7. Write a Python program to find the length of the my_str using loop\n",
    " Input:- 'Write a Python program to find the length of the my_str'\n",
    " Output:- 55"
   ]
  },
  {
   "cell_type": "code",
   "execution_count": 17,
   "id": "49636f0f",
   "metadata": {},
   "outputs": [
    {
     "name": "stdout",
     "output_type": "stream",
     "text": [
      "55\n"
     ]
    }
   ],
   "source": [
    "my_str = 'Write a Python program to find the length of the my_str'\n",
    "\n",
    "i = 0\n",
    "while i in range(0,len(my_str)):\n",
    "    print (len(my_str))  \n",
    "    if i == 0:\n",
    "        break\n",
    "    i += 1  \n",
    "        "
   ]
  },
  {
   "cell_type": "markdown",
   "id": "8add1e01",
   "metadata": {},
   "source": [
    "#### 8. Write a Python program to find the total number of times letter 'p' is appeared in the below string using loop:-\n",
    " Input:- 'peter piper picked a peck of pickled peppers.\\n'\n",
    " Output:- 9"
   ]
  },
  {
   "cell_type": "code",
   "execution_count": 18,
   "id": "76f18191",
   "metadata": {},
   "outputs": [
    {
     "name": "stdout",
     "output_type": "stream",
     "text": [
      "count of p in the string is 9\n"
     ]
    }
   ],
   "source": [
    "my_str = 'peter piper picked a peck of pickled peppers'\n",
    "count =  0\n",
    "for i in my_str:\n",
    "    if i == 'p':\n",
    "        count = count+1\n",
    "print('count of p in the string is '+ str(count))"
   ]
  },
  {
   "cell_type": "markdown",
   "id": "e1684fc4",
   "metadata": {},
   "source": [
    "#### 9. Write a Python Program, to print all the indexes of all occurrences of letter 'p' appeared in the string using loop Input: - 'peter piper picked a peck of pickled peppers"
   ]
  },
  {
   "cell_type": "code",
   "execution_count": 15,
   "id": "33fda86a",
   "metadata": {},
   "outputs": [
    {
     "name": "stdout",
     "output_type": "stream",
     "text": [
      "[0, 6, 8, 12, 21, 29, 37, 39, 40]\n"
     ]
    }
   ],
   "source": [
    "my_string = 'peter piper picked a peck of pickled peppers'\n",
    "sub_string = 'p'\n",
    "indx = []\n",
    "flag = 0\n",
    "k = 0\n",
    "for i in range(0, len(my_string)):\n",
    "    k = i\n",
    "    flag = 0\n",
    "    for j in range(0, len(sub_string)):\n",
    "        if my_string[k] != sub_string[j]:\n",
    "            flag = 1\n",
    "        if flag:\n",
    "            break\n",
    "        k = k + 1\n",
    "    if flag == 0:\n",
    "        indx.append(i)\n",
    "print (indx)"
   ]
  },
  {
   "cell_type": "code",
   "execution_count": null,
   "id": "872e5c0f",
   "metadata": {},
   "outputs": [],
   "source": []
  },
  {
   "cell_type": "markdown",
   "id": "8b6ab327",
   "metadata": {},
   "source": [
    "#### 10. Write a python program to find below output using loop:-\n",
    " Input: - 'peter piper picked a peck of pickled peppers.'\n",
    " Output:- ['peter', 'piper', 'picked', 'a', 'peck', 'of', 'pickled', 'peppers']"
   ]
  },
  {
   "cell_type": "code",
   "execution_count": 57,
   "id": "d8a07298",
   "metadata": {},
   "outputs": [
    {
     "name": "stdout",
     "output_type": "stream",
     "text": [
      "['peter', 'piper', 'picked', 'a', 'peck', 'of', 'pickled', 'peppers']\n"
     ]
    }
   ],
   "source": [
    "my_string = 'peter piper picked a peck of pickled peppers'\n",
    "\n",
    "for i in my_string:\n",
    "    i = mystring.split(\" \")\n",
    "    \n",
    "print(i)"
   ]
  },
  {
   "cell_type": "markdown",
   "id": "c0ee2d79",
   "metadata": {},
   "source": [
    "#### 11. Write a python program to find below output using loop:-\n",
    " Input: - 'peter piper picked a peck of pickled peppers.'\n",
    " Output:- 'peppers pickled of peck a picked piper peter'"
   ]
  },
  {
   "cell_type": "code",
   "execution_count": 58,
   "id": "abc06b68",
   "metadata": {},
   "outputs": [
    {
     "name": "stdout",
     "output_type": "stream",
     "text": [
      "peppers pickled of peck a picked piper peter\n"
     ]
    }
   ],
   "source": [
    "mystring = \"peter piper picked a peck of pickled peppers\"\n",
    "words = mystring.split()\n",
    "\n",
    "for i in mystring:\n",
    "    \n",
    "    i = list(reversed(words))\n",
    "    \n",
    "print(\" \".join(i))"
   ]
  },
  {
   "cell_type": "markdown",
   "id": "8a4cedd5",
   "metadata": {},
   "source": [
    "#### 12. Write a python program to find below output using loop:-\n",
    " Input: - 'peter piper picked a peck of pickled peppers.'\n",
    " Output:- '.sreppep delkcip fo kcep a dekcip repip retep'"
   ]
  },
  {
   "cell_type": "code",
   "execution_count": 62,
   "id": "ea47ddbd",
   "metadata": {},
   "outputs": [
    {
     "name": "stdout",
     "output_type": "stream",
     "text": [
      ".sreppep delkcip fo kcep a dekcip repip retep\n"
     ]
    }
   ],
   "source": [
    "string = \"peter piper picked a peck of pickled peppers.\"\n",
    "\n",
    "reverse_Str = \"\" \n",
    "count = len(string)\n",
    "while count > 0:   \n",
    "    reverse_Str = reverse_Str + string[ count - 1 ]\n",
    "    count = count - 1   \n",
    "print(reverse_Str)"
   ]
  },
  {
   "cell_type": "code",
   "execution_count": null,
   "id": "3e579cfc",
   "metadata": {},
   "outputs": [],
   "source": []
  },
  {
   "cell_type": "markdown",
   "id": "3286588c",
   "metadata": {},
   "source": [
    "#### 14. Write a python program to find below output using loop:-\n",
    " Input: - 'peter piper picked a peck of pickled peppers.'\n",
    " Output:- 'Peter Piper Picked A Peck Of Pickled Peppers'"
   ]
  },
  {
   "cell_type": "code",
   "execution_count": 60,
   "id": "75966236",
   "metadata": {},
   "outputs": [
    {
     "name": "stdout",
     "output_type": "stream",
     "text": [
      "Peter Piper Picked A Peck Of Pickled Peppers.\n"
     ]
    }
   ],
   "source": [
    "string = \"peter piper picked a peck of pickled peppers.\"\n",
    "\n",
    "new_string = \" \"\n",
    "\n",
    "for i in string:\n",
    "    new_string = string.title()\n",
    "    i =+1\n",
    "print (new_string)"
   ]
  },
  {
   "cell_type": "markdown",
   "id": "630cabd5",
   "metadata": {},
   "source": [
    "#### 15. Write a python program to find below output using loop:-\n",
    " Input: - 'Peter Piper Picked A Peck Of Pickled Peppers.'\n",
    " Output:- 'Peter piper picked a peck of pickled peppers"
   ]
  },
  {
   "cell_type": "code",
   "execution_count": 61,
   "id": "ad305946",
   "metadata": {},
   "outputs": [
    {
     "name": "stdout",
     "output_type": "stream",
     "text": [
      "Peter piper picked a peck of pickled peppers\n"
     ]
    }
   ],
   "source": [
    "string = \"Peter Piper Picked A Peck Of Pickled Peppers\"\n",
    "\n",
    "new_string = \" \"\n",
    "\n",
    "for i in string:\n",
    "    new_string = string.capitalize()\n",
    "    i =+1\n",
    "print (new_string)"
   ]
  },
  {
   "cell_type": "markdown",
   "id": "7f2dfcd5",
   "metadata": {},
   "source": [
    "#### 16.Write a python program to implement index method using loop. If sub_str is found in my_str then it will print the index of first occurrence of first character of matching string in my_str:-\n",
    " Input: - my_str = 'Peter Piper Picked A Peck Of Pickled Peppers.',\n",
    " sub_str = 'Pickl'\n",
    " Output:- 29"
   ]
  },
  {
   "cell_type": "code",
   "execution_count": 63,
   "id": "3d9f651f",
   "metadata": {},
   "outputs": [
    {
     "name": "stdout",
     "output_type": "stream",
     "text": [
      "[29]\n"
     ]
    }
   ],
   "source": [
    "my_string = 'Peter Piper Picked A Peck Of Pickled Peppers.'\n",
    "sub_string = 'Pickl'\n",
    "res = []\n",
    "flag = 0\n",
    "k = 0\n",
    "for i in range(0, len(my_string)):\n",
    "    k = i\n",
    "    flag = 0\n",
    "    for j in range(0, len(sub_string)):\n",
    "        if my_string[k] != sub_string[j]:\n",
    "            flag = 1\n",
    "        if flag:\n",
    "            break\n",
    "        k = k + 1\n",
    "    if flag == 0:\n",
    "        res.append(i)\n",
    "print (res)"
   ]
  },
  {
   "cell_type": "markdown",
   "id": "420ed664",
   "metadata": {},
   "source": [
    "#### 17. Write a python program to implement replace method using loop. If sub_str is found in my_str then it will replace the first occurrence of sub_str with new_str else it will will print sub_str not found:-\n",
    " Input: - my_str = 'Peter Piper Picked A Peck Of Pickled Peppers.',\n",
    " sub_str = 'Peck', new_str = 'Pack'\n",
    " Output: - 'Peter Piper Picked A Pack Of Pickled Peppers.'"
   ]
  },
  {
   "cell_type": "code",
   "execution_count": 64,
   "id": "7e34d784",
   "metadata": {},
   "outputs": [
    {
     "name": "stdout",
     "output_type": "stream",
     "text": [
      "Peter Piper Picked A Pack Of Pickled Peppers.\n"
     ]
    }
   ],
   "source": [
    "my_str = 'Peter Piper Picked A Peck Of Pickled Peppers.'\n",
    "\n",
    "for i in my_str:\n",
    "    i = my_str.replace('Peck','Pack')\n",
    "\n",
    "print (i)"
   ]
  },
  {
   "cell_type": "markdown",
   "id": "7b71a0ce",
   "metadata": {},
   "source": [
    "#### 19.Write a python program to find below output using loop:-\n",
    " Input:- 'This is Python class', sep = ' is',\n",
    " Output:- ['This', 'Python class']"
   ]
  },
  {
   "cell_type": "code",
   "execution_count": 2,
   "id": "8a72505f",
   "metadata": {},
   "outputs": [
    {
     "name": "stdout",
     "output_type": "stream",
     "text": [
      "This Python class\n"
     ]
    }
   ],
   "source": [
    "text = 'This is Python class'\n",
    "word = 'is'\n",
    "\n",
    "wordlist = text.split()\n",
    "if word in wordlist:\n",
    "    newtext = [x for x in wordlist if x not in word]\n",
    "    newtext = ' '.join(newtext)\n",
    "    print(newtext)"
   ]
  },
  {
   "cell_type": "code",
   "execution_count": null,
   "id": "4d60bbcf",
   "metadata": {},
   "outputs": [],
   "source": []
  },
  {
   "cell_type": "markdown",
   "id": "920eb970",
   "metadata": {},
   "source": [
    "#### 20. WAP to read input from user. Allow the user to enter more numbers as long as the user enters valid integers. Terminate the program with proper message when they entered value is anything except integer."
   ]
  },
  {
   "cell_type": "code",
   "execution_count": 5,
   "id": "604a9553",
   "metadata": {},
   "outputs": [
    {
     "name": "stdout",
     "output_type": "stream",
     "text": [
      "a\n",
      "Input is not a valid integer\n"
     ]
    }
   ],
   "source": [
    "num1 = input()\n",
    "i = 0\n",
    "for i in num1:\n",
    "    if i.isdigit() == True:\n",
    "        print ('success')\n",
    "    else:\n",
    "        print ('Input is not a valid integer')"
   ]
  },
  {
   "cell_type": "markdown",
   "id": "5e56d780",
   "metadata": {},
   "source": [
    "#### 21. WAP to read input from a user. Allow the user to enter more numbers as long as the user enters valid numbers. Terminate the program with proper message when the user enters a value anything except valid number."
   ]
  },
  {
   "cell_type": "code",
   "execution_count": 14,
   "id": "58c22d53",
   "metadata": {},
   "outputs": [
    {
     "name": "stdout",
     "output_type": "stream",
     "text": [
      "3\n",
      "success\n"
     ]
    }
   ],
   "source": [
    "num1 = input()\n",
    "i = 0\n",
    "for i in num1:\n",
    "    if i.isdigit() == True:\n",
    "        print ('success')\n",
    "    break\n",
    "    print ('Input is not a valid number')"
   ]
  },
  {
   "cell_type": "code",
   "execution_count": null,
   "id": "450a0e69",
   "metadata": {},
   "outputs": [],
   "source": []
  },
  {
   "cell_type": "code",
   "execution_count": null,
   "id": "09bdcc6c",
   "metadata": {},
   "outputs": [],
   "source": []
  },
  {
   "cell_type": "code",
   "execution_count": null,
   "id": "9f776b90",
   "metadata": {},
   "outputs": [],
   "source": []
  },
  {
   "cell_type": "code",
   "execution_count": null,
   "id": "88de4b3f",
   "metadata": {},
   "outputs": [],
   "source": []
  },
  {
   "cell_type": "code",
   "execution_count": null,
   "id": "1d91be51",
   "metadata": {},
   "outputs": [],
   "source": []
  },
  {
   "cell_type": "code",
   "execution_count": null,
   "id": "bf8f167a",
   "metadata": {},
   "outputs": [],
   "source": []
  },
  {
   "cell_type": "code",
   "execution_count": null,
   "id": "294d4d90",
   "metadata": {},
   "outputs": [],
   "source": []
  },
  {
   "cell_type": "code",
   "execution_count": null,
   "id": "3412ec65",
   "metadata": {},
   "outputs": [],
   "source": []
  },
  {
   "cell_type": "code",
   "execution_count": null,
   "id": "2db20bc2",
   "metadata": {},
   "outputs": [],
   "source": []
  },
  {
   "cell_type": "code",
   "execution_count": null,
   "id": "252bc909",
   "metadata": {},
   "outputs": [],
   "source": []
  },
  {
   "cell_type": "code",
   "execution_count": null,
   "id": "8bf2addf",
   "metadata": {},
   "outputs": [],
   "source": []
  },
  {
   "cell_type": "code",
   "execution_count": null,
   "id": "fd1d4d81",
   "metadata": {},
   "outputs": [],
   "source": []
  },
  {
   "cell_type": "code",
   "execution_count": null,
   "id": "b0d56cd9",
   "metadata": {},
   "outputs": [],
   "source": []
  },
  {
   "cell_type": "code",
   "execution_count": null,
   "id": "553224bc",
   "metadata": {},
   "outputs": [],
   "source": []
  },
  {
   "cell_type": "code",
   "execution_count": null,
   "id": "26c728da",
   "metadata": {},
   "outputs": [],
   "source": []
  },
  {
   "cell_type": "code",
   "execution_count": null,
   "id": "54f455e7",
   "metadata": {},
   "outputs": [],
   "source": []
  },
  {
   "cell_type": "code",
   "execution_count": null,
   "id": "77b091cd",
   "metadata": {},
   "outputs": [],
   "source": []
  },
  {
   "cell_type": "code",
   "execution_count": null,
   "id": "b6a0a0e1",
   "metadata": {},
   "outputs": [],
   "source": []
  },
  {
   "cell_type": "code",
   "execution_count": null,
   "id": "d2c94233",
   "metadata": {},
   "outputs": [],
   "source": []
  },
  {
   "cell_type": "code",
   "execution_count": null,
   "id": "63defde2",
   "metadata": {},
   "outputs": [],
   "source": []
  },
  {
   "cell_type": "code",
   "execution_count": null,
   "id": "c475a5dc",
   "metadata": {},
   "outputs": [],
   "source": []
  },
  {
   "cell_type": "code",
   "execution_count": null,
   "id": "705f09d7",
   "metadata": {},
   "outputs": [],
   "source": []
  },
  {
   "cell_type": "code",
   "execution_count": null,
   "id": "6a7aaa3a",
   "metadata": {},
   "outputs": [],
   "source": []
  },
  {
   "cell_type": "code",
   "execution_count": null,
   "id": "606dc017",
   "metadata": {},
   "outputs": [],
   "source": []
  },
  {
   "cell_type": "code",
   "execution_count": null,
   "id": "3ccb5e4d",
   "metadata": {},
   "outputs": [],
   "source": []
  },
  {
   "cell_type": "code",
   "execution_count": null,
   "id": "216281fe",
   "metadata": {},
   "outputs": [],
   "source": []
  },
  {
   "cell_type": "code",
   "execution_count": null,
   "id": "2c0b75e6",
   "metadata": {},
   "outputs": [],
   "source": []
  },
  {
   "cell_type": "code",
   "execution_count": null,
   "id": "78c7b1b3",
   "metadata": {},
   "outputs": [],
   "source": []
  },
  {
   "cell_type": "code",
   "execution_count": null,
   "id": "3333e6e4",
   "metadata": {},
   "outputs": [],
   "source": []
  },
  {
   "cell_type": "code",
   "execution_count": null,
   "id": "e744836b",
   "metadata": {},
   "outputs": [],
   "source": []
  },
  {
   "cell_type": "code",
   "execution_count": null,
   "id": "6eb5c699",
   "metadata": {},
   "outputs": [],
   "source": []
  },
  {
   "cell_type": "code",
   "execution_count": null,
   "id": "beb112ad",
   "metadata": {},
   "outputs": [],
   "source": []
  },
  {
   "cell_type": "code",
   "execution_count": null,
   "id": "b110b129",
   "metadata": {},
   "outputs": [],
   "source": [
    "for i in test_str:\n",
    "    if i in all_freq:\n",
    "        all_freq[i] += 1\n",
    "    else:\n",
    "        all_freq[i] = 1"
   ]
  },
  {
   "cell_type": "code",
   "execution_count": null,
   "id": "6c5b870d",
   "metadata": {},
   "outputs": [],
   "source": []
  },
  {
   "cell_type": "code",
   "execution_count": null,
   "id": "f6cea0bc",
   "metadata": {},
   "outputs": [],
   "source": []
  },
  {
   "cell_type": "code",
   "execution_count": null,
   "id": "0a99c811",
   "metadata": {},
   "outputs": [],
   "source": []
  },
  {
   "cell_type": "code",
   "execution_count": null,
   "id": "5fa43db1",
   "metadata": {},
   "outputs": [],
   "source": []
  },
  {
   "cell_type": "code",
   "execution_count": null,
   "id": "4cde39be",
   "metadata": {},
   "outputs": [],
   "source": []
  },
  {
   "cell_type": "code",
   "execution_count": null,
   "id": "62b20ea2",
   "metadata": {},
   "outputs": [],
   "source": []
  },
  {
   "cell_type": "code",
   "execution_count": null,
   "id": "167c93a4",
   "metadata": {},
   "outputs": [],
   "source": []
  },
  {
   "cell_type": "code",
   "execution_count": null,
   "id": "cc5f9601",
   "metadata": {},
   "outputs": [],
   "source": []
  },
  {
   "cell_type": "code",
   "execution_count": null,
   "id": "d5658300",
   "metadata": {},
   "outputs": [],
   "source": []
  },
  {
   "cell_type": "code",
   "execution_count": null,
   "id": "6342539e",
   "metadata": {},
   "outputs": [],
   "source": []
  },
  {
   "cell_type": "code",
   "execution_count": null,
   "id": "7288fee8",
   "metadata": {},
   "outputs": [],
   "source": []
  },
  {
   "cell_type": "code",
   "execution_count": null,
   "id": "5311ec53",
   "metadata": {},
   "outputs": [],
   "source": []
  },
  {
   "cell_type": "code",
   "execution_count": null,
   "id": "868c9def",
   "metadata": {},
   "outputs": [],
   "source": []
  },
  {
   "cell_type": "code",
   "execution_count": null,
   "id": "e788ee4d",
   "metadata": {},
   "outputs": [],
   "source": []
  },
  {
   "cell_type": "code",
   "execution_count": null,
   "id": "8a3a4df9",
   "metadata": {},
   "outputs": [],
   "source": []
  },
  {
   "cell_type": "code",
   "execution_count": null,
   "id": "b302d133",
   "metadata": {},
   "outputs": [],
   "source": []
  }
 ],
 "metadata": {
  "kernelspec": {
   "display_name": "Python 3",
   "language": "python",
   "name": "python3"
  },
  "language_info": {
   "codemirror_mode": {
    "name": "ipython",
    "version": 3
   },
   "file_extension": ".py",
   "mimetype": "text/x-python",
   "name": "python",
   "nbconvert_exporter": "python",
   "pygments_lexer": "ipython3",
   "version": "3.8.8"
  }
 },
 "nbformat": 4,
 "nbformat_minor": 5
}
