{
 "cells": [
  {
   "cell_type": "code",
   "execution_count": 1,
   "id": "725a5bd8",
   "metadata": {},
   "outputs": [
    {
     "data": {
      "text/plain": [
       "dict_keys(['Tom', 'Kathy'])"
      ]
     },
     "execution_count": 1,
     "metadata": {},
     "output_type": "execute_result"
    }
   ],
   "source": [
    "emp_info = {'Tom' : {'email':'tom_latham019@gmail.com',\n",
    "           'Phone': +1987654321,'City': 'California' },\n",
    "           'Kathy' : {'email':'kathy_abram897@gmail.com',\n",
    "            'Phone': +1987654321,'City': 'New York' }}\n",
    "emp_info.keys()"
   ]
  },
  {
   "cell_type": "code",
   "execution_count": 16,
   "id": "b1c370a8",
   "metadata": {},
   "outputs": [],
   "source": [
    "emp_info.get('Phone')"
   ]
  },
  {
   "cell_type": "code",
   "execution_count": null,
   "id": "4cb20a2f",
   "metadata": {},
   "outputs": [],
   "source": []
  },
  {
   "cell_type": "code",
   "execution_count": null,
   "id": "442572d5",
   "metadata": {},
   "outputs": [],
   "source": []
  },
  {
   "cell_type": "code",
   "execution_count": null,
   "id": "c0d8a525",
   "metadata": {},
   "outputs": [],
   "source": []
  },
  {
   "cell_type": "code",
   "execution_count": null,
   "id": "db2dc3ae",
   "metadata": {},
   "outputs": [],
   "source": []
  },
  {
   "cell_type": "code",
   "execution_count": null,
   "id": "42973fea",
   "metadata": {},
   "outputs": [],
   "source": []
  }
 ],
 "metadata": {
  "kernelspec": {
   "display_name": "Python 3",
   "language": "python",
   "name": "python3"
  },
  "language_info": {
   "codemirror_mode": {
    "name": "ipython",
    "version": 3
   },
   "file_extension": ".py",
   "mimetype": "text/x-python",
   "name": "python",
   "nbconvert_exporter": "python",
   "pygments_lexer": "ipython3",
   "version": "3.8.8"
  }
 },
 "nbformat": 4,
 "nbformat_minor": 5
}
