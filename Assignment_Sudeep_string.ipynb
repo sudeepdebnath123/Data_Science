{
 "cells": [
  {
   "cell_type": "markdown",
   "id": "0e536bfa",
   "metadata": {},
   "source": [
    "#### 1. Program to reverse a string.\n"
   ]
  },
  {
   "cell_type": "code",
   "execution_count": 2,
   "id": "0f84f886",
   "metadata": {},
   "outputs": [
    {
     "name": "stdout",
     "output_type": "stream",
     "text": [
      "margorP\n"
     ]
    }
   ],
   "source": [
    "str =\"Program\"[::-1]\n",
    "print (str)"
   ]
  },
  {
   "cell_type": "markdown",
   "id": "c43a9d02",
   "metadata": {},
   "source": [
    "#### 2. Program to check if string is palindrome or not: "
   ]
  },
  {
   "cell_type": "code",
   "execution_count": 3,
   "id": "6e557622",
   "metadata": {},
   "outputs": [
    {
     "name": "stdout",
     "output_type": "stream",
     "text": [
      "The string is a palindrome.\n"
     ]
    }
   ],
   "source": [
    "# Python String casefold()\n",
    "# The casefold() method is an aggressive lower() method which converts strings to case folded strings for caseless matching. \n",
    "# The casefold() method removes all case distinctions present in a string. \n",
    "# It is used for caseless matching, i.e. ignores cases when comparing.\n",
    "\n",
    "str1 = 'mom'\n",
    "# caseless comparison\n",
    "str1 = str1.casefold()\n",
    "# reverse the string\n",
    "rev_str = reversed(str1)\n",
    "\n",
    "# check if the string is equal to its reverse\n",
    "if list(str1) == list(rev_str):\n",
    "    print(\"The string is a palindrome.\")\n",
    "else:\n",
    "    print(\"The string is not a palindrome.\")"
   ]
  },
  {
   "cell_type": "markdown",
   "id": "b586ff26",
   "metadata": {},
   "source": [
    "#### 3. Python Program to Replace all Occurrences of ‘a’ with $ in a String from user:"
   ]
  },
  {
   "cell_type": "code",
   "execution_count": 4,
   "id": "365635e0",
   "metadata": {},
   "outputs": [
    {
     "data": {
      "text/plain": [
       "'Python is $ OOPs l$ngu$ge'"
      ]
     },
     "execution_count": 4,
     "metadata": {},
     "output_type": "execute_result"
    }
   ],
   "source": [
    "mystr = 'Python is a OOPs language'\n",
    "mystr.replace('a', '$')"
   ]
  },
  {
   "cell_type": "markdown",
   "id": "4ab568ce",
   "metadata": {},
   "source": [
    "#### 4.Input Two Strings and Display the Larger String without Using Built-in Functions:\n"
   ]
  },
  {
   "cell_type": "code",
   "execution_count": 6,
   "id": "7298c9a3",
   "metadata": {},
   "outputs": [
    {
     "name": "stdout",
     "output_type": "stream",
     "text": [
      "the longest string is printing\n"
     ]
    }
   ],
   "source": [
    "str1 = 'print'\n",
    "str2 = 'printing'\n",
    "if len(str1)> len(str2):\n",
    "    print('the longest string is' ,str1)\n",
    "else:\n",
    "    print('the longest string is', str2)"
   ]
  },
  {
   "cell_type": "markdown",
   "id": "0dcc9c77",
   "metadata": {},
   "source": [
    "#### 5. Count the number of digits & letter in a string"
   ]
  },
  {
   "cell_type": "code",
   "execution_count": 8,
   "id": "e3591b7e",
   "metadata": {},
   "outputs": [
    {
     "name": "stdout",
     "output_type": "stream",
     "text": [
      "Input a string myphone 9902345\n",
      "Total count of Letters 7\n",
      "total count of Digits 7\n"
     ]
    }
   ],
   "source": [
    "str1 = input(\"Input a string \")\n",
    "#start count of digits\n",
    "dig_1 = 0 \n",
    "#start count of letters\n",
    "let_1 = 0\n",
    "for i in str1:\n",
    "    if i.isdigit(): #isdigit to validate the number\n",
    "        dig_1 = dig_1+1\n",
    "    elif i.isalpha(): #isalpha to validate the alphabetical\n",
    "        let_1 = let_1+1\n",
    "    else:\n",
    "        pass\n",
    "print(\"Total count of Letters\", let_1)\n",
    "print(\"total count of Digits\", dig_1)"
   ]
  },
  {
   "cell_type": "markdown",
   "id": "92c5d9cd",
   "metadata": {},
   "source": [
    "#### 6. Count Number of Lowercase Characters in a String:"
   ]
  },
  {
   "cell_type": "code",
   "execution_count": 9,
   "id": "f475c849",
   "metadata": {},
   "outputs": [
    {
     "name": "stdout",
     "output_type": "stream",
     "text": [
      "Enter a string Python\n",
      "Total count of lower string in Python is 5\n"
     ]
    }
   ],
   "source": [
    "#  using islower() built in function\n",
    "string1 = input('Enter a string ')\n",
    "count   = 0\n",
    "\n",
    "for i in string1:\n",
    "    if(i.islower()):\n",
    "        count = count + 1\n",
    "if(count == 0):  \n",
    "        print ('No lower case is found in the string.')\n",
    "else:\n",
    "        print ('Total count of lower string in',string1,'is',count)"
   ]
  },
  {
   "cell_type": "markdown",
   "id": "4fdb3fe2",
   "metadata": {},
   "source": [
    "#### 7. Program to check if a Substring is Present in a Given String:"
   ]
  },
  {
   "cell_type": "code",
   "execution_count": 10,
   "id": "e436e7ed",
   "metadata": {},
   "outputs": [
    {
     "name": "stdout",
     "output_type": "stream",
     "text": [
      "Enter string:Python language\n",
      "Enter word: language\n",
      "Substring in string\n"
     ]
    }
   ],
   "source": [
    "# using find() built in fucntion to find the substring in string\n",
    "\n",
    "str1    = input(\"Enter string:\")\n",
    "sub_str = input(\"Enter word: \")\n",
    "if(str1.find(sub_str) == -1):\n",
    "      print(\"Substring not found in string\")\n",
    "else:\n",
    "      print(\"Substring in string\")"
   ]
  },
  {
   "cell_type": "code",
   "execution_count": null,
   "id": "90998b3f",
   "metadata": {},
   "outputs": [],
   "source": []
  },
  {
   "cell_type": "code",
   "execution_count": null,
   "id": "375eb2f5",
   "metadata": {},
   "outputs": [],
   "source": []
  },
  {
   "cell_type": "code",
   "execution_count": null,
   "id": "51fae850",
   "metadata": {},
   "outputs": [],
   "source": []
  },
  {
   "cell_type": "code",
   "execution_count": null,
   "id": "d76322af",
   "metadata": {},
   "outputs": [],
   "source": []
  }
 ],
 "metadata": {
  "kernelspec": {
   "display_name": "Python 3",
   "language": "python",
   "name": "python3"
  },
  "language_info": {
   "codemirror_mode": {
    "name": "ipython",
    "version": 3
   },
   "file_extension": ".py",
   "mimetype": "text/x-python",
   "name": "python",
   "nbconvert_exporter": "python",
   "pygments_lexer": "ipython3",
   "version": "3.8.8"
  }
 },
 "nbformat": 4,
 "nbformat_minor": 5
}
