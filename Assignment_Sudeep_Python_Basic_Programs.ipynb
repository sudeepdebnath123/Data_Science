{
 "cells": [
  {
   "cell_type": "markdown",
   "id": "9abbae92",
   "metadata": {},
   "source": [
    "#### Q1. Print Hello world! \n"
   ]
  },
  {
   "cell_type": "code",
   "execution_count": 1,
   "id": "6a85d717",
   "metadata": {},
   "outputs": [
    {
     "name": "stdout",
     "output_type": "stream",
     "text": [
      "Hello World!\n"
     ]
    }
   ],
   "source": [
    "print ('Hello World!')"
   ]
  },
  {
   "cell_type": "markdown",
   "id": "61016fb2",
   "metadata": {},
   "source": [
    "#### Q2. Declare the following variables: Int, Float, Boolean, String & print its value."
   ]
  },
  {
   "cell_type": "code",
   "execution_count": 15,
   "id": "b4f04756",
   "metadata": {},
   "outputs": [
    {
     "name": "stdout",
     "output_type": "stream",
     "text": [
      "5\n",
      "4.0\n",
      "False\n",
      "Str\n"
     ]
    }
   ],
   "source": [
    "num1 = int(5)\n",
    "num2 = float(4)\n",
    "num3 = 5 \n",
    "str1 = 'Str'\n",
    "print(num1)\n",
    "print(num2)\n",
    "print(num3 <= num2)\n",
    "print(str1) "
   ]
  },
  {
   "cell_type": "markdown",
   "id": "1c8e0403",
   "metadata": {},
   "source": [
    "#### Q3. Program to calculate the Area Of Triangle:"
   ]
  },
  {
   "cell_type": "code",
   "execution_count": 18,
   "id": "86bad2a9",
   "metadata": {},
   "outputs": [
    {
     "name": "stdout",
     "output_type": "stream",
     "text": [
      "enter the base of the triangle  10\n",
      "enter the height of the triangle 20\n",
      "Area of the triangle is  100.0\n"
     ]
    }
   ],
   "source": [
    "# b1 is base of the triangle\n",
    "# h1 is height of the triangle\n",
    "# A1 is the area of the triangle\n",
    "b1 = int(input('enter the base of the triangle  '))\n",
    "h1 = int(input('enter the height of the triangle '))\n",
    "A1 = (0.5*(b1*h1))\n",
    "print ('Area of the triangle is ', A1)"
   ]
  },
  {
   "cell_type": "markdown",
   "id": "dacbe1a1",
   "metadata": {},
   "source": [
    "#### Q4. Program to calculate area of a square."
   ]
  },
  {
   "cell_type": "code",
   "execution_count": 20,
   "id": "2569c7ab",
   "metadata": {},
   "outputs": [
    {
     "name": "stdout",
     "output_type": "stream",
     "text": [
      "enter the side of the square  10\n",
      "Area of the sqaure is  100\n"
     ]
    }
   ],
   "source": [
    "# len1 is side of the square\n",
    "# A1 is the area of the square\n",
    "len1 = int(input('enter the side of the square  '))\n",
    "A1 = len1**2\n",
    "print ('Area of the sqaure is ', A1)"
   ]
  },
  {
   "cell_type": "markdown",
   "id": "0782bf74",
   "metadata": {},
   "source": [
    "#### Q5. Program to swap two variables:"
   ]
  },
  {
   "cell_type": "code",
   "execution_count": null,
   "id": "330df469",
   "metadata": {},
   "outputs": [],
   "source": [
    "var1 = 100\n",
    "var2 = 10\n",
    "var2 = var1\n",
    "print (var1)"
   ]
  },
  {
   "cell_type": "markdown",
   "id": "494a4dd7",
   "metadata": {},
   "source": [
    "#### Q6. Program is to check if a number is positive, negative or zero."
   ]
  },
  {
   "cell_type": "code",
   "execution_count": 21,
   "id": "ebc915c9",
   "metadata": {},
   "outputs": [
    {
     "name": "stdout",
     "output_type": "stream",
     "text": [
      "-4\n",
      "negative\n"
     ]
    }
   ],
   "source": [
    "num1 = int(input())\n",
    "if num1 >= 0:\n",
    "    print ('Positive')\n",
    "if num1 < 0:\n",
    "    print ('negative')\n",
    "if num1 == 0:\n",
    "    print ('Zero')"
   ]
  },
  {
   "cell_type": "markdown",
   "id": "741f04fd",
   "metadata": {},
   "source": [
    "#### Q7. Program is to check if a number is Even or Odd.\n"
   ]
  },
  {
   "cell_type": "code",
   "execution_count": null,
   "id": "7132c987",
   "metadata": {},
   "outputs": [],
   "source": [
    "num1 = int(input())\n",
    "if num1%2 == 0:\n",
    "    print ('number is even', format(num1))\n",
    "elif num1%2 != 0:\n",
    "    print ('number is odd', format(num1))"
   ]
  },
  {
   "cell_type": "markdown",
   "id": "c301a1f0",
   "metadata": {},
   "source": [
    "#### Q8. Program to print Odd number within a given range."
   ]
  },
  {
   "cell_type": "code",
   "execution_count": 22,
   "id": "8a2da22f",
   "metadata": {},
   "outputs": [
    {
     "name": "stdout",
     "output_type": "stream",
     "text": [
      "10\n",
      "1\n",
      "3\n",
      "5\n",
      "7\n",
      "9\n"
     ]
    }
   ],
   "source": [
    "num1= input()\n",
    "for i in range(10):\n",
    "    if i%2 != 0:\n",
    "        print(i)"
   ]
  },
  {
   "cell_type": "markdown",
   "id": "31d184eb",
   "metadata": {},
   "source": [
    "#### Q9. Python program to find the factorial of a number."
   ]
  },
  {
   "cell_type": "code",
   "execution_count": 23,
   "id": "3add9554",
   "metadata": {},
   "outputs": [
    {
     "name": "stdout",
     "output_type": "stream",
     "text": [
      "6\n",
      "The factorial of 6 is 720\n"
     ]
    }
   ],
   "source": [
    "num1 = int(input())\n",
    "factorial = 1\n",
    "if num1 < 0:\n",
    "    print('error')\n",
    "else:\n",
    "    for i in range(1, num1 + 1):\n",
    "        factorial = factorial*i     \n",
    "    print(\"The factorial of\",num1,\"is\",factorial)"
   ]
  },
  {
   "cell_type": "markdown",
   "id": "7352b8ba",
   "metadata": {},
   "source": [
    "#### Q10. Program to reverse a given number."
   ]
  },
  {
   "cell_type": "code",
   "execution_count": 24,
   "id": "750ae05f",
   "metadata": {},
   "outputs": [
    {
     "name": "stdout",
     "output_type": "stream",
     "text": [
      "Enter number: 4321\n",
      "Reverse of the number: 1234\n"
     ]
    }
   ],
   "source": [
    "n=int(input(\"Enter number: \"))\n",
    "rev=0\n",
    "while(n>0):\n",
    "    num1=n%10\n",
    "    rev=rev*10+num1\n",
    "    n=n//10\n",
    "print(\"Reverse of the number:\",rev)"
   ]
  },
  {
   "cell_type": "markdown",
   "id": "75b442b9",
   "metadata": {},
   "source": [
    "#### Q11. Program to find out the sum of N Natural numbers."
   ]
  },
  {
   "cell_type": "code",
   "execution_count": 25,
   "id": "49831388",
   "metadata": {},
   "outputs": [
    {
     "name": "stdout",
     "output_type": "stream",
     "text": [
      "enter your number 8\n",
      "sum of 8 is 36.0\n"
     ]
    }
   ],
   "source": [
    "n = int(input('enter your number '))\n",
    "sum_1 = 0.5*n*(n+1)\n",
    "print ('sum of',n, \"is\", sum_1)"
   ]
  },
  {
   "cell_type": "code",
   "execution_count": null,
   "id": "ef69ea35",
   "metadata": {},
   "outputs": [],
   "source": []
  },
  {
   "cell_type": "code",
   "execution_count": null,
   "id": "a3e2f853",
   "metadata": {},
   "outputs": [],
   "source": []
  },
  {
   "cell_type": "code",
   "execution_count": null,
   "id": "3440fc19",
   "metadata": {},
   "outputs": [],
   "source": []
  },
  {
   "cell_type": "code",
   "execution_count": null,
   "id": "3345d7a5",
   "metadata": {},
   "outputs": [],
   "source": []
  },
  {
   "cell_type": "code",
   "execution_count": null,
   "id": "190de83d",
   "metadata": {},
   "outputs": [],
   "source": []
  },
  {
   "cell_type": "code",
   "execution_count": null,
   "id": "d01b9e18",
   "metadata": {},
   "outputs": [],
   "source": []
  }
 ],
 "metadata": {
  "kernelspec": {
   "display_name": "Python 3",
   "language": "python",
   "name": "python3"
  },
  "language_info": {
   "codemirror_mode": {
    "name": "ipython",
    "version": 3
   },
   "file_extension": ".py",
   "mimetype": "text/x-python",
   "name": "python",
   "nbconvert_exporter": "python",
   "pygments_lexer": "ipython3",
   "version": "3.8.8"
  }
 },
 "nbformat": 4,
 "nbformat_minor": 5
}
