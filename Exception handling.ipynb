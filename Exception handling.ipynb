{
 "cells": [
  {
   "cell_type": "code",
   "execution_count": 1,
   "id": "fdb73cd2",
   "metadata": {},
   "outputs": [
    {
     "name": "stdout",
     "output_type": "stream",
     "text": [
      "enter your number 10\n",
      "Enter your number 0\n",
      "2nd number is zero\n",
      "10\n",
      "0\n"
     ]
    }
   ],
   "source": [
    "num1 = int(input('enter your number '))\n",
    "num2 = int(input('Enter your number '))\n",
    "try:\n",
    "    res = num1/num2\n",
    "except:\n",
    "    print('2nd number is zero')\n",
    "else:\n",
    "    print(res)\n",
    "print(num1)\n",
    "print(num2)"
   ]
  },
  {
   "cell_type": "code",
   "execution_count": null,
   "id": "95e6c81b",
   "metadata": {},
   "outputs": [],
   "source": [
    "#Execptions only Runtime error which can be handled are called Exceptions. \n",
    "#try except else finally raise"
   ]
  },
  {
   "cell_type": "code",
   "execution_count": 10,
   "id": "3fae079f",
   "metadata": {},
   "outputs": [
    {
     "name": "stdout",
     "output_type": "stream",
     "text": [
      "enter your number 10\n",
      "Enter your number 3\n",
      "String can be concat with String\n",
      "unsupported operand type(s) for +: 'int' and 'str'\n"
     ]
    }
   ],
   "source": [
    "try:\n",
    "    num3 = int(input('enter your number '))\n",
    "    num4 = int(input('Enter your number '))\n",
    "    res = num3/num4\n",
    "    print(num3+'Python')\n",
    "except ZeroDivisionError as E1:\n",
    "    print('A number cannot be divided by Zero')\n",
    "    print(E1)\n",
    "except ValueError as E2:\n",
    "    print('Only int allowed')\n",
    "    print(E2)\n",
    "except TypeError as E3:\n",
    "    print('String can be concat with String')\n",
    "    print(E3)"
   ]
  },
  {
   "cell_type": "code",
   "execution_count": 2,
   "id": "567bc8d2",
   "metadata": {},
   "outputs": [
    {
     "name": "stdout",
     "output_type": "stream",
     "text": [
      "['ArithmeticError', 'AssertionError', 'AttributeError', 'BaseException', 'BlockingIOError', 'BrokenPipeError', 'BufferError', 'BytesWarning', 'ChildProcessError', 'ConnectionAbortedError', 'ConnectionError', 'ConnectionRefusedError', 'ConnectionResetError', 'DeprecationWarning', 'EOFError', 'Ellipsis', 'EnvironmentError', 'Exception', 'False', 'FileExistsError', 'FileNotFoundError', 'FloatingPointError', 'FutureWarning', 'GeneratorExit', 'IOError', 'ImportError', 'ImportWarning', 'IndentationError', 'IndexError', 'InterruptedError', 'IsADirectoryError', 'KeyError', 'KeyboardInterrupt', 'LookupError', 'MemoryError', 'ModuleNotFoundError', 'NameError', 'None', 'NotADirectoryError', 'NotImplemented', 'NotImplementedError', 'OSError', 'OverflowError', 'PendingDeprecationWarning', 'PermissionError', 'ProcessLookupError', 'RecursionError', 'ReferenceError', 'ResourceWarning', 'RuntimeError', 'RuntimeWarning', 'StopAsyncIteration', 'StopIteration', 'SyntaxError', 'SyntaxWarning', 'SystemError', 'SystemExit', 'TabError', 'TimeoutError', 'True', 'TypeError', 'UnboundLocalError', 'UnicodeDecodeError', 'UnicodeEncodeError', 'UnicodeError', 'UnicodeTranslateError', 'UnicodeWarning', 'UserWarning', 'ValueError', 'Warning', 'WindowsError', 'ZeroDivisionError', '__IPYTHON__', '__build_class__', '__debug__', '__doc__', '__import__', '__loader__', '__name__', '__package__', '__spec__', 'abs', 'all', 'any', 'ascii', 'bin', 'bool', 'breakpoint', 'bytearray', 'bytes', 'callable', 'chr', 'classmethod', 'compile', 'complex', 'copyright', 'credits', 'delattr', 'dict', 'dir', 'display', 'divmod', 'enumerate', 'eval', 'exec', 'filter', 'float', 'format', 'frozenset', 'get_ipython', 'getattr', 'globals', 'hasattr', 'hash', 'help', 'hex', 'id', 'input', 'int', 'isinstance', 'issubclass', 'iter', 'len', 'license', 'list', 'locals', 'map', 'max', 'memoryview', 'min', 'next', 'object', 'oct', 'open', 'ord', 'pow', 'print', 'property', 'range', 'repr', 'reversed', 'round', 'set', 'setattr', 'slice', 'sorted', 'staticmethod', 'str', 'sum', 'super', 'tuple', 'type', 'vars', 'zip']\n"
     ]
    }
   ],
   "source": [
    "print(dir(__builtins__))"
   ]
  },
  {
   "cell_type": "code",
   "execution_count": 12,
   "id": "4197e94e",
   "metadata": {},
   "outputs": [
    {
     "name": "stdout",
     "output_type": "stream",
     "text": [
      "enter your number 10\n",
      "Enter your number a\n",
      "Common code\n",
      "invalid literal for int() with base 10: 'a'\n"
     ]
    }
   ],
   "source": [
    "try:\n",
    "    num3 = int(input('enter your number '))\n",
    "    num4 = int(input('Enter your number '))\n",
    "    res = num3/num4\n",
    "    print(num3+'Python')\n",
    "except (ZeroDivisionError,ValueError,TypeError) as E1:\n",
    "    print('Common code')\n",
    "    print(E1)\n"
   ]
  },
  {
   "cell_type": "code",
   "execution_count": 13,
   "id": "07de9047",
   "metadata": {},
   "outputs": [
    {
     "name": "stdout",
     "output_type": "stream",
     "text": [
      "enter your number 10\n",
      "Enter your number 3\n",
      "classPython\n",
      "string index out of range\n"
     ]
    }
   ],
   "source": [
    "#default exception block \n",
    "try:\n",
    "    num3 = int(input('enter your number '))\n",
    "    num4 = int(input('Enter your number '))\n",
    "    res = num3/num4\n",
    "    print('class'+'Python')\n",
    "    print('Python'[9])\n",
    "except ZeroDivisionError as E1:\n",
    "    print('A number cannot be divided by Zero')\n",
    "    print(E1)\n",
    "except ValueError as E2:\n",
    "    print('Only int allowed')\n",
    "    print(E2)\n",
    "except TypeError as E3:\n",
    "    print('String can be concat with String')\n",
    "    print(E3)\n",
    "except Exception as E:  #all errors can be caght here. its aprent of all exceptions. write always at the end. \n",
    "    print(E)"
   ]
  },
  {
   "cell_type": "code",
   "execution_count": 15,
   "id": "37c0f67f",
   "metadata": {},
   "outputs": [
    {
     "name": "stdout",
     "output_type": "stream",
     "text": [
      "enter your number 10\n",
      "Enter your number 0\n",
      "num2 cannot be zero\n"
     ]
    }
   ],
   "source": [
    "#nested try and except block\n",
    "try:\n",
    "    num3 = int(input('enter your number '))\n",
    "    num4 = int(input('Enter your number '))\n",
    "    print(num3/num4)\n",
    "    try:\n",
    "        num5 = int(input('enter your number '))\n",
    "        print(num3/num5)\n",
    "    except:\n",
    "        print('num3 cannot be zero')\n",
    "except:\n",
    "    print('num2 cannot be zero')\n"
   ]
  },
  {
   "cell_type": "code",
   "execution_count": 17,
   "id": "2992afb1",
   "metadata": {},
   "outputs": [],
   "source": [
    "f = open('f1.py', 'a')\n",
    "f.write('\\n Python')\n",
    "# print(f.read())\n",
    "f.close()"
   ]
  },
  {
   "cell_type": "code",
   "execution_count": 19,
   "id": "d5d2dc7f",
   "metadata": {},
   "outputs": [
    {
     "name": "stdout",
     "output_type": "stream",
     "text": [
      "read not allowed in append mode \n"
     ]
    }
   ],
   "source": [
    "f = open('f1.py', 'a')\n",
    "try:\n",
    "    f.write('\\n Python is important')\n",
    "    print(f.read())\n",
    "except:\n",
    "    print('read not allowed in append mode ')\n",
    "finally:\n",
    "    f.close()"
   ]
  },
  {
   "cell_type": "code",
   "execution_count": 20,
   "id": "4325b963",
   "metadata": {},
   "outputs": [],
   "source": [
    "#user defined exceptions:\n",
    "class myException(Exception):\n",
    "    def __init__(self,msg):\n",
    "        self.msg = msg "
   ]
  },
  {
   "cell_type": "code",
   "execution_count": 21,
   "id": "e38dbc85",
   "metadata": {},
   "outputs": [],
   "source": [
    "def Deposit_amount(amt):\n",
    "    if amt>50000:\n",
    "        raise myException('Amount is more than 50k')\n",
    "    else:\n",
    "        print('empauint is depsotied')"
   ]
  },
  {
   "cell_type": "code",
   "execution_count": 24,
   "id": "a0f69575",
   "metadata": {},
   "outputs": [
    {
     "name": "stdout",
     "output_type": "stream",
     "text": [
      "Amount is more than 50k\n"
     ]
    }
   ],
   "source": [
    "try:\n",
    "    Deposit_amount(70000)\n",
    "except myException as e:\n",
    "    print(e)\n",
    "    "
   ]
  },
  {
   "cell_type": "code",
   "execution_count": null,
   "id": "2aa1465e",
   "metadata": {},
   "outputs": [],
   "source": [
    "#Regular Expression\n",
    "# a pattern used to extract infomration from the striing using string.\n",
    "\n"
   ]
  },
  {
   "cell_type": "code",
   "execution_count": 26,
   "id": "b791d05b",
   "metadata": {},
   "outputs": [],
   "source": [
    "import re"
   ]
  },
  {
   "cell_type": "code",
   "execution_count": null,
   "id": "b94c014d",
   "metadata": {},
   "outputs": [],
   "source": [
    "# match - match the pattern in the begining of the string and returns a match object\n",
    "# search - match the pattern in the string  and returns  a match object of first occurent of pattern\n",
    "# findall - find all the occurences of the pattern  and returns a list\n",
    "# finditier- find all the occurences of the pattern  and returns a iterable object\n",
    "\n",
    "# if we get a match then to extract the information we use a group method"
   ]
  },
  {
   "cell_type": "code",
   "execution_count": 33,
   "id": "9f4bb735",
   "metadata": {},
   "outputs": [
    {
     "name": "stdout",
     "output_type": "stream",
     "text": [
      "9at\n",
      "(0, 3)\n"
     ]
    }
   ],
   "source": [
    "import re\n",
    "with open('f3.py','r') as f1:\n",
    "    content = f1.read()\n",
    "    pattern = r'\\wat'   #\\w is for alpahanumeric caharcer\n",
    "    res = re.match(pattern,content)\n",
    "    print(res.group())\n",
    "    print(res.span()) # match index start and stop index"
   ]
  },
  {
   "cell_type": "code",
   "execution_count": 39,
   "id": "ff6c9f1d",
   "metadata": {},
   "outputs": [
    {
     "name": "stdout",
     "output_type": "stream",
     "text": [
      "<re.Match object; span=(20, 23), match='9at'>\n",
      "9at\n",
      "(20, 23)\n"
     ]
    }
   ],
   "source": [
    "import re\n",
    "with open('f3.py','r') as f1:\n",
    "    content = f1.read()\n",
    "    pattern = r'\\wat'   #\\w is for alpahanumeric caharcer\n",
    "    res = re.search(pattern,content)  # first occurence of the pattern\n",
    "    print(res)\n",
    "    print(res.group())\n",
    "    print(res.span())"
   ]
  },
  {
   "cell_type": "code",
   "execution_count": null,
   "id": "384e44e7",
   "metadata": {},
   "outputs": [],
   "source": []
  },
  {
   "cell_type": "code",
   "execution_count": null,
   "id": "e0813d0f",
   "metadata": {},
   "outputs": [],
   "source": []
  },
  {
   "cell_type": "code",
   "execution_count": null,
   "id": "0bdb9e6f",
   "metadata": {},
   "outputs": [],
   "source": []
  },
  {
   "cell_type": "code",
   "execution_count": null,
   "id": "ff723f69",
   "metadata": {},
   "outputs": [],
   "source": []
  }
 ],
 "metadata": {
  "kernelspec": {
   "display_name": "Python 3",
   "language": "python",
   "name": "python3"
  },
  "language_info": {
   "codemirror_mode": {
    "name": "ipython",
    "version": 3
   },
   "file_extension": ".py",
   "mimetype": "text/x-python",
   "name": "python",
   "nbconvert_exporter": "python",
   "pygments_lexer": "ipython3",
   "version": "3.8.8"
  }
 },
 "nbformat": 4,
 "nbformat_minor": 5
}
