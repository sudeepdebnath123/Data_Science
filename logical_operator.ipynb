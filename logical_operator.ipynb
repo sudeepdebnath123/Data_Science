{
 "cells": [
  {
   "cell_type": "code",
   "execution_count": null,
   "id": "e4ee526e",
   "metadata": {},
   "outputs": [],
   "source": [
    "year = int(input('Enter a year  '))\n",
    "if ((year%400 == 0) or ((year%4==0) and (year%100!=0))):\n",
    "           print ('Year is a leap year')      \n"
   ]
  },
  {
   "cell_type": "code",
   "execution_count": null,
   "id": "550c0107",
   "metadata": {},
   "outputs": [],
   "source": []
  }
 ],
 "metadata": {
  "kernelspec": {
   "display_name": "Python 3",
   "language": "python",
   "name": "python3"
  },
  "language_info": {
   "codemirror_mode": {
    "name": "ipython",
    "version": 3
   },
   "file_extension": ".py",
   "mimetype": "text/x-python",
   "name": "python",
   "nbconvert_exporter": "python",
   "pygments_lexer": "ipython3",
   "version": "3.8.8"
  }
 },
 "nbformat": 4,
 "nbformat_minor": 5
}
