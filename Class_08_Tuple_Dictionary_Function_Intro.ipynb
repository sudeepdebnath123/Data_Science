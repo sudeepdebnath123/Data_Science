{
 "cells": [
  {
   "cell_type": "code",
   "execution_count": 140,
   "id": "940fb479",
   "metadata": {
    "ExecuteTime": {
     "end_time": "2021-07-04T05:42:53.890156Z",
     "start_time": "2021-07-04T05:42:53.878346Z"
    }
   },
   "outputs": [
    {
     "name": "stdout",
     "output_type": "stream",
     "text": [
      "1\n",
      "10\n",
      "20\n",
      "2\n",
      "10\n"
     ]
    }
   ],
   "source": [
    "#Q. Use break statement properly. The code is:\n",
    "x = [1, 2]\n",
    "y = [10, 100]\n",
    "for i in x: \n",
    "    for j in y: \n",
    "        if i % 2 == 0: \n",
    "            print(i * j)\n",
    "        print(i)\n",
    "        break\n",
    "    print(j)\n",
    "    \n",
    "# Output is:-\n",
    "# 1\n",
    "# 10\n",
    "# 20\n",
    "# 2\n",
    "# 10"
   ]
  },
  {
   "cell_type": "code",
   "execution_count": 4,
   "id": "7dce6ed3",
   "metadata": {
    "ExecuteTime": {
     "end_time": "2021-07-04T03:18:59.348812Z",
     "start_time": "2021-07-04T03:18:59.340743Z"
    }
   },
   "outputs": [
    {
     "name": "stdout",
     "output_type": "stream",
     "text": [
      "1\n",
      "1\n",
      "100\n",
      "10\n"
     ]
    }
   ],
   "source": [
    "#Q. Use break statement properly. The code is:\n",
    "x = [1, 2]\n",
    "y = [10, 100]\n",
    "for i in x: \n",
    "    for j in y: \n",
    "        if i % 2 == 0: \n",
    "            break\n",
    "            print(i * j)\n",
    "        print(i)\n",
    "    print(j)\n",
    "    \n",
    "\n",
    "# Output is:-\n",
    "# 1\n",
    "# 1\n",
    "# 100\n",
    "# 10"
   ]
  },
  {
   "cell_type": "code",
   "execution_count": 5,
   "id": "981e0557",
   "metadata": {
    "ExecuteTime": {
     "end_time": "2021-07-04T03:21:24.232974Z",
     "start_time": "2021-07-04T03:21:24.217533Z"
    }
   },
   "outputs": [
    {
     "name": "stdout",
     "output_type": "stream",
     "text": [
      "1\n",
      "1\n",
      "100\n",
      "20\n",
      "200\n",
      "100\n"
     ]
    }
   ],
   "source": [
    "# Use continue statement properly\n",
    "# x = [1, 2]\n",
    "# y = [10, 100]\n",
    "# for i in x:\n",
    "#     for j in y:\n",
    "#         if i % 2 == 0:\n",
    "#             print(i * j)\n",
    "#             continue\n",
    "#         print(i)\n",
    "#     print(j)\n",
    "    \n",
    "# 1\n",
    "# 1\n",
    "# 100\n",
    "# 20  \n",
    "# 200\n",
    "# 100"
   ]
  },
  {
   "cell_type": "code",
   "execution_count": null,
   "id": "26b19206",
   "metadata": {},
   "outputs": [],
   "source": [
    "# Tuple\n",
    "\n",
    "# Uses small backets - () - optional\n",
    "# It is a collection of heterogeneous elements\n",
    "# elements are separated by comma\n",
    "# Tuple is immutable object\n",
    "# Tuple is a seq-\n",
    "    1. INdexing, Slicing, Concatenation, Reptition\n",
    "    2. It supports +ve and -ve indexing both\n",
    "    3. +ve index starta from 0 from LHS\n",
    "    4. -ve index starts from -1 from RHS\n",
    "# Typle can have duplicate lements\n"
   ]
  },
  {
   "cell_type": "code",
   "execution_count": 18,
   "id": "bafba9f4",
   "metadata": {
    "ExecuteTime": {
     "end_time": "2021-07-04T03:35:04.382924Z",
     "start_time": "2021-07-04T03:35:00.247924Z"
    }
   },
   "outputs": [
    {
     "name": "stdout",
     "output_type": "stream",
     "text": [
      "Enter a tuple: 'Python',\n",
      "('Python',) <class 'tuple'>\n"
     ]
    }
   ],
   "source": [
    "# Create a tuple\n",
    "\n",
    "# tpl = (10, 10.20, 10+20j, 'Python', True, None, [1,2,3], (1,2,3))\n",
    "# print(tpl, type(tpl))\n",
    "\n",
    "# tpl = 10, 10.20, 10+20j, 'Python', True, None, [1,2,3], (1,2,3)\n",
    "# print(tpl, type(tpl))\n",
    "\n",
    "# Creating a tuple with single element\n",
    "# a = 10.20,\n",
    "# print(a, type(a))\n",
    "\n",
    "# Creating a tuple using tuple()\n",
    "# a = tuple('Python')\n",
    "# print(a, type(a))\n",
    "\n",
    "# a = tuple([10,20,30,40])\n",
    "# print(a, type(a))\n",
    "\n",
    "# a = tuple((1,2,3,4))\n",
    "# print(a, type(a))\n",
    "\n",
    "# a = tuple({1:100, 2:200, 3:300, 4:400})\n",
    "# print(a, type(a))\n",
    "\n",
    "# Taking tuple as input from user\n",
    "tpl = eval(input('Enter a tuple: '))\n",
    "print(tpl, type(tpl))\n",
    "\n",
    "# a = ('Python',)\n",
    "# print(a, type(a))\n"
   ]
  },
  {
   "cell_type": "code",
   "execution_count": 23,
   "id": "2e82c873",
   "metadata": {
    "ExecuteTime": {
     "end_time": "2021-07-04T03:39:26.412652Z",
     "start_time": "2021-07-04T03:39:26.409378Z"
    }
   },
   "outputs": [],
   "source": [
    "# Immutability of tuple object\n",
    "# 1. Item assignment is not possible\n",
    "\n",
    "# tpl = (10, 10.20, 10+20j, 'Python', True, None)\n",
    "# tpl[2] = 111\n",
    "\n",
    "# Changes will not be done in same object\n",
    "# tpl = (10, 10.20, 10+20j, 'Python', True, None)\n",
    "# print('Before Operation')\n",
    "# print(tpl, id(tpl))\n",
    "# tpl1 = tpl +(111, )\n",
    "# print('After Operation')\n",
    "# print(tpl1, id(tpl1))\n",
    "# print()\n",
    "# print(tpl, id(tpl))\n"
   ]
  },
  {
   "cell_type": "code",
   "execution_count": 26,
   "id": "c8da5991",
   "metadata": {
    "ExecuteTime": {
     "end_time": "2021-07-04T03:41:33.969806Z",
     "start_time": "2021-07-04T03:41:33.961591Z"
    }
   },
   "outputs": [
    {
     "name": "stdout",
     "output_type": "stream",
     "text": [
      "('Shreyansh', 'LB101', 100000) <class 'tuple'>\n"
     ]
    }
   ],
   "source": [
    "# Tuple packing - Assiging multiple values to a single variable\n",
    "\n",
    "# a = 10,20,30,40,50,60,70\n",
    "# print(a, type(a))\n",
    "\n",
    "emp_name = 'Shreyansh'\n",
    "emp_id = 'LB101'\n",
    "emp_sal = 100000\n",
    "\n",
    "emp_det = emp_name, emp_id, emp_sal\n",
    "print(emp_det, type(emp_det))\n"
   ]
  },
  {
   "cell_type": "code",
   "execution_count": 32,
   "id": "4f8ba1e2",
   "metadata": {
    "ExecuteTime": {
     "end_time": "2021-07-04T03:47:30.687371Z",
     "start_time": "2021-07-04T03:47:30.673816Z"
    }
   },
   "outputs": [],
   "source": [
    "# Tuple Unpacking\n",
    "# No of element inside the tuple and no of variable should match\n",
    "\n",
    "# e_name, e_id, e_sal = emp_det\n",
    "# print(e_name)\n",
    "# print(e_id)\n",
    "# print(e_sal)\n",
    "\n"
   ]
  },
  {
   "cell_type": "code",
   "execution_count": 33,
   "id": "2337bed4",
   "metadata": {
    "ExecuteTime": {
     "end_time": "2021-07-04T03:48:01.253799Z",
     "start_time": "2021-07-04T03:48:01.247209Z"
    }
   },
   "outputs": [
    {
     "name": "stdout",
     "output_type": "stream",
     "text": [
      "10\n",
      "20\n",
      "30\n",
      "40\n"
     ]
    }
   ],
   "source": [
    "# lst = [10,20,30,40]\n",
    "# a,b,c,d = lst\n",
    "# print(a)\n",
    "# print(b)\n",
    "# print(c)\n",
    "# print(d)"
   ]
  },
  {
   "cell_type": "code",
   "execution_count": 38,
   "id": "425d7b38",
   "metadata": {
    "ExecuteTime": {
     "end_time": "2021-07-04T03:50:16.389247Z",
     "start_time": "2021-07-04T03:50:16.380957Z"
    }
   },
   "outputs": [],
   "source": [
    "# Tuple methods\n",
    "# print(dir(tpl))\n",
    "\n",
    "# 'count', 'index'\n",
    "\n",
    "# tpl = (10,2,200,3,10,20,300,4,45,10,10,11,10,109,10)\n",
    "# print(tpl.count(10))\n",
    "\n",
    "\n",
    "# tpl = (10,2,200,3,10,20,300,4,45,10,10,11,10,109,10)\n",
    "# print(tpl.index(20))\n"
   ]
  },
  {
   "cell_type": "code",
   "execution_count": 42,
   "id": "45cc0680",
   "metadata": {
    "ExecuteTime": {
     "end_time": "2021-07-04T03:52:38.723603Z",
     "start_time": "2021-07-04T03:52:38.716768Z"
    }
   },
   "outputs": [
    {
     "name": "stdout",
     "output_type": "stream",
     "text": [
      "(10, 20, 30, 40, 111)\n"
     ]
    }
   ],
   "source": [
    "tpl = (10,20,30,40)\n",
    "# tpl += 111,\n",
    "# print(tpl)\n",
    "\n",
    "lst = list(tpl)\n",
    "lst.append(111)\n",
    "tpl = tuple(lst)\n",
    "print(tpl)"
   ]
  },
  {
   "cell_type": "code",
   "execution_count": 67,
   "id": "aab1bd4a",
   "metadata": {
    "ExecuteTime": {
     "end_time": "2021-07-04T04:18:08.320770Z",
     "start_time": "2021-07-04T04:18:08.302038Z"
    }
   },
   "outputs": [
    {
     "data": {
      "text/plain": [
       "['P', 'h', 'n', 'o', 't', 'y']"
      ]
     },
     "execution_count": 67,
     "metadata": {},
     "output_type": "execute_result"
    }
   ],
   "source": [
    "# Few Built-in Functions\n",
    "\n",
    "# zip(iter1, iter2, iter3)\n",
    "\n",
    "# list(zip('Python', [10,20,30,40,50]))\n",
    "\n",
    "\n",
    "# enumerate(iterable)\n",
    "\n",
    "# list(enumerate('Python'))\n",
    "\n",
    "\n",
    "# reversed(iterable)\n",
    "# list(reversed('Python'))\n",
    "\n",
    "# list(reversed([10,20,30,40]))\n",
    "\n",
    "# sorted(iterable)\n",
    "sorted('Python')\n",
    "\n",
    "\n",
    "\n",
    "\n",
    "\n",
    "\n"
   ]
  },
  {
   "cell_type": "code",
   "execution_count": 56,
   "id": "1194d510",
   "metadata": {
    "ExecuteTime": {
     "end_time": "2021-07-04T04:10:27.626152Z",
     "start_time": "2021-07-04T04:10:27.613087Z"
    }
   },
   "outputs": [
    {
     "name": "stdout",
     "output_type": "stream",
     "text": [
      "20\n"
     ]
    }
   ],
   "source": [
    "# Dictionary - {}\n",
    "\n",
    "emp_name = 'Shreyansh'\n",
    "emp_id = 'LB101'\n",
    "emp_sal = 100000 \n",
    "\n",
    "# lst = ['Shreyansh', 'LB101', 100000]\n",
    "# print(lst)\n",
    "\n",
    "# Dintionary - collection of key:value pair, elements(key:value) are separated by comma\n",
    "# Dictionary is not a seq, so indexing, slicing, concatenation, repetition is not allowed\n",
    "# You can access the value from keys\n",
    "# you can not access keys from value\n",
    "# emp_dict = {'emp_name':'Shreyansh', 'emp_id':'LB101', 'emp_sal':100000}\n",
    "# print(emp_dict)\n",
    "# print(emp_dict['emp_id'])\n",
    "\n",
    "# Dictionary is mutable object\n",
    "# key should be immutable and value should be mutable\n",
    "\n",
    "# my_dict = {1:100, 2:200, [1,2,3]:(1,2,3)}\n",
    "# print(my_dict)\n",
    "\n",
    "# Key can not be duplicated and values can be duplicated\n",
    "\n",
    "# my_dict = {1:100,20,300}  # Error\n",
    "my_dict = {1:100, 20.30:200, 20+30j:900, True:None, 'P':'Python,', (1,2,3):[10,20,30], 20.30:'Learnbay'}\n",
    "print(my_dict[(1,2,3)][1])\n",
    "\n",
    "# key                 -> value\n",
    "# 1                   -> None\n",
    "# 20.30               -> 'Learnbay'\n",
    "# 20+30j              -> 900\n",
    "# 'P'                 -> 'Python'\n",
    "# (1,2,3)             -> [10,20,30]\n",
    "\n",
    "\n",
    "\n"
   ]
  },
  {
   "cell_type": "code",
   "execution_count": 80,
   "id": "93717c22",
   "metadata": {
    "ExecuteTime": {
     "end_time": "2021-07-04T04:30:17.942844Z",
     "start_time": "2021-07-04T04:30:17.930474Z"
    }
   },
   "outputs": [
    {
     "data": {
      "text/plain": [
       "{'P': 0, 'y': 1, 't': 2, 'h': 3, 'o': 4, 'n': 5}"
      ]
     },
     "execution_count": 80,
     "metadata": {},
     "output_type": "execute_result"
    }
   ],
   "source": [
    "# Creating a dictionry\n",
    "\n",
    "# Taking dictionary as input\n",
    "# d = eval(input('Enter a dictionary: '))\n",
    "# print(d, type(d))\n",
    "\n",
    "# using dict function\n",
    "# d = dict([(1,100), (2, 200), (3, 300)])\n",
    "# print(d, type(d))\n",
    "\n",
    "\n",
    "dict([ele[::-1] for ele in enumerate('Python')])\n",
    "\n",
    "# emp_lst = 'Shreyansh', 'LB101', 10000\n",
    "# emp_key = ['emp_name','emp_id', 'emp_sal' ]\n",
    "# emp_det = dict(zip(emp_key, emp_lst))\n",
    "# print(emp_det)\n"
   ]
  },
  {
   "cell_type": "code",
   "execution_count": 84,
   "id": "eeafbb1d",
   "metadata": {
    "ExecuteTime": {
     "end_time": "2021-07-04T04:49:32.293895Z",
     "start_time": "2021-07-04T04:49:32.280954Z"
    }
   },
   "outputs": [
    {
     "name": "stdout",
     "output_type": "stream",
     "text": [
      "{'emp_name': 'Shreyansh', 'emp_id': 'LB101', 'emp_sal': 10000}\n",
      "{'emp_name': 'Shreyansh', 'emp_id': 'LBPY1111', 'emp_sal': 10000}\n",
      "{'emp_name': 'Shreyansh', 'emp_id': 'LBPY1111', 'emp_sal': 10000, 'emp_addr': 'BLR'}\n"
     ]
    }
   ],
   "source": [
    "# Updating the dictionary\n",
    "\n",
    "emp_lst = 'Shreyansh', 'LB101', 10000\n",
    "emp_key = ['emp_name','emp_id', 'emp_sal' ]\n",
    "emp_det = dict(zip(emp_key, emp_lst))\n",
    "print(emp_det)\n",
    "emp_det['emp_id'] = 'LBPY1111'\n",
    "print(emp_det)\n",
    "\n",
    "emp_det['emp_addr'] = 'BLR'\n",
    "print(emp_det)\n",
    "\n",
    "\n",
    "\n"
   ]
  },
  {
   "cell_type": "code",
   "execution_count": 86,
   "id": "42a79e38",
   "metadata": {
    "ExecuteTime": {
     "end_time": "2021-07-04T04:50:15.854595Z",
     "start_time": "2021-07-04T04:50:15.838686Z"
    }
   },
   "outputs": [
    {
     "data": {
      "text/plain": [
       "'BLR'"
      ]
     },
     "execution_count": 86,
     "metadata": {},
     "output_type": "execute_result"
    }
   ],
   "source": [
    "# Accessing elements from dictionary\n",
    "emp_det['emp_id']\n",
    "emp_det['emp_addr']\n",
    "# emp_det['emp_city']   # keyError"
   ]
  },
  {
   "cell_type": "code",
   "execution_count": 76,
   "id": "17147280",
   "metadata": {
    "ExecuteTime": {
     "end_time": "2021-07-04T04:28:05.147562Z",
     "start_time": "2021-07-04T04:28:05.136193Z"
    }
   },
   "outputs": [
    {
     "name": "stdout",
     "output_type": "stream",
     "text": [
      "['__class__', '__contains__', '__delattr__', '__delitem__', '__dir__', '__doc__', '__eq__', '__format__', '__ge__', '__getattribute__', '__getitem__', '__gt__', '__hash__', '__init__', '__init_subclass__', '__iter__', '__le__', '__len__', '__lt__', '__ne__', '__new__', '__reduce__', '__reduce_ex__', '__repr__', '__reversed__', '__setattr__', '__setitem__', '__sizeof__', '__str__', '__subclasshook__', 'clear', 'copy', 'fromkeys', 'get', 'items', 'keys', 'pop', 'popitem', 'setdefault', 'update', 'values']\n"
     ]
    }
   ],
   "source": [
    "# print(dir(dict))\n",
    "#  'copy',  "
   ]
  },
  {
   "cell_type": "code",
   "execution_count": 91,
   "id": "f0555f35",
   "metadata": {
    "ExecuteTime": {
     "end_time": "2021-07-04T04:52:42.397645Z",
     "start_time": "2021-07-04T04:52:42.378525Z"
    }
   },
   "outputs": [
    {
     "name": "stdout",
     "output_type": "stream",
     "text": [
      "{'emp_name': 'Shreyansh', 'emp_id': 'LBPY1111', 'emp_sal': 10000, 'emp_addr': 'BLR'}\n",
      "10000\n",
      "None\n",
      "Key does not exist\n",
      "{'emp_name': 'Shreyansh', 'emp_id': 'LBPY1111', 'emp_sal': 10000, 'emp_addr': 'BLR'}\n"
     ]
    }
   ],
   "source": [
    "# Dictionary methods\n",
    "\n",
    "# get(key) - it returns the associated value if key is present else returns None if key is not present\n",
    "# get(key, value) - it returns the associated value if key is present else returns value if key is not present\n",
    "\n",
    "print(emp_det)\n",
    "print(emp_det.get('emp_sal', ))\n",
    "print(emp_det.get('emp_city', ))\n",
    "print(emp_det.get('emp_city', 'Key does not exist'))\n",
    "print(emp_det)\n",
    "\n",
    "\n",
    "\n"
   ]
  },
  {
   "cell_type": "code",
   "execution_count": 95,
   "id": "2b1849ad",
   "metadata": {
    "ExecuteTime": {
     "end_time": "2021-07-04T04:55:57.711023Z",
     "start_time": "2021-07-04T04:55:57.701169Z"
    }
   },
   "outputs": [
    {
     "name": "stdout",
     "output_type": "stream",
     "text": [
      "10000\n",
      "987654\n",
      "{'emp_name': 'Shreyansh', 'emp_id': 'LBPY1111', 'emp_sal': 10000, 'emp_addr': 'BLR', 'emp_city': None, 'emp_pin': 987654}\n"
     ]
    }
   ],
   "source": [
    "# setdefault(key) - it returns the associated value if key is present else returns None if key is not present\n",
    "    # and update the dictionary with key:None\n",
    "# setdefault(key, value) - it returns the associated value if key is present else returns value if key is not present\n",
    "    # and updates the dictionary with key:value\n",
    "    \n",
    "print(emp_det.setdefault('emp_sal', ))\n",
    "# print(emp_det.setdefault('emp_city', ))\n",
    "# print(emp_det)\n",
    "print(emp_det.setdefault('emp_pin', 987654))\n",
    "print(emp_det)\n",
    "\n"
   ]
  },
  {
   "cell_type": "code",
   "execution_count": 101,
   "id": "18c4783f",
   "metadata": {
    "ExecuteTime": {
     "end_time": "2021-07-04T05:00:12.611569Z",
     "start_time": "2021-07-04T05:00:12.598550Z"
    }
   },
   "outputs": [
    {
     "name": "stdout",
     "output_type": "stream",
     "text": [
      "{'emp_name': 'Shreyansh', 'emp_id': 'LB101', 'emp_sal': 10000}\n",
      "{'emp_name': 'Shreyansh', 'emp_id': 'LBPY111', 'emp_sal': 10000, 'emp_city': 'Bangalore', 'emp_state': 'Karnataka'}\n"
     ]
    }
   ],
   "source": [
    "# 'update', - similar to extend method in list\n",
    "\n",
    "emp_lst = 'Shreyansh', 'LB101', 10000\n",
    "emp_key = ['emp_name','emp_id', 'emp_sal' ]\n",
    "emp_det = dict(zip(emp_key, emp_lst))\n",
    "print(emp_det)\n",
    "\n",
    "emp_info = {'emp_city':'Bangalore', 'emp_state':'Karnataka', 'emp_id':'LBPY111'}\n",
    "\n",
    "# Updating emp_info in emp_det\n",
    "emp_det.update(emp_info)\n",
    "print(emp_det)\n",
    "\n"
   ]
  },
  {
   "cell_type": "code",
   "execution_count": 104,
   "id": "35e85d96",
   "metadata": {
    "ExecuteTime": {
     "end_time": "2021-07-04T05:02:05.840458Z",
     "start_time": "2021-07-04T05:02:05.834570Z"
    }
   },
   "outputs": [
    {
     "name": "stdout",
     "output_type": "stream",
     "text": [
      "{'P': 10, 'y': 10, 't': 10, 'h': 10, 'o': 10, 'n': 10}\n"
     ]
    }
   ],
   "source": [
    "# fromkeys(iterable, default = None)\n",
    "# Creates a dictionary where the elements of iterable will be key and default is set as value of each key\n",
    "\n",
    "d = {}\n",
    "d = d.fromkeys('Python', 10)\n",
    "print(d)\n"
   ]
  },
  {
   "cell_type": "code",
   "execution_count": 113,
   "id": "396772b0",
   "metadata": {
    "ExecuteTime": {
     "end_time": "2021-07-04T05:06:29.195440Z",
     "start_time": "2021-07-04T05:06:29.175322Z"
    }
   },
   "outputs": [
    {
     "data": {
      "text/plain": [
       "('emp_state', 'Karnataka')"
      ]
     },
     "execution_count": 113,
     "metadata": {},
     "output_type": "execute_result"
    }
   ],
   "source": [
    "# pop(k) - if key is available removes the key value pair from dictionary and if key is not present then gives key error\n",
    "# pop(k, v) - if key is available removes the key value pair from dictionary and if key is not present then give \"v\" as output\n",
    "\n",
    "\n",
    "emp_lst = 'Shreyansh', 'LB101', 10000\n",
    "emp_key = ['emp_name','emp_id', 'emp_sal' ]\n",
    "emp_det = dict(zip(emp_key, emp_lst))\n",
    "# print(emp_det)\n",
    "\n",
    "emp_info = {'emp_city':'Bangalore', 'emp_state':'Karnataka', 'emp_id':'LBPY111'}\n",
    "\n",
    "# Updating emp_info in emp_det\n",
    "emp_det.update(emp_info)\n",
    "# print(emp_det)\n",
    "\n",
    "# emp_det.pop('emp_id')\n",
    "# print(emp_det)\n",
    "\n",
    "# emp_det.pop('emp_pin', 'Key does not exist')\n",
    "\n",
    "# popitem() - by default removes the last entry from the dictionary\n",
    "emp_det.popitem()\n",
    "\n"
   ]
  },
  {
   "cell_type": "code",
   "execution_count": 120,
   "id": "7ab83da5",
   "metadata": {
    "ExecuteTime": {
     "end_time": "2021-07-04T05:08:32.291182Z",
     "start_time": "2021-07-04T05:08:32.272007Z"
    }
   },
   "outputs": [
    {
     "data": {
      "text/plain": [
       "[('emp_name', 'Shreyansh'),\n",
       " ('emp_id', 'LBPY111'),\n",
       " ('emp_sal', 10000),\n",
       " ('emp_city', 'Bangalore')]"
      ]
     },
     "execution_count": 120,
     "metadata": {},
     "output_type": "execute_result"
    }
   ],
   "source": [
    "#  'items', 'keys',  'values'\n",
    "\n",
    "# print(list(emp_det))\n",
    "\n",
    "list(emp_det.keys())\n",
    "\n",
    "list(emp_det.values())\n",
    "\n",
    "list(emp_det.items())"
   ]
  },
  {
   "cell_type": "code",
   "execution_count": 122,
   "id": "4663c6bf",
   "metadata": {
    "ExecuteTime": {
     "end_time": "2021-07-04T05:09:29.215385Z",
     "start_time": "2021-07-04T05:09:29.209842Z"
    }
   },
   "outputs": [
    {
     "name": "stdout",
     "output_type": "stream",
     "text": [
      "{}\n"
     ]
    }
   ],
   "source": [
    "# 'clear',\n",
    "\n",
    "emp_det.clear()\n",
    "print(emp_det)"
   ]
  },
  {
   "cell_type": "code",
   "execution_count": 126,
   "id": "259d5082",
   "metadata": {
    "ExecuteTime": {
     "end_time": "2021-07-04T05:15:09.556814Z",
     "start_time": "2021-07-04T05:15:09.542322Z"
    }
   },
   "outputs": [
    {
     "data": {
      "text/plain": [
       "{'abhishek': 'gmail',\n",
       " 'shreyansh': 'yahoo',\n",
       " 'Krishna': 'hotmail',\n",
       " 'Rahul': 'rediffmail'}"
      ]
     },
     "execution_count": 126,
     "metadata": {},
     "output_type": "execute_result"
    }
   ],
   "source": [
    "# Dictionary comprehension\n",
    "\n",
    "# {key:value for ele in iterable}\n",
    "\n",
    "email_lst = ['abhishek@gmail.com', 'shreyansh@yahoo.com', 'Krishna@hotmail.com', 'Rahul@rediffmail.com']\n",
    "\n",
    "{email_lst[ele][:email_lst[ele].index('@')] : email_lst[ele][email_lst[ele].index('@')+1:email_lst[ele].index('.')] \n",
    " for ele in range(4)}\n",
    "\n"
   ]
  },
  {
   "cell_type": "code",
   "execution_count": 139,
   "id": "8ef22d2c",
   "metadata": {
    "ExecuteTime": {
     "end_time": "2021-07-04T05:32:28.390154Z",
     "start_time": "2021-07-04T05:32:28.377945Z"
    }
   },
   "outputs": [
    {
     "name": "stdout",
     "output_type": "stream",
     "text": [
      "[10, 20, 30, [1, 2, 3]]\n",
      "[10, 20, 30, [1, 222, 3]]\n",
      "4511658368\n",
      "4502250752\n"
     ]
    }
   ],
   "source": [
    "# Shallow copy and deep copy - Mutable object\n",
    "\n",
    "# Aliasing\n",
    "lst = [10,20,30,40]\n",
    "lst1 = lst\n",
    "# print(lst == lst1)\n",
    "# print(lst is lst1)\n",
    "# print(id(lst))\n",
    "# print(id(lst1))\n",
    "# lst1[0] =111\n",
    "# print(lst)\n",
    "# print(lst1)\n",
    "\n",
    "\n",
    "\n",
    "# Shallow copy - slicing, copy\n",
    "\n",
    "# lst = [10,20,30,40]\n",
    "# lst2 = lst[::]\n",
    "# print(lst == lst2)\n",
    "# print(lst is lst2)\n",
    "# print(id(lst))\n",
    "# print(id(lst2))\n",
    "\n",
    "# lst2[0] =111\n",
    "# print(lst)\n",
    "# print(lst2)\n",
    "\n",
    "\n",
    "# lst = [10,20,30,[1,2,3]]\n",
    "# lst3 = lst[::]\n",
    "# print(lst is lst3)\n",
    "# print(id(lst[-1]))\n",
    "# print(id(lst3[-1]))\n",
    "\n",
    "# lst[-1][1] = 222\n",
    "# print(lst)\n",
    "# print(lst3)\n",
    "\n",
    "\n",
    "# Deepcopy - deepcopy\n",
    "from copy import deepcopy\n",
    "lst = [10,20,30,[1,2,3]]\n",
    "lst4 = deepcopy(lst)\n",
    "lst4[-1][1] = 222\n",
    "print(lst)\n",
    "print(lst4)\n",
    "\n",
    "print(id(lst[-1]))\n",
    "print(id(lst4[-1]))\n",
    "\n",
    "\n",
    "\n"
   ]
  },
  {
   "cell_type": "code",
   "execution_count": 141,
   "id": "c7206bc8",
   "metadata": {
    "ExecuteTime": {
     "end_time": "2021-07-04T05:43:35.058991Z",
     "start_time": "2021-07-04T05:43:35.050609Z"
    }
   },
   "outputs": [
    {
     "name": "stdout",
     "output_type": "stream",
     "text": [
      "1\n",
      "10\n",
      "20\n",
      "2\n",
      "10\n"
     ]
    }
   ],
   "source": [
    "# Functions Intro\n",
    "\n",
    "# def my_func():\n",
    "#     x = [1, 2]\n",
    "#     y = [10, 100]\n",
    "#     for i in x: \n",
    "#         for j in y: \n",
    "#             if i % 2 == 0: \n",
    "#                 print(i * j)\n",
    "#             print(i)\n",
    "#             break\n",
    "#         print(j)\n",
    "\n",
    "# my_func()\n",
    "\n",
    "# Advantage of function - code reuse"
   ]
  },
  {
   "cell_type": "code",
   "execution_count": 144,
   "id": "64e3e547",
   "metadata": {
    "ExecuteTime": {
     "end_time": "2021-07-04T05:45:55.741838Z",
     "start_time": "2021-07-04T05:45:55.735124Z"
    }
   },
   "outputs": [],
   "source": [
    "# Built-in Function - len, float, tuple, list\n",
    "# User Defined Function - def"
   ]
  },
  {
   "cell_type": "code",
   "execution_count": null,
   "id": "844928e3",
   "metadata": {},
   "outputs": [],
   "source": [
    "# Syntax of defining the function\n",
    "\n",
    "\n",
    "def func_name(param):\n",
    "    '''documentation'''\n",
    "    code\n",
    "    code\n",
    "    code\n",
    "    return stat"
   ]
  },
  {
   "cell_type": "code",
   "execution_count": null,
   "id": "c55649e8",
   "metadata": {
    "ExecuteTime": {
     "end_time": "2021-07-04T05:43:48.061602Z",
     "start_time": "2021-07-04T05:43:48.043626Z"
    }
   },
   "outputs": [],
   "source": [
    "# Synrtax of function call\n",
    "func_name(arg)"
   ]
  },
  {
   "cell_type": "code",
   "execution_count": 148,
   "id": "89dce4e6",
   "metadata": {
    "ExecuteTime": {
     "end_time": "2021-07-04T05:49:34.920370Z",
     "start_time": "2021-07-04T05:49:34.908346Z"
    }
   },
   "outputs": [
    {
     "name": "stdout",
     "output_type": "stream",
     "text": [
      "Documentation\n"
     ]
    }
   ],
   "source": [
    "def my_func():\n",
    "    '''Documentation'''\n",
    "    \n",
    "my_func()\n",
    "\n",
    "# To access the documentation\n",
    "print(my_func.__doc__)"
   ]
  },
  {
   "cell_type": "code",
   "execution_count": 151,
   "id": "5a41a508",
   "metadata": {
    "ExecuteTime": {
     "end_time": "2021-07-04T05:51:35.209836Z",
     "start_time": "2021-07-04T05:51:35.203956Z"
    }
   },
   "outputs": [
    {
     "name": "stdout",
     "output_type": "stream",
     "text": [
      "10\n",
      "20\n",
      "30\n"
     ]
    }
   ],
   "source": [
    "# Parameters are called the input ot the function\n",
    "def my_func(a, b, c):\n",
    "    print(a)\n",
    "    print(b)\n",
    "    print(c)\n",
    "    \n",
    "# a,b,c are parameters and they are called input ot the function\n",
    "# Arguments are actual values\n",
    "# Parameters are the variable which stores the arguments\n",
    "\n",
    "my_func(10,20,30)"
   ]
  },
  {
   "cell_type": "code",
   "execution_count": null,
   "id": "2b9b22ab",
   "metadata": {},
   "outputs": [],
   "source": [
    "# Types of Parametrs\n",
    "    1. Positional Parameters\n",
    "    2. Default Paraneters\n",
    "    3. Keyworded Arguments\n",
    "    4. Variable length positional arguments - *args\n",
    "    Variable length keyworded arguments - **kwargs"
   ]
  },
  {
   "cell_type": "code",
   "execution_count": 161,
   "id": "056c73f1",
   "metadata": {
    "ExecuteTime": {
     "end_time": "2021-07-04T06:03:09.968687Z",
     "start_time": "2021-07-04T06:03:09.952370Z"
    }
   },
   "outputs": [],
   "source": [
    "# 1. Positional Parameters\n",
    "# Order is important\n",
    "# No of argument and parameters shuld also match\n",
    "\n",
    "# Filter the list of email ids where length of user name is more than 10\n",
    "\n",
    "def lst_filter(lst, len_usr_name):\n",
    "    for email in lst:\n",
    "        if len(email[:email.index('@')]) > len_usr_name:\n",
    "            print(email)\n",
    "\n",
    "# lst_filter(lst_email, 10)\n",
    "# lst_filter(lst_email)\n",
    "# lst_filter(lst_email, 10, 20)"
   ]
  },
  {
   "cell_type": "code",
   "execution_count": 153,
   "id": "b7b05f5a",
   "metadata": {
    "ExecuteTime": {
     "end_time": "2021-07-04T06:01:21.852869Z",
     "start_time": "2021-07-04T06:01:21.848706Z"
    }
   },
   "outputs": [],
   "source": [
    "lst_email = ['eric.lopez@gmail.com',\n",
    "'eric.lund@gmail.com',\n",
    "'eric.m.boehm@gmail.com',\n",
    "'eric.mack@gmail.com',\n",
    "'eric.mason@gmail.com',\n",
    "'eric.mathews@gmail.com',\n",
    "'eric.maynard@gmail.com',\n",
    "'eric.mckinney@gmail.com',\n",
    "'eric.meredith@gmail.com']"
   ]
  },
  {
   "cell_type": "code",
   "execution_count": null,
   "id": "cb824111",
   "metadata": {},
   "outputs": [],
   "source": []
  },
  {
   "cell_type": "code",
   "execution_count": null,
   "id": "902083c5",
   "metadata": {},
   "outputs": [],
   "source": []
  },
  {
   "cell_type": "code",
   "execution_count": null,
   "id": "3747bb43",
   "metadata": {},
   "outputs": [],
   "source": []
  },
  {
   "cell_type": "code",
   "execution_count": null,
   "id": "949754b2",
   "metadata": {},
   "outputs": [],
   "source": []
  },
  {
   "cell_type": "code",
   "execution_count": null,
   "id": "b35815ae",
   "metadata": {},
   "outputs": [],
   "source": []
  },
  {
   "cell_type": "code",
   "execution_count": null,
   "id": "d47d9f0b",
   "metadata": {},
   "outputs": [],
   "source": []
  },
  {
   "cell_type": "code",
   "execution_count": null,
   "id": "d16cd23c",
   "metadata": {},
   "outputs": [],
   "source": []
  },
  {
   "cell_type": "code",
   "execution_count": null,
   "id": "67b7c070",
   "metadata": {},
   "outputs": [],
   "source": []
  },
  {
   "cell_type": "code",
   "execution_count": null,
   "id": "b61dac9a",
   "metadata": {},
   "outputs": [],
   "source": []
  },
  {
   "cell_type": "code",
   "execution_count": null,
   "id": "00d5f8e2",
   "metadata": {},
   "outputs": [],
   "source": []
  },
  {
   "cell_type": "code",
   "execution_count": null,
   "id": "52fa0533",
   "metadata": {},
   "outputs": [],
   "source": []
  },
  {
   "cell_type": "code",
   "execution_count": null,
   "id": "9ee61842",
   "metadata": {},
   "outputs": [],
   "source": []
  },
  {
   "cell_type": "code",
   "execution_count": null,
   "id": "d2cf9b1f",
   "metadata": {},
   "outputs": [],
   "source": []
  },
  {
   "cell_type": "code",
   "execution_count": null,
   "id": "bfcfa15a",
   "metadata": {},
   "outputs": [],
   "source": []
  },
  {
   "cell_type": "code",
   "execution_count": null,
   "id": "ad0ab356",
   "metadata": {},
   "outputs": [],
   "source": []
  },
  {
   "cell_type": "code",
   "execution_count": null,
   "id": "59acc927",
   "metadata": {},
   "outputs": [],
   "source": []
  },
  {
   "cell_type": "code",
   "execution_count": null,
   "id": "d5c63e74",
   "metadata": {},
   "outputs": [],
   "source": []
  },
  {
   "cell_type": "code",
   "execution_count": null,
   "id": "07e1225f",
   "metadata": {},
   "outputs": [],
   "source": []
  },
  {
   "cell_type": "code",
   "execution_count": null,
   "id": "06e11d80",
   "metadata": {},
   "outputs": [],
   "source": []
  },
  {
   "cell_type": "code",
   "execution_count": null,
   "id": "2ff8ab70",
   "metadata": {},
   "outputs": [],
   "source": []
  },
  {
   "cell_type": "code",
   "execution_count": null,
   "id": "c4245165",
   "metadata": {},
   "outputs": [],
   "source": []
  },
  {
   "cell_type": "code",
   "execution_count": null,
   "id": "35b8f71d",
   "metadata": {},
   "outputs": [],
   "source": []
  },
  {
   "cell_type": "code",
   "execution_count": null,
   "id": "697d124d",
   "metadata": {},
   "outputs": [],
   "source": []
  },
  {
   "cell_type": "code",
   "execution_count": null,
   "id": "3a4d425c",
   "metadata": {},
   "outputs": [],
   "source": []
  },
  {
   "cell_type": "code",
   "execution_count": null,
   "id": "e5a835fe",
   "metadata": {},
   "outputs": [],
   "source": []
  },
  {
   "cell_type": "code",
   "execution_count": null,
   "id": "2d7ab5b7",
   "metadata": {},
   "outputs": [],
   "source": []
  },
  {
   "cell_type": "code",
   "execution_count": null,
   "id": "573b0635",
   "metadata": {},
   "outputs": [],
   "source": []
  },
  {
   "cell_type": "code",
   "execution_count": null,
   "id": "47e1ceeb",
   "metadata": {},
   "outputs": [],
   "source": []
  },
  {
   "cell_type": "code",
   "execution_count": null,
   "id": "61082922",
   "metadata": {},
   "outputs": [],
   "source": []
  },
  {
   "cell_type": "code",
   "execution_count": null,
   "id": "6eb18b95",
   "metadata": {},
   "outputs": [],
   "source": []
  },
  {
   "cell_type": "code",
   "execution_count": null,
   "id": "5d630c9c",
   "metadata": {},
   "outputs": [],
   "source": []
  },
  {
   "cell_type": "code",
   "execution_count": null,
   "id": "34e2f1f8",
   "metadata": {},
   "outputs": [],
   "source": []
  },
  {
   "cell_type": "code",
   "execution_count": null,
   "id": "3a957a53",
   "metadata": {},
   "outputs": [],
   "source": []
  },
  {
   "cell_type": "code",
   "execution_count": null,
   "id": "55722903",
   "metadata": {},
   "outputs": [],
   "source": []
  },
  {
   "cell_type": "code",
   "execution_count": null,
   "id": "090c3a8b",
   "metadata": {},
   "outputs": [],
   "source": []
  },
  {
   "cell_type": "code",
   "execution_count": null,
   "id": "e5466b01",
   "metadata": {},
   "outputs": [],
   "source": []
  },
  {
   "cell_type": "code",
   "execution_count": null,
   "id": "71f1ecad",
   "metadata": {},
   "outputs": [],
   "source": []
  },
  {
   "cell_type": "code",
   "execution_count": null,
   "id": "d98af945",
   "metadata": {},
   "outputs": [],
   "source": []
  },
  {
   "cell_type": "code",
   "execution_count": null,
   "id": "827a5475",
   "metadata": {},
   "outputs": [],
   "source": []
  },
  {
   "cell_type": "code",
   "execution_count": null,
   "id": "6fe53451",
   "metadata": {},
   "outputs": [],
   "source": []
  },
  {
   "cell_type": "code",
   "execution_count": null,
   "id": "119e6b37",
   "metadata": {},
   "outputs": [],
   "source": []
  },
  {
   "cell_type": "code",
   "execution_count": null,
   "id": "4a90e965",
   "metadata": {},
   "outputs": [],
   "source": []
  },
  {
   "cell_type": "code",
   "execution_count": null,
   "id": "2f6ddbd7",
   "metadata": {},
   "outputs": [],
   "source": []
  },
  {
   "cell_type": "code",
   "execution_count": null,
   "id": "ba155979",
   "metadata": {},
   "outputs": [],
   "source": []
  },
  {
   "cell_type": "code",
   "execution_count": null,
   "id": "f914006d",
   "metadata": {},
   "outputs": [],
   "source": []
  },
  {
   "cell_type": "code",
   "execution_count": null,
   "id": "169a8f17",
   "metadata": {},
   "outputs": [],
   "source": []
  },
  {
   "cell_type": "code",
   "execution_count": null,
   "id": "5a5e2f76",
   "metadata": {},
   "outputs": [],
   "source": []
  },
  {
   "cell_type": "code",
   "execution_count": null,
   "id": "bfa3a736",
   "metadata": {},
   "outputs": [],
   "source": []
  },
  {
   "cell_type": "code",
   "execution_count": null,
   "id": "9b0e670e",
   "metadata": {},
   "outputs": [],
   "source": []
  },
  {
   "cell_type": "code",
   "execution_count": null,
   "id": "5ca687e6",
   "metadata": {},
   "outputs": [],
   "source": []
  },
  {
   "cell_type": "code",
   "execution_count": null,
   "id": "445e14b4",
   "metadata": {},
   "outputs": [],
   "source": []
  },
  {
   "cell_type": "code",
   "execution_count": null,
   "id": "aa49f172",
   "metadata": {},
   "outputs": [],
   "source": []
  },
  {
   "cell_type": "code",
   "execution_count": null,
   "id": "4567d7ce",
   "metadata": {},
   "outputs": [],
   "source": []
  },
  {
   "cell_type": "code",
   "execution_count": null,
   "id": "74c1198a",
   "metadata": {},
   "outputs": [],
   "source": []
  },
  {
   "cell_type": "code",
   "execution_count": null,
   "id": "91e572fa",
   "metadata": {},
   "outputs": [],
   "source": []
  }
 ],
 "metadata": {
  "kernelspec": {
   "display_name": "Python 3",
   "language": "python",
   "name": "python3"
  },
  "language_info": {
   "codemirror_mode": {
    "name": "ipython",
    "version": 3
   },
   "file_extension": ".py",
   "mimetype": "text/x-python",
   "name": "python",
   "nbconvert_exporter": "python",
   "pygments_lexer": "ipython3",
   "version": "3.8.2"
  }
 },
 "nbformat": 4,
 "nbformat_minor": 5
}
