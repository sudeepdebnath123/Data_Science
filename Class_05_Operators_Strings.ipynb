{
 "cells": [
  {
   "cell_type": "code",
   "execution_count": 10,
   "id": "62a427ee",
   "metadata": {
    "ExecuteTime": {
     "end_time": "2021-06-26T03:28:55.795739Z",
     "start_time": "2021-06-26T03:28:55.778896Z"
    }
   },
   "outputs": [
    {
     "name": "stdout",
     "output_type": "stream",
     "text": [
      "0\n"
     ]
    }
   ],
   "source": [
    "# Logical - and or not\n",
    "# They work with Logic\n",
    "# Logic should always be evaluated as True or False\n",
    "\n",
    "\n",
    "# and Truth Table - False\n",
    "# True and True = True\n",
    "# True and False = False\n",
    "# False and True = False\n",
    "# False and False = False\n",
    "\n",
    "# or Truth Table - True\n",
    "# True or True = True\n",
    "# True or False = True\n",
    "# False or True = True\n",
    "# False or False = False\n",
    "\n",
    "# not Truth Table\n",
    "# not True = False\n",
    "# not False = True\n",
    "\n",
    "# year = int(input('Enter an year: '))\n",
    "# if ((year%400 == 0) or ((year%4 == 0) and (year%100 != 0))):\n",
    "#     print('Year is a leap year')\n",
    "# else:\n",
    "#     print('Year is not a leap Year')\n",
    "    \n",
    "# year = 1600 => if True or (True and False) => if True or False => if True: => 'Year is a leap year'\n",
    "# year = 1800 => if False or (True and False) => if False or False => if False: => 'Year is not a leap year'\n",
    "\n",
    "# if A and B are two different values\n",
    "\n",
    "# A and B => result is A if A is False else result is B\n",
    "# A or B => result is A if A is True else result is B\n",
    "\n",
    "# print(0 and 0.0)\n",
    "# print(0 or 0.0)\n",
    "\n",
    "# print(10 and 0)\n",
    "# print(0 and 10)\n",
    "\n",
    "\n"
   ]
  },
  {
   "cell_type": "code",
   "execution_count": 14,
   "id": "5a9c60bd",
   "metadata": {
    "ExecuteTime": {
     "end_time": "2021-06-26T03:31:13.323141Z",
     "start_time": "2021-06-26T03:31:13.311693Z"
    }
   },
   "outputs": [
    {
     "name": "stdout",
     "output_type": "stream",
     "text": [
      "False\n",
      "False\n",
      "False\n",
      "True\n",
      "True\n",
      "True\n",
      "True\n"
     ]
    }
   ],
   "source": [
    "# Boolean - True False\n",
    "# True => 1\n",
    "# False = 0\n",
    "\n",
    "# Int - 0 is always False rest all values are True\n",
    "# Float - 0.0 is always False rest all values are True\n",
    "# Complex - 0.0+0.0j is always False rest all values are True\n",
    "# String - '' is always False rest all are True\n",
    "# None is Always False\n",
    "# List, Tuple, Dictionary, set - [], (), {}, set() False , These data structures with at least one element are True\n",
    "\n",
    "print(bool(0))\n",
    "print(bool(0.0))\n",
    "print(bool(0.0+0.0j))\n",
    "print(bool(' ')) \n",
    "print(bool([0])) \n",
    "print(bool((0.0,))) \n",
    "print(bool({0:1j}))\n",
    "\n",
    "\n",
    "\n",
    "\n",
    "\n"
   ]
  },
  {
   "cell_type": "code",
   "execution_count": 15,
   "id": "59cbd336",
   "metadata": {
    "ExecuteTime": {
     "end_time": "2021-06-26T03:32:24.602872Z",
     "start_time": "2021-06-26T03:32:24.598504Z"
    }
   },
   "outputs": [],
   "source": [
    "# Take a password from user until user enters correct password\n",
    "\n",
    "# main_pwd = 'Python123'\n",
    "# pwd1 = input('Enter the password: ')\n",
    "# while True:\n",
    "#     if pwd1 == main_pwd:\n",
    "#         print('Valid Password')\n",
    "#         break\n",
    "#     else:\n",
    "#         print('Invalid Password')\n",
    "#         print('Reenter the password')\n",
    "#         pwd1 = input()\n"
   ]
  },
  {
   "cell_type": "code",
   "execution_count": 16,
   "id": "174e05ce",
   "metadata": {
    "ExecuteTime": {
     "end_time": "2021-06-26T03:32:27.510422Z",
     "start_time": "2021-06-26T03:32:27.506743Z"
    }
   },
   "outputs": [],
   "source": [
    "# # Print the value from 0 - 10\n",
    "# val = 0\n",
    "# while val<=10:\n",
    "#     print(val)\n",
    "#     val = val+1"
   ]
  },
  {
   "cell_type": "code",
   "execution_count": 33,
   "id": "a9334210",
   "metadata": {
    "ExecuteTime": {
     "end_time": "2021-06-26T03:45:39.443689Z",
     "start_time": "2021-06-26T03:45:39.438109Z"
    }
   },
   "outputs": [],
   "source": [
    "# Bitwise Operator - &, |, ^, ~, <<, >>\n",
    "# It works only on bits or binary values\n",
    "# & - *\n",
    "# | - +\n",
    "# ^ - (A+B)X(A'+B')\n",
    "# ~n = -(n+1)\n",
    "# num << no of bits - num*(2**no of bits)\n",
    "# num << no of bits - num//(2**no of bits)\n",
    "\n",
    "# print(37 & 57)\n",
    "\n",
    "# print(37 | 57)\n",
    "\n",
    "# print(37 ^ 57)\n",
    "\n",
    "\n",
    "\n",
    "# print(bin(57))\n",
    "\n",
    "# 37 => 100101\n",
    "# 57 => 111001\n",
    "# ===============\n",
    "# &  => 100001\n",
    "# |  => 111101\n",
    "# ^  => 11100\n",
    "\n",
    "# print(0b100001)\n",
    "# print(0b111101)\n",
    "# print(0b11100)\n",
    "\n",
    "# Bitwise negation\n",
    "# ~num = -(num+1)\n",
    "# print(~9)\n",
    "# print(~-8)\n",
    "\n",
    "# Left shift(<<) and Right shift(>>) operation\n",
    "# print(165<<9)\n",
    "\n",
    "# print(165*(2**9))\n",
    "\n",
    "\n",
    "# print(165>>9)\n",
    "\n",
    "# print(165//(2**9))\n",
    "\n",
    "\n",
    "\n",
    "\n"
   ]
  },
  {
   "cell_type": "code",
   "execution_count": null,
   "id": "ab9c9dc0",
   "metadata": {},
   "outputs": [],
   "source": [
    "# A = 0\n",
    "# A' = 1\n",
    "# A = 1\n",
    "# A' = 0"
   ]
  },
  {
   "cell_type": "code",
   "execution_count": null,
   "id": "df72787a",
   "metadata": {},
   "outputs": [],
   "source": [
    "# Assignment Operation - =\n",
    "f_name = 'Abhishek'\n",
    "last_name = 'Gupta'\n",
    "\n",
    "ocuupation = 'Trainer'\n",
    "\n",
    "class Employee:\n",
    "    def __init__(self, e_name, e_id):\n",
    "        self.emp_name = e_name\n",
    "        self.emp_id = e_id\n"
   ]
  },
  {
   "cell_type": "code",
   "execution_count": 34,
   "id": "203d029d",
   "metadata": {
    "ExecuteTime": {
     "end_time": "2021-06-26T03:49:40.752368Z",
     "start_time": "2021-06-26T03:49:40.747261Z"
    }
   },
   "outputs": [
    {
     "name": "stdout",
     "output_type": "stream",
     "text": [
      "12\n"
     ]
    }
   ],
   "source": [
    "# Compound Assignment Operation - +=, -=, *=, /=, //=, **=, %=, &=, |=, ^=, ~=, <<=, >>=\n",
    "\n",
    "a = 10\n",
    "a += 2                                                     #a = a+2\n",
    "print(a)\n",
    "\n"
   ]
  },
  {
   "cell_type": "code",
   "execution_count": 56,
   "id": "731c342d",
   "metadata": {
    "ExecuteTime": {
     "end_time": "2021-06-26T04:04:00.600755Z",
     "start_time": "2021-06-26T04:04:00.593907Z"
    }
   },
   "outputs": [
    {
     "name": "stdout",
     "output_type": "stream",
     "text": [
      "Hello\n",
      "Inside while\n"
     ]
    }
   ],
   "source": [
    "# Membership Operation - in, not in\n",
    "# Always return boolean values\n",
    "\n",
    "# Itearbles - string, list, typle, set, dictionary etc\n",
    "# and Iterator types in Python - enumerate, zip, filter, map etc\n",
    "\n",
    "my_str = 'peter piper picked a peck of pickled peppers'\n",
    "# my_lst = [1, 2, 3, 4, 5]\n",
    "# my_tpl = (10,20,30,40)\n",
    "# my_dict = {'name':'Abhishek', 'age':29}\n",
    "\n",
    "# print('p' in my_str)\n",
    "# print('peterpiper' in my_str)\n",
    "\n",
    "# print(5 in my_lst)\n",
    "# print(50 in my_tpl)\n",
    "\n",
    "# print('age' in my_dict)\n",
    "# print(29 in my_dict)\n",
    "\n",
    "\n",
    "# e1 = enumerate('Python')\n",
    "# print((0, 'P') in e1)\n",
    "# print(list(e1))\n",
    "\n",
    "# print('p' in my_str or 'e' not in my_str)\n",
    "# print(True and False)\n",
    "\n",
    "if 'p' in my_str:\n",
    "    print(\"Hello\")\n",
    "    while 1:\n",
    "        print('Inside while')\n",
    "        break\n",
    "\n",
    "\n",
    "\n",
    "\n",
    "\n",
    "\n"
   ]
  },
  {
   "cell_type": "code",
   "execution_count": 61,
   "id": "a49258d4",
   "metadata": {
    "ExecuteTime": {
     "end_time": "2021-06-26T04:08:52.287579Z",
     "start_time": "2021-06-26T04:08:52.278932Z"
    }
   },
   "outputs": [
    {
     "name": "stdout",
     "output_type": "stream",
     "text": [
      "True\n",
      "False\n",
      "4532784880\n",
      "4533022768\n"
     ]
    }
   ],
   "source": [
    "# Identity Operators - is, is not\n",
    "# Return Boolean Values\n",
    "# check for the memory address\n",
    "\n",
    "# a = 10\n",
    "# b = 10\n",
    "# print(a == b)\n",
    "# print(a is b)\n",
    "# print(id(a))\n",
    "# print(id(b))\n",
    "\n",
    "# a = 'Python'\n",
    "# b = 'Python'\n",
    "# print(a == b)\n",
    "# print(a is b)\n",
    "# print(id(a))\n",
    "# print(id(b))\n",
    "\n",
    "\n",
    "# a = 'Python class'\n",
    "# b = 'Python class'\n",
    "# print(a == b)\n",
    "# print(a is b)\n",
    "# print(id(a))\n",
    "# print(id(b))\n",
    "\n",
    "# a = 1000\n",
    "# b = 1000\n",
    "# print(a == b)\n",
    "# print(a is b)\n",
    "# print(id(a))\n",
    "# print(id(b))\n",
    "\n",
    "# Integer caching\n",
    "# String interning\n",
    "# Object reusability\n",
    "\n",
    "\n",
    "\n",
    "\n"
   ]
  },
  {
   "cell_type": "code",
   "execution_count": 71,
   "id": "e557d273",
   "metadata": {
    "ExecuteTime": {
     "end_time": "2021-06-26T04:19:52.252282Z",
     "start_time": "2021-06-26T04:19:49.099098Z"
    }
   },
   "outputs": [
    {
     "name": "stdout",
     "output_type": "stream",
     "text": [
      "Enter 1st number10\n",
      "Enter 2nd number100\n",
      "Enter 3rd number9\n",
      "num2 is greater than num1 and num3\n"
     ]
    }
   ],
   "source": [
    "# Ternary Operator - expr1 if cond else expr2\n",
    "# expr1 if cond1 else expr2 id cond2 else expr3\n",
    "\n",
    "# Largest of 2 number\n",
    "# num1 = int(input('Enter 1st number'))\n",
    "# num2 = int(input('Enter 2nd number'))\n",
    "# print(num1 if num1 > num2 else num2)\n",
    "\n",
    "\n",
    "# print('Even' if int(input('Enter a number '))%2 == 0 else 'Odd')\n",
    "\n",
    "\n",
    "num1 = int(input('Enter 1st number'))\n",
    "num2 = int(input('Enter 2nd number'))\n",
    "num3 = int(input('Enter 3rd number'))\n",
    "print('num1 is greater than num2 and num3' if (num1>num2) and (num1>num3) else\n",
    "      'num2 is greater than num1 and num3' if (num2>num3) else\n",
    "      'num3 is greater than num1 and num2')\n",
    "\n",
    "\n",
    "\n",
    "\n"
   ]
  },
  {
   "cell_type": "code",
   "execution_count": null,
   "id": "f4e66413",
   "metadata": {},
   "outputs": [],
   "source": [
    "\n",
    "# operator Precedence\n",
    "# Operators                                     \tMeaning\n",
    "# ()                                            \tParentheses\n",
    "# **                                            \tExponent\n",
    "# +x, -x, ~x                                    \tUnary plus, Unary minus, Bitwise NOT\n",
    "# *, /, //, %                                   \tMultiplication, Division, Floor division, Modulus\n",
    "# +, -                                          \tAddition, Subtraction\n",
    "# <<, >>                                        \tBitwise shift operators\n",
    "# &                                             \tBitwise AND\n",
    "# ^                                             \tBitwise XOR\n",
    "# |                                             \tBitwise OR\n",
    "# ==, !=, >, >=, <, <=, is, is not, in, not in  \tComparisons, Identity, Membership operators\n",
    "# not                                           \tLogical NOT\n",
    "# and                                           \tLogical AND\n",
    "# or                                            \tLogical OR"
   ]
  },
  {
   "cell_type": "code",
   "execution_count": 76,
   "id": "701dec62",
   "metadata": {
    "ExecuteTime": {
     "end_time": "2021-06-26T04:29:21.184018Z",
     "start_time": "2021-06-26T04:29:21.166585Z"
    }
   },
   "outputs": [
    {
     "ename": "ValueError",
     "evalue": "invalid literal for int() with base 10: 'True'",
     "output_type": "error",
     "traceback": [
      "\u001b[0;31m---------------------------------------------------------------------------\u001b[0m",
      "\u001b[0;31mValueError\u001b[0m                                Traceback (most recent call last)",
      "\u001b[0;32m<ipython-input-76-09d19947ef1e>\u001b[0m in \u001b[0;36m<module>\u001b[0;34m\u001b[0m\n\u001b[1;32m     11\u001b[0m \u001b[0;31m# print(int(10+20j))\u001b[0m\u001b[0;34m\u001b[0m\u001b[0;34m\u001b[0m\u001b[0;34m\u001b[0m\u001b[0m\n\u001b[1;32m     12\u001b[0m \u001b[0;31m# print(int('A'))\u001b[0m\u001b[0;34m\u001b[0m\u001b[0;34m\u001b[0m\u001b[0;34m\u001b[0m\u001b[0m\n\u001b[0;32m---> 13\u001b[0;31m \u001b[0mprint\u001b[0m\u001b[0;34m(\u001b[0m\u001b[0mint\u001b[0m\u001b[0;34m(\u001b[0m\u001b[0;34m'True'\u001b[0m\u001b[0;34m)\u001b[0m\u001b[0;34m)\u001b[0m\u001b[0;34m\u001b[0m\u001b[0;34m\u001b[0m\u001b[0m\n\u001b[0m\u001b[1;32m     14\u001b[0m \u001b[0mprint\u001b[0m\u001b[0;34m(\u001b[0m\u001b[0mint\u001b[0m\u001b[0;34m(\u001b[0m\u001b[0;34m'0b10101'\u001b[0m\u001b[0;34m)\u001b[0m\u001b[0;34m)\u001b[0m\u001b[0;34m\u001b[0m\u001b[0;34m\u001b[0m\u001b[0m\n\u001b[1;32m     15\u001b[0m \u001b[0mprint\u001b[0m\u001b[0;34m(\u001b[0m\u001b[0mint\u001b[0m\u001b[0;34m(\u001b[0m\u001b[0;34m'0o7654'\u001b[0m\u001b[0;34m)\u001b[0m\u001b[0;34m)\u001b[0m\u001b[0;34m\u001b[0m\u001b[0;34m\u001b[0m\u001b[0m\n",
      "\u001b[0;31mValueError\u001b[0m: invalid literal for int() with base 10: 'True'"
     ]
    }
   ],
   "source": [
    "# int()\n",
    "# print(int(10))\n",
    "# print(int(10.20))\n",
    "# print(int('10'))\n",
    "# print(int(True))\n",
    "# print(int(0b10101))\n",
    "# print(int(0o7654))\n",
    "# print(int(0xfc98))\n",
    "\n",
    "# print(int('10.20'))\n",
    "# print(int(10+20j))\n",
    "# print(int('A'))\n",
    "# print(int('True'))\n",
    "# print(int('0b10101'))\n",
    "# print(int('0o7654'))\n",
    "# print(int('0xfc98'))"
   ]
  },
  {
   "cell_type": "code",
   "execution_count": 77,
   "id": "94002f90",
   "metadata": {
    "ExecuteTime": {
     "end_time": "2021-06-26T04:30:26.580353Z",
     "start_time": "2021-06-26T04:30:26.567553Z"
    }
   },
   "outputs": [
    {
     "name": "stdout",
     "output_type": "stream",
     "text": [
      "10.0\n",
      "10.2\n",
      "10.0\n",
      "1.0\n",
      "21.0\n",
      "4012.0\n",
      "64664.0\n",
      "10.2\n"
     ]
    }
   ],
   "source": [
    "# Float - Any number with decimal point - Float\n",
    "# 10.20,-10.20, 0.00001\n",
    "# Floats can not be represented on binary, octal or hexadecimal\n",
    "# 0.0 s always false \n",
    "\n",
    "# Bitwise operatiosn are not valid\n",
    "\n",
    "# float()\n",
    "# print(float(10))\n",
    "# print(float(10.20))\n",
    "# print(float('10'))\n",
    "# print(float(True))\n",
    "# print(float(0b10101))\n",
    "# print(float(0o7654))\n",
    "# print(float(0xfc98))\n",
    "# print(float('10.20'))\n",
    "\n",
    "\n",
    "# print(float(10+20j))\n",
    "# print(float('A'))\n",
    "# print(float('True'))\n",
    "# print(float('0b10101'))\n",
    "# print(float('0o7654'))\n",
    "# print(float('0xfc98'))\n"
   ]
  },
  {
   "cell_type": "code",
   "execution_count": 88,
   "id": "f15e5abb",
   "metadata": {
    "ExecuteTime": {
     "end_time": "2021-06-26T04:35:12.868477Z",
     "start_time": "2021-06-26T04:35:12.857868Z"
    }
   },
   "outputs": [
    {
     "name": "stdout",
     "output_type": "stream",
     "text": [
      "(10+20j)\n",
      "(10.2+30j)\n"
     ]
    }
   ],
   "source": [
    "# Complex - a+bj where a is real part and b is imaginary part and j is imaginary value\n",
    "# 10+20j, 10-20j, -10-20j\n",
    "# a = 10+20j\n",
    "# print(a, type(a))\n",
    "# print(a.real)\n",
    "# print(a.imag)\n",
    "\n",
    "# complex(real) - real+0j\n",
    "# complex(real, imag) - real_imag*j\n",
    "\n",
    "# If first value passed is string thenn complex function will not take the 2nd args\n",
    "# 2nd arg can never be a string value\n",
    "\n",
    "\n",
    "# print(complex(10))\n",
    "# print(complex(10.20))\n",
    "# print(complex(True))\n",
    "# print(complex(0b1010))\n",
    "# print(complex('10.20'))\n",
    "# print(complex('10'))\n",
    "\n",
    "# print(complex('True'))\n",
    "\n",
    "\n",
    "print(complex(10,20))\n",
    "print(complex(10.20, 30))\n",
    "\n",
    "# print(complex('10.20', 30))\n",
    "# print(complex(10, '20'))\n",
    "# print(complex('True'))\n",
    "# print(complex('0b10101'))\n",
    "\n"
   ]
  },
  {
   "cell_type": "code",
   "execution_count": 102,
   "id": "9859c0f8",
   "metadata": {
    "ExecuteTime": {
     "end_time": "2021-06-26T04:57:21.753094Z",
     "start_time": "2021-06-26T04:57:21.746920Z"
    }
   },
   "outputs": [],
   "source": [
    "# Strings in Python - '...', \"...\", '''...''', \"\"\"...\"\"\"\n",
    "\n",
    "# my_str = 'Python'\n",
    "# print(my_str, type(my_str))\n",
    "\n",
    "# my_str = \"Python\"\n",
    "# print(my_str, type(my_str))\n",
    "\n",
    "# my_str = '''Python'''\n",
    "# print(my_str, type(my_str))\n",
    "\n",
    "# my_str = \"\"\"Python\"\"\"\n",
    "# print(my_str, type(my_str))\n",
    "\n",
    "# my_str = \"This is Python's class\"\n",
    "# print(my_str)\n",
    "\n",
    "# my_str = 'This is \"Python\" class'\n",
    "# print(my_str)\n",
    "\n",
    "# my_str = '''This is \"Python\" and 'Java' class'''\n",
    "# print(my_str)\n",
    "\n",
    "# To write multi line string we use triple quotation\n",
    "# my_str = '''This \n",
    "# is \n",
    "# Python \n",
    "# class'''\n",
    "# print(my_str)\n",
    "\n",
    "# To write the documentation\n",
    "# def f1():\n",
    "#     '''This is f1 function'''\n",
    "#     return 10\n",
    "# f1()\n",
    "# print(f1.__doc__)\n"
   ]
  },
  {
   "cell_type": "code",
   "execution_count": 122,
   "id": "22336dd6",
   "metadata": {
    "ExecuteTime": {
     "end_time": "2021-06-26T05:39:54.448413Z",
     "start_time": "2021-06-26T05:39:54.439821Z"
    }
   },
   "outputs": [],
   "source": [
    "# How string is stired in memory\n",
    "# Indexing\n",
    "\n",
    "my_str = 'This is Python class'\n",
    "# print(my_str, type(my_str))\n",
    "\n",
    "# INdexing - accessing one element at a time\n",
    "# Accessing firs element\n",
    "# print(my_str[0])\n",
    "# print(my_str[-20])\n",
    "# print(my_str[-len(my_str)])\n",
    "\n",
    "# Accessing last element\n",
    "# print(my_str[-1])\n",
    "# print(my_str[19])\n",
    "# print(my_str[len(my_str)-1])\n",
    "\n",
    "# Slicing - Accessing multiple elements at a time\n",
    "# Taking a piece out\n",
    "# Syntax - str_name[start_ind : stop_ind + 1: step]\n",
    "# print(my_str[8:14])\n",
    "\n",
    "# my_str = 'This is Python class'\n",
    "# Slicing 'Python'\n",
    "# print(my_str[8:14:1])\n",
    "\n",
    "# Slicing 'nohtyP'\n",
    "# print(my_str[-7:-13:-1])\n",
    "\n",
    "# print(my_str[::2])\n",
    "# print(my_str[::-2])\n",
    "\n",
    "# Default step = 1\n",
    "# Default start = 0 stop = len(my_str) if step = +ve\n",
    "# Default start = -1 stop = -len(my_str)-1 if step = -ve\n",
    "\n",
    "# String Concatenation - +\n",
    "# Both the operand should be string\n",
    "# print('Python' + 'class')\n",
    "# print('Python' + [10,20,304,])\n",
    "\n",
    "# String repetition - *\n",
    "# One operand should be tring and other should be int\n",
    "# print(\"python\"*4)\n",
    "# print(\"python\"*4.0)\n",
    "\n",
    "\n",
    "\n",
    "\n",
    "\n",
    "\n"
   ]
  },
  {
   "cell_type": "code",
   "execution_count": null,
   "id": "0bef4f1f",
   "metadata": {},
   "outputs": [],
   "source": [
    "# String is saved at two levels\n",
    "#     1. At individual element level\n",
    "#     2. whole string object level\n",
    "# String is a seq\n",
    "    # Indexing, slicing, concatenation, repetition\n",
    "# INdex \n",
    "    # String supports +ve and -ve index both\n",
    "    # +ve index starts from 0 from left hand side\n",
    "    # +ve index starts from -1 from right hand side"
   ]
  },
  {
   "cell_type": "code",
   "execution_count": 124,
   "id": "49552708",
   "metadata": {
    "ExecuteTime": {
     "end_time": "2021-06-26T05:41:17.413145Z",
     "start_time": "2021-06-26T05:41:17.406790Z"
    }
   },
   "outputs": [
    {
     "name": "stdout",
     "output_type": "stream",
     "text": [
      "['__add__', '__class__', '__contains__', '__delattr__', '__dir__', '__doc__', '__eq__', '__format__', '__ge__', '__getattribute__', '__getitem__', '__getnewargs__', '__gt__', '__hash__', '__init__', '__init_subclass__', '__iter__', '__le__', '__len__', '__lt__', '__mod__', '__mul__', '__ne__', '__new__', '__reduce__', '__reduce_ex__', '__repr__', '__rmod__', '__rmul__', '__setattr__', '__sizeof__', '__str__', '__subclasshook__', 'capitalize', 'casefold', 'center', 'count', 'encode', 'endswith', 'expandtabs', 'find', 'format', 'format_map', 'index', 'isalnum', 'isalpha', 'isascii', 'isdecimal', 'isdigit', 'isidentifier', 'islower', 'isnumeric', 'isprintable', 'isspace', 'istitle', 'isupper', 'join', 'ljust', 'lower', 'lstrip', 'maketrans', 'partition', 'replace', 'rfind', 'rindex', 'rjust', 'rpartition', 'rsplit', 'rstrip', 'split', 'splitlines', 'startswith', 'strip', 'swapcase', 'title', 'translate', 'upper', 'zfill']\n"
     ]
    }
   ],
   "source": [
    "# String methods\n",
    "# print(dir(str))\n",
    "\n",
    "\n",
    "# Magic Methods - '__add__', '__class__', '__contains__', '__delattr__', '__dir__', '__doc__', '__eq__', '__format__', '__ge__', '__getattribute__', '__getitem__', '__getnewargs__', '__gt__', '__hash__', '__init__', '__init_subclass__', '__iter__', '__le__', '__len__', '__lt__', '__mod__', '__mul__', '__ne__', '__new__', '__reduce__', '__reduce_ex__', '__repr__', '__rmod__', '__rmul__', '__setattr__', '__sizeof__', '__str__', '__subclasshook__',\n",
    "\n",
    "#  'center', 'count', 'encode',  'expandtabs', 'find', 'format', \n",
    "# 'format_map', 'index', 'isalnum', 'isalpha', 'isascii', 'isdecimal', 'isdigit', 'isidentifier', \n",
    "# 'islower', 'isnumeric', 'isprintable', 'isspace', 'istitle', 'isupper', 'join', 'ljust',\n",
    "# 'lstrip', 'maketrans', 'partition', 'replace', 'rfind', 'rindex', 'rjust', 'rpartition', 'rsplit', \n",
    "# 'rstrip', 'split', 'splitlines',  'strip',  'translate',  'zfill'\n"
   ]
  },
  {
   "cell_type": "code",
   "execution_count": 132,
   "id": "353eef1a",
   "metadata": {
    "ExecuteTime": {
     "end_time": "2021-06-26T05:48:58.893014Z",
     "start_time": "2021-06-26T05:48:58.887264Z"
    }
   },
   "outputs": [
    {
     "name": "stdout",
     "output_type": "stream",
     "text": [
      "fließen\n",
      "fliessen\n"
     ]
    }
   ],
   "source": [
    "# 'capitalize', 'casefold', lower, upper, title, swapcase\n",
    "\n",
    "# my_str = 'peter piper picked a peck of pickled peppers'\n",
    "# print(my_str.capitalize())        # Capitalize first letter of string\n",
    "# print(my_str.title())             # Capitalize first letter of each word\n",
    "# print(my_str.upper())\n",
    "\n",
    "# my_str = 'Peter Piper Picked A Peck Of Pickled Peppers'\n",
    "# print(my_str.swapcase())\n",
    "# print(my_str.lower())\n",
    "# print(my_str.casefold())\n",
    "\n",
    "# my_str = 'fließen'\n",
    "# print(my_str.lower())\n",
    "# print(my_str.casefold())\n",
    "\n",
    "\n"
   ]
  },
  {
   "cell_type": "code",
   "execution_count": 140,
   "id": "d07ae356",
   "metadata": {
    "ExecuteTime": {
     "end_time": "2021-06-26T05:54:38.211403Z",
     "start_time": "2021-06-26T05:54:38.203456Z"
    }
   },
   "outputs": [
    {
     "name": "stdout",
     "output_type": "stream",
     "text": [
      "True\n"
     ]
    }
   ],
   "source": [
    "# startswith, endswith\n",
    "\n",
    "my_str = 'peter piper picked a peck of pickled peppers'\n",
    "# print(my_str.startswith('p'))\n",
    "# print(my_str.startswith('pet'))\n",
    "# print(my_str.startswith('pip'))\n",
    "# print(my_str.startswith('p', 21, 30))\n",
    "\n",
    "# print(my_str.endswith('s'))\n",
    "# print(my_str.endswith('ppers'))\n",
    "# print(my_str.endswith('es'))\n",
    "# print(my_str.endswith('s', 21, 30))\n",
    "print(my_str.endswith('p', 21, 30))\n"
   ]
  },
  {
   "cell_type": "code",
   "execution_count": null,
   "id": "548841a5",
   "metadata": {},
   "outputs": [],
   "source": []
  },
  {
   "cell_type": "code",
   "execution_count": null,
   "id": "2b7758a8",
   "metadata": {},
   "outputs": [],
   "source": []
  },
  {
   "cell_type": "code",
   "execution_count": null,
   "id": "c0df2d51",
   "metadata": {},
   "outputs": [],
   "source": []
  },
  {
   "cell_type": "code",
   "execution_count": null,
   "id": "cd47044e",
   "metadata": {},
   "outputs": [],
   "source": []
  },
  {
   "cell_type": "code",
   "execution_count": null,
   "id": "272f1528",
   "metadata": {},
   "outputs": [],
   "source": []
  },
  {
   "cell_type": "code",
   "execution_count": null,
   "id": "ffe2b388",
   "metadata": {},
   "outputs": [],
   "source": []
  },
  {
   "cell_type": "code",
   "execution_count": null,
   "id": "bc4991c0",
   "metadata": {},
   "outputs": [],
   "source": []
  },
  {
   "cell_type": "code",
   "execution_count": null,
   "id": "39f3fdd4",
   "metadata": {},
   "outputs": [],
   "source": []
  },
  {
   "cell_type": "code",
   "execution_count": null,
   "id": "4d6b0cf0",
   "metadata": {},
   "outputs": [],
   "source": []
  },
  {
   "cell_type": "code",
   "execution_count": null,
   "id": "866c5e92",
   "metadata": {},
   "outputs": [],
   "source": []
  },
  {
   "cell_type": "code",
   "execution_count": null,
   "id": "74d8ae01",
   "metadata": {},
   "outputs": [],
   "source": []
  },
  {
   "cell_type": "code",
   "execution_count": null,
   "id": "d5fac6c3",
   "metadata": {},
   "outputs": [],
   "source": []
  },
  {
   "cell_type": "code",
   "execution_count": null,
   "id": "2c3264b2",
   "metadata": {},
   "outputs": [],
   "source": []
  },
  {
   "cell_type": "code",
   "execution_count": null,
   "id": "49bb36b8",
   "metadata": {},
   "outputs": [],
   "source": []
  },
  {
   "cell_type": "code",
   "execution_count": null,
   "id": "5c96f039",
   "metadata": {},
   "outputs": [],
   "source": []
  },
  {
   "cell_type": "code",
   "execution_count": null,
   "id": "3ba8f795",
   "metadata": {},
   "outputs": [],
   "source": []
  },
  {
   "cell_type": "code",
   "execution_count": null,
   "id": "5415dd0b",
   "metadata": {},
   "outputs": [],
   "source": []
  },
  {
   "cell_type": "code",
   "execution_count": null,
   "id": "329668b7",
   "metadata": {},
   "outputs": [],
   "source": []
  },
  {
   "cell_type": "code",
   "execution_count": null,
   "id": "452ec92b",
   "metadata": {},
   "outputs": [],
   "source": []
  },
  {
   "cell_type": "code",
   "execution_count": null,
   "id": "5f0dd819",
   "metadata": {},
   "outputs": [],
   "source": []
  },
  {
   "cell_type": "code",
   "execution_count": null,
   "id": "cf1d1778",
   "metadata": {},
   "outputs": [],
   "source": []
  },
  {
   "cell_type": "code",
   "execution_count": null,
   "id": "496f8380",
   "metadata": {},
   "outputs": [],
   "source": []
  },
  {
   "cell_type": "code",
   "execution_count": null,
   "id": "cd0b48cf",
   "metadata": {},
   "outputs": [],
   "source": []
  },
  {
   "cell_type": "code",
   "execution_count": null,
   "id": "1ad508a1",
   "metadata": {},
   "outputs": [],
   "source": []
  },
  {
   "cell_type": "code",
   "execution_count": null,
   "id": "576f2c8b",
   "metadata": {},
   "outputs": [],
   "source": []
  },
  {
   "cell_type": "code",
   "execution_count": null,
   "id": "8f7ccaf7",
   "metadata": {},
   "outputs": [],
   "source": []
  },
  {
   "cell_type": "code",
   "execution_count": null,
   "id": "9034f635",
   "metadata": {},
   "outputs": [],
   "source": []
  },
  {
   "cell_type": "code",
   "execution_count": null,
   "id": "cca45ade",
   "metadata": {},
   "outputs": [],
   "source": []
  },
  {
   "cell_type": "code",
   "execution_count": null,
   "id": "81afb558",
   "metadata": {},
   "outputs": [],
   "source": []
  },
  {
   "cell_type": "code",
   "execution_count": null,
   "id": "68c1c32f",
   "metadata": {},
   "outputs": [],
   "source": []
  },
  {
   "cell_type": "code",
   "execution_count": null,
   "id": "171deaf8",
   "metadata": {},
   "outputs": [],
   "source": []
  },
  {
   "cell_type": "code",
   "execution_count": null,
   "id": "329005d6",
   "metadata": {},
   "outputs": [],
   "source": []
  },
  {
   "cell_type": "code",
   "execution_count": null,
   "id": "9adfd060",
   "metadata": {},
   "outputs": [],
   "source": []
  },
  {
   "cell_type": "code",
   "execution_count": null,
   "id": "a69932f4",
   "metadata": {},
   "outputs": [],
   "source": []
  },
  {
   "cell_type": "code",
   "execution_count": null,
   "id": "aca6fb84",
   "metadata": {},
   "outputs": [],
   "source": []
  },
  {
   "cell_type": "code",
   "execution_count": null,
   "id": "81bfe392",
   "metadata": {},
   "outputs": [],
   "source": []
  },
  {
   "cell_type": "code",
   "execution_count": null,
   "id": "624f98c8",
   "metadata": {},
   "outputs": [],
   "source": []
  },
  {
   "cell_type": "code",
   "execution_count": null,
   "id": "f6197968",
   "metadata": {},
   "outputs": [],
   "source": []
  },
  {
   "cell_type": "code",
   "execution_count": null,
   "id": "11531439",
   "metadata": {},
   "outputs": [],
   "source": []
  },
  {
   "cell_type": "code",
   "execution_count": null,
   "id": "afcccf49",
   "metadata": {},
   "outputs": [],
   "source": []
  },
  {
   "cell_type": "code",
   "execution_count": null,
   "id": "eed1d050",
   "metadata": {},
   "outputs": [],
   "source": []
  },
  {
   "cell_type": "code",
   "execution_count": null,
   "id": "713871c8",
   "metadata": {},
   "outputs": [],
   "source": []
  },
  {
   "cell_type": "code",
   "execution_count": null,
   "id": "5ca01061",
   "metadata": {},
   "outputs": [],
   "source": []
  },
  {
   "cell_type": "code",
   "execution_count": null,
   "id": "136d1ad4",
   "metadata": {},
   "outputs": [],
   "source": []
  },
  {
   "cell_type": "code",
   "execution_count": null,
   "id": "e6296452",
   "metadata": {},
   "outputs": [],
   "source": []
  },
  {
   "cell_type": "code",
   "execution_count": null,
   "id": "4d460207",
   "metadata": {},
   "outputs": [],
   "source": []
  },
  {
   "cell_type": "code",
   "execution_count": null,
   "id": "199bf598",
   "metadata": {},
   "outputs": [],
   "source": []
  },
  {
   "cell_type": "code",
   "execution_count": null,
   "id": "93f83fb8",
   "metadata": {},
   "outputs": [],
   "source": []
  },
  {
   "cell_type": "code",
   "execution_count": null,
   "id": "17870ff1",
   "metadata": {},
   "outputs": [],
   "source": []
  },
  {
   "cell_type": "code",
   "execution_count": null,
   "id": "3b181f22",
   "metadata": {},
   "outputs": [],
   "source": []
  },
  {
   "cell_type": "code",
   "execution_count": null,
   "id": "dab72d0f",
   "metadata": {},
   "outputs": [],
   "source": []
  },
  {
   "cell_type": "code",
   "execution_count": null,
   "id": "b6ca8658",
   "metadata": {},
   "outputs": [],
   "source": []
  },
  {
   "cell_type": "code",
   "execution_count": null,
   "id": "b877d1b0",
   "metadata": {},
   "outputs": [],
   "source": []
  },
  {
   "cell_type": "code",
   "execution_count": null,
   "id": "f755e4b5",
   "metadata": {},
   "outputs": [],
   "source": []
  },
  {
   "cell_type": "code",
   "execution_count": null,
   "id": "aec7e7fb",
   "metadata": {},
   "outputs": [],
   "source": []
  },
  {
   "cell_type": "code",
   "execution_count": null,
   "id": "b9bd5fee",
   "metadata": {},
   "outputs": [],
   "source": []
  },
  {
   "cell_type": "code",
   "execution_count": null,
   "id": "50449b78",
   "metadata": {},
   "outputs": [],
   "source": []
  }
 ],
 "metadata": {
  "kernelspec": {
   "display_name": "Python 3",
   "language": "python",
   "name": "python3"
  },
  "language_info": {
   "codemirror_mode": {
    "name": "ipython",
    "version": 3
   },
   "file_extension": ".py",
   "mimetype": "text/x-python",
   "name": "python",
   "nbconvert_exporter": "python",
   "pygments_lexer": "ipython3",
   "version": "3.8.2"
  }
 },
 "nbformat": 4,
 "nbformat_minor": 5
}
