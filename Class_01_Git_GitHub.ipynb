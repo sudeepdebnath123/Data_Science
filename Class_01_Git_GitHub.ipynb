{
 "cells": [
  {
   "cell_type": "code",
   "execution_count": 3,
   "id": "f1c2dafc",
   "metadata": {
    "ExecuteTime": {
     "end_time": "2021-06-12T03:31:41.876608Z",
     "start_time": "2021-06-12T03:31:41.871038Z"
    }
   },
   "outputs": [],
   "source": [
    "a = 10"
   ]
  },
  {
   "cell_type": "code",
   "execution_count": 4,
   "id": "7ba11a47",
   "metadata": {
    "ExecuteTime": {
     "end_time": "2021-06-12T03:31:44.174032Z",
     "start_time": "2021-06-12T03:31:44.168318Z"
    }
   },
   "outputs": [
    {
     "name": "stdout",
     "output_type": "stream",
     "text": [
      "10\n"
     ]
    }
   ],
   "source": [
    "print(a)"
   ]
  },
  {
   "cell_type": "code",
   "execution_count": 5,
   "id": "b0016cba",
   "metadata": {
    "ExecuteTime": {
     "end_time": "2021-06-12T03:31:50.743745Z",
     "start_time": "2021-06-12T03:31:50.737670Z"
    }
   },
   "outputs": [],
   "source": [
    "b = 20"
   ]
  },
  {
   "cell_type": "code",
   "execution_count": 6,
   "id": "5a2d29f1",
   "metadata": {
    "ExecuteTime": {
     "end_time": "2021-06-12T03:31:56.074579Z",
     "start_time": "2021-06-12T03:31:56.069136Z"
    }
   },
   "outputs": [],
   "source": [
    "c = a+b"
   ]
  },
  {
   "cell_type": "code",
   "execution_count": 7,
   "id": "8b2a77c7",
   "metadata": {
    "ExecuteTime": {
     "end_time": "2021-06-12T03:32:00.964743Z",
     "start_time": "2021-06-12T03:32:00.953604Z"
    }
   },
   "outputs": [
    {
     "name": "stdout",
     "output_type": "stream",
     "text": [
      "30\n"
     ]
    }
   ],
   "source": [
    "print(c)"
   ]
  },
  {
   "cell_type": "code",
   "execution_count": null,
   "id": "7547c699",
   "metadata": {},
   "outputs": [],
   "source": [
    "Interpreter - code execution is one line at a time\n",
    "IDE() - It compiles the code and then executes the code - pycharm, thonny, atom"
   ]
  },
  {
   "cell_type": "code",
   "execution_count": 9,
   "id": "dde73a1a",
   "metadata": {
    "ExecuteTime": {
     "end_time": "2021-06-12T03:34:45.208336Z",
     "start_time": "2021-06-12T03:34:45.198912Z"
    }
   },
   "outputs": [
    {
     "name": "stdout",
     "output_type": "stream",
     "text": [
      "30\n"
     ]
    }
   ],
   "source": [
    "a = 10\n",
    "b = 20\n",
    "c = a+b\n",
    "print(c)"
   ]
  },
  {
   "cell_type": "markdown",
   "id": "8e3490ad",
   "metadata": {},
   "source": [
    "# Heading1"
   ]
  },
  {
   "cell_type": "markdown",
   "id": "9f665336",
   "metadata": {
    "ExecuteTime": {
     "end_time": "2021-06-12T03:40:01.505640Z",
     "start_time": "2021-06-12T03:40:01.500939Z"
    }
   },
   "source": [
    "## Heading2"
   ]
  },
  {
   "cell_type": "markdown",
   "id": "41f788fb",
   "metadata": {
    "ExecuteTime": {
     "end_time": "2021-06-12T03:40:17.418760Z",
     "start_time": "2021-06-12T03:40:17.407636Z"
    }
   },
   "source": [
    "### Heading3\n"
   ]
  },
  {
   "cell_type": "markdown",
   "id": "e928a92a",
   "metadata": {},
   "source": [
    "##### This is Python's first class\n",
    "    . Heading1\n",
    "    . Heading 2\n",
    "    . Heading 3"
   ]
  },
  {
   "cell_type": "markdown",
   "id": "8d100a1c",
   "metadata": {
    "ExecuteTime": {
     "end_time": "2021-06-12T03:45:05.998001Z",
     "start_time": "2021-06-12T03:45:05.979235Z"
    }
   },
   "source": [
    "<p><img alt=\"Image\" title=\"icon\" src=\"https://raw.githubusercontent.com/docker-library/docs/01c12653951b2fe592c1f93a13b4e289ada0e3a1/python/logo.png\" /></p>\n"
   ]
  },
  {
   "cell_type": "markdown",
   "id": "520ef74b",
   "metadata": {},
   "source": [
    "<p>An <a href=\"https://en.wikipedia.org/wiki/Markdown\">example</a>.</p>\n"
   ]
  },
  {
   "cell_type": "code",
   "execution_count": 16,
   "id": "83ed8fde",
   "metadata": {
    "ExecuteTime": {
     "end_time": "2021-06-12T03:49:10.827544Z",
     "start_time": "2021-06-12T03:49:10.547212Z"
    }
   },
   "outputs": [
    {
     "data": {
      "text/plain": [
       "[<matplotlib.lines.Line2D at 0x114527910>]"
      ]
     },
     "execution_count": 16,
     "metadata": {},
     "output_type": "execute_result"
    },
    {
     "data": {
      "image/png": "[encoded data removed]",
      "text/plain": [
       "<Figure size 432x288 with 1 Axes>"
      ]
     },
     "metadata": {
      "needs_background": "light"
     },
     "output_type": "display_data"
    }
   ],
   "source": [
    "import numpy as np\n",
    "import matplotlib.pyplot as plt\n",
    "\n",
    "arr1 = np.array([1,2,3,4,5,6,7])\n",
    "\n",
    "plt.plot(arr1)\n",
    "\n",
    "\n"
   ]
  },
  {
   "cell_type": "code",
   "execution_count": null,
   "id": "6d3cd3e2",
   "metadata": {},
   "outputs": [],
   "source": [
    "Edit mode - Green - Enter - You can write inside the celss\n",
    "Command mode - Blue - esc - you can move or do the cell related operations."
   ]
  },
  {
   "cell_type": "code",
   "execution_count": null,
   "id": "10d8cc97",
   "metadata": {},
   "outputs": [],
   "source": [
    "# Git and Git Hub"
   ]
  },
  {
   "cell_type": "code",
   "execution_count": null,
   "id": "ef9ba29e",
   "metadata": {},
   "outputs": [],
   "source": [
    "# Git - VCS - Version Control System\n",
    "\n",
    "Project A 1.0\n",
    "\n",
    "Project A 2.0\n",
    "\n",
    "Project A 3.0\n",
    "\n",
    "Collboration\n",
    "\n",
    "\n",
    "\n",
    "\n",
    "\n",
    "\n"
   ]
  },
  {
   "cell_type": "code",
   "execution_count": null,
   "id": "d55b3940",
   "metadata": {},
   "outputs": [],
   "source": [
    "VCS - a mini file tracking system"
   ]
  },
  {
   "cell_type": "code",
   "execution_count": null,
   "id": "8a41a156",
   "metadata": {},
   "outputs": [],
   "source": [
    "Git is a distributed VCS"
   ]
  },
  {
   "cell_type": "code",
   "execution_count": null,
   "id": "be494296",
   "metadata": {},
   "outputs": [],
   "source": [
    "# Type of VCS\n",
    "    1. Centralized\n",
    "    2. De-Centralized or Distributed"
   ]
  },
  {
   "cell_type": "code",
   "execution_count": null,
   "id": "805b3780",
   "metadata": {},
   "outputs": [],
   "source": [
    "# Key terms\n",
    "Repository - As directory\n",
    "    Local repository - local system - .git folder\n",
    "    Remote repository - Git Hub\n",
    "Working Directory - where we write code or python file\n",
    "Staging area - index area - These files will be tracked by git system\n",
    "\n",
    "add - command is used to move the changes from working directory to index area\n",
    "commit - command is used to move the changes from staging area to local repo\n",
    "push - command is used to move the changes from local repo to cloud repo.\n",
    "pull - to pull the changes from cloud/remote repo to working directoy\n",
    "remote add origin - to link the cloud repo with local repo\n",
    "\n"
   ]
  },
  {
   "cell_type": "code",
   "execution_count": null,
   "id": "dc4da645",
   "metadata": {},
   "outputs": [],
   "source": [
    "Windows - Git bash\n",
    "Mac - Terminal"
   ]
  },
  {
   "cell_type": "code",
   "execution_count": null,
   "id": "3fd98d99",
   "metadata": {},
   "outputs": [],
   "source": [
    "# Linux\n",
    "\n",
    "pwd\n",
    "ls\n",
    "cd\n",
    "mkdir\n",
    "echo\n",
    "touch\n",
    "vim\n",
    "\n",
    "(base) vigneshs-MacBook-Air% pwd\n",
    "/Users/vigneshkarthick\n",
    "(base) vigneshs-MacBook-Air% ls\n",
    "Abhishek\t\tLibrary\t\t\tPublic\n",
    "Applications\t\tMEGAsync Downloads\tPycharmProjects\n",
    "Desktop\t\t\tMovies\t\t\t__pycache__\n",
    "Documents\t\tMusic\t\t\tanaconda3\n",
    "Downloads\t\tMy_Eshop\t\tf1.py\n",
    "IdeaProjects\t\tPictures\t\tseaborn-data\n",
    "(base) vigneshs-MacBook-Air% cd Desktop\n",
    "(base) vigneshs-MacBook-Air% pwd\n",
    "/Users/vigneshkarthick/Desktop\n",
    "(base) vigneshs-MacBook-Air% mkdir Secret_Project\n",
    "(base) vigneshs-MacBook-Air% cd Secret_project\n",
    "(base) vigneshs-MacBook-Air% pwd\n",
    "/Users/vigneshkarthick/Desktop/Secret_project\n",
    "(base) vigneshs-MacBook-Air% ls  \n",
    "(base) vigneshs-MacBook-Air% ls -al\n",
    "total 0\n",
    "drwxr-xr-x   2 vigneshkarthick  staff    64 Jun 12 10:05 .\n",
    "drwx------+ 62 vigneshkarthick  staff  1984 Jun 12 10:05 ..\n",
    "Initialized empty Git repository in /Users/vigneshkarthick/Desktop/Secret_Project/.git/\n",
    "(base) vigneshs-MacBook-Air% ls -al\n",
    "total 0\n",
    "drwxr-xr-x   3 vigneshkarthick  staff    96 Jun 12 10:07 .\n",
    "drwx------+ 62 vigneshkarthick  staff  1984 Jun 12 10:05 ..\n",
    "drwxr-xr-x   9 vigneshkarthick  staff   288 Jun 12 10:07 .git\n"
   ]
  },
  {
   "cell_type": "code",
   "execution_count": null,
   "id": "e22ace93",
   "metadata": {},
   "outputs": [],
   "source": [
    "# File realted operation\n",
    "touch - creates the file only\n",
    "echo - Creates the file and write one line of content into the file\n",
    "vim - is an editor and we can write multiline text into the file\n",
    "    To write press \"i\" to get into insert mode\n",
    "    To exit the file,press esc, :wq"
   ]
  },
  {
   "cell_type": "code",
   "execution_count": null,
   "id": "3b94eba5",
   "metadata": {},
   "outputs": [],
   "source": [
    "(base) vigneshs-MacBook-Air% touch f1.py\n",
    "(base) vigneshs-MacBook-Air% ls\n",
    "f1.py\n",
    "(base) vigneshs-MacBook-Air% touch f2.py\n",
    "(base) vigneshs-MacBook-Air% ls\n",
    "f1.py\tf2.py\n",
    "(base) vigneshs-MacBook-Air% echo 'Hello Python!! This is live class at Learnbay' > f3.py\n",
    "(base) vigneshs-MacBook-Air% ls                                                          \n",
    "f1.py\tf2.py\tf3.py\n",
    "(base) vigneshs-MacBook-Air% cat f1.py\n",
    "(base) vigneshs-MacBook-Air% cat f3.py\n",
    "Hello Python!! This is live class at Learnbay\n",
    "(base) vigneshs-MacBook-Air% vim f4.py\n",
    "(base) vigneshs-MacBook-Air% ls\n",
    "f1.py\tf2.py\tf3.py\tf4.py\n",
    "(base) vigneshs-MacBook-Air% git stats\n",
    "git: 'stats' is not a git command. See 'git --help'.\n",
    "\n",
    "The most similar command is\n",
    "\tstatus\n",
    "(base) vigneshs-MacBook-Air% git status\n",
    "On branch master\n",
    "\n",
    "No commits yet\n",
    "\n",
    "Untracked files:\n",
    "  (use \"git add <file>...\" to include in what will be committed)\n",
    "\tf1.py\n",
    "\tf2.py\n",
    "\tf3.py\n",
    "\tf4.py\n",
    "\n",
    "nothing added to commit but untracked files present (use \"git add\" to track)\n",
    "(base) vigneshs-MacBook-Air% git add .                \n",
    "(base) vigneshs-MacBook-Air% git status\n",
    "On branch master\n",
    "\n",
    "No commits yet\n",
    "\n",
    "Changes to be committed:\n",
    "  (use \"git rm --cached <file>...\" to unstage)\n",
    "\tnew file:   f1.py\n",
    "\tnew file:   f2.py\n",
    "\tnew file:   f3.py\n",
    "\tnew file:   f4.py\n",
    "\n",
    "(base) vigneshs-MacBook-Air% git rm --cached f4.py\n",
    "rm 'f4.py'\n",
    "(base) vigneshs-MacBook-Air% git status           \n",
    "On branch master\n",
    "\n",
    "No commits yet\n",
    "\n",
    "Changes to be committed:\n",
    "  (use \"git rm --cached <file>...\" to unstage)\n",
    "\tnew file:   f1.py\n",
    "\tnew file:   f2.py\n",
    "\tnew file:   f3.py\n",
    "\n",
    "Untracked files:\n",
    "  (use \"git add <file>...\" to include in what will be committed)\n",
    "\tf4.py\n",
    "\n",
    "(base) vigneshs-MacBook-Air% git add .\n",
    "(base) vigneshs-MacBook-Air% git status\n",
    "On branch master\n",
    "\n",
    "No commits yet\n",
    "\n",
    "Changes to be committed:\n",
    "  (use \"git rm --cached <file>...\" to unstage)\n",
    "\tnew file:   f1.py\n",
    "\tnew file:   f2.py\n",
    "\tnew file:   f3.py\n",
    "\tnew file:   f4.py\n",
    "\n",
    "(base) vigneshs-MacBook-Air% git commit -m 'First commit'\n",
    "[master (root-commit) 5fb8b50] First commit\n",
    " 4 files changed, 5 insertions(+)\n",
    " create mode 100644 f1.py\n",
    " create mode 100644 f2.py\n",
    " create mode 100644 f3.py\n",
    " create mode 100644 f4.py\n",
    "(base) vigneshs-MacBook-Air% git status                  \n",
    "On branch master\n",
    "nothing to commit, working tree clean"
   ]
  },
  {
   "cell_type": "code",
   "execution_count": null,
   "id": "01914363",
   "metadata": {},
   "outputs": [],
   "source": [
    "git remote -v\n",
    "git remote add origin https://github.com/AbhsihekJagdishwar/Data_Science_Class_Learnbay.git\n",
    "git branch\n",
    "git push origin master/main\n",
    "git pull origin master/main"
   ]
  },
  {
   "cell_type": "code",
   "execution_count": null,
   "id": "32ad233c",
   "metadata": {},
   "outputs": [],
   "source": []
  },
  {
   "cell_type": "code",
   "execution_count": null,
   "id": "4346da8e",
   "metadata": {},
   "outputs": [],
   "source": []
  },
  {
   "cell_type": "code",
   "execution_count": null,
   "id": "d3ab501d",
   "metadata": {},
   "outputs": [],
   "source": []
  },
  {
   "cell_type": "code",
   "execution_count": null,
   "id": "3413de19",
   "metadata": {},
   "outputs": [],
   "source": []
  },
  {
   "cell_type": "code",
   "execution_count": null,
   "id": "fccba8da",
   "metadata": {},
   "outputs": [],
   "source": []
  }
 ],
 "metadata": {
  "kernelspec": {
   "display_name": "Python 3",
   "language": "python",
   "name": "python3"
  },
  "language_info": {
   "codemirror_mode": {
    "name": "ipython",
    "version": 3
   },
   "file_extension": ".py",
   "mimetype": "text/x-python",
   "name": "python",
   "nbconvert_exporter": "python",
   "pygments_lexer": "ipython3",
   "version": "3.8.2"
  }
 },
 "nbformat": 4,
 "nbformat_minor": 5
}
