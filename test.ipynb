{
 "cells": [
  {
   "cell_type": "code",
   "execution_count": null,
   "id": "2a4061b5",
   "metadata": {},
   "outputs": [],
   "source": [
    "year = int(input('Enter a year  '))\n",
    "if ((year%400 == 0) or ((year%4==0) and (year%100!=0))):\n",
    "           print ('Year is a leap year')\n",
    "elif ((year%400 != 0) or ((year%4!=0) and (year%100!=0))):\n",
    "           print ('Year is a leap year')\n",
    "                       \n",
    "        "
   ]
  },
  {
   "cell_type": "code",
   "execution_count": 5,
   "id": "bcd7681e",
   "metadata": {},
   "outputs": [
    {
     "name": "stdout",
     "output_type": "stream",
     "text": [
      "a is greater than b\n"
     ]
    }
   ],
   "source": [
    "a = 200\n",
    "b = 33\n",
    "if b > a:\n",
    "  print(\"b is greater than a\")\n",
    "elif a == b:\n",
    "  print(\"a and b are equal\")\n",
    "else:\n",
    "  print(\"a is greater than b\")"
   ]
  },
  {
   "cell_type": "code",
   "execution_count": null,
   "id": "608ae6e4",
   "metadata": {},
   "outputs": [],
   "source": [
    "year = int(input('Enter a year  '))\n",
    "if ((year%400 == 0) or ((year%4==0) and (year%100!=0))):\n",
    "           print ('Year is a leap year')\n"
   ]
  },
  {
   "cell_type": "code",
   "execution_count": null,
   "id": "71058958",
   "metadata": {},
   "outputs": [],
   "source": []
  },
  {
   "cell_type": "code",
   "execution_count": null,
   "id": "394fcf2c",
   "metadata": {},
   "outputs": [],
   "source": []
  }
 ],
 "metadata": {
  "kernelspec": {
   "display_name": "Python 3",
   "language": "python",
   "name": "python3"
  },
  "language_info": {
   "codemirror_mode": {
    "name": "ipython",
    "version": 3
   },
   "file_extension": ".py",
   "mimetype": "text/x-python",
   "name": "python",
   "nbconvert_exporter": "python",
   "pygments_lexer": "ipython3",
   "version": "3.8.8"
  }
 },
 "nbformat": 4,
 "nbformat_minor": 5
}
