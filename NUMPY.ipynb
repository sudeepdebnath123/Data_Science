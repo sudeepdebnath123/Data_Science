{
 "cells": [
  {
   "cell_type": "code",
   "execution_count": 1,
   "id": "3d418496",
   "metadata": {},
   "outputs": [],
   "source": [
    "import numpy as np\n",
    "    "
   ]
  },
  {
   "cell_type": "code",
   "execution_count": 17,
   "id": "5e2f65ef",
   "metadata": {},
   "outputs": [
    {
     "name": "stdout",
     "output_type": "stream",
     "text": [
      "[['1.0' '2.0' '3']\n",
      " ['4' '(5+0j)' 'sr']]\n",
      "array type is <class 'numpy.ndarray'>\n",
      "No.of dimensions 2\n",
      "shape of array (2, 3)\n",
      "size of array 6\n",
      "<U64\n"
     ]
    }
   ],
   "source": [
    "arr = np.array([[1.0,2.0,3],\n",
    "               [4,5+0j,'sr']])\n",
    "print (arr)\n",
    "print('array type is', type(arr)) #type of array\n",
    "print('No.of dimensions',arr.ndim) #dimensions or axes\n",
    "print('shape of array',arr.shape) #shape of array\n",
    "print('size of array',arr.size) #total number of elements\n",
    "print(arr.dtype) #type of elements in array"
   ]
  },
  {
   "cell_type": "code",
   "execution_count": 11,
   "id": "0061de8e",
   "metadata": {},
   "outputs": [
    {
     "name": "stdout",
     "output_type": "stream",
     "text": [
      "3\n",
      "(1, 2, 3)\n"
     ]
    }
   ],
   "source": [
    "arr = np.array([[[1,2,3],\n",
    "               [4,5,6]]])  # brackets signfies dimesnions or axes\n",
    "print(arr.ndim)\n",
    "print(arr.shape)"
   ]
  },
  {
   "cell_type": "code",
   "execution_count": 22,
   "id": "d1d07b65",
   "metadata": {},
   "outputs": [
    {
     "name": "stdout",
     "output_type": "stream",
     "text": [
      "[[[1 2]\n",
      "  [3 4]]\n",
      "\n",
      " [[5 6]\n",
      "  [7 8]]]\n",
      "3\n",
      "(2, 2, 2)\n"
     ]
    }
   ],
   "source": [
    "z = np.array([[[1,2],[3,4]],\n",
    "             [[5,6],[7,8]]])\n",
    "print(z)\n",
    "print(z.ndim)\n",
    "print(z.shape)"
   ]
  },
  {
   "cell_type": "code",
   "execution_count": 26,
   "id": "ab3165a2",
   "metadata": {},
   "outputs": [
    {
     "name": "stdout",
     "output_type": "stream",
     "text": [
      "[[1. 2. 3.]\n",
      " [4. 5. 6.]]\n"
     ]
    }
   ],
   "source": [
    "arr2 = np.array([[1.0,2.0,3],\n",
    "               [4,5,6]], dtype='float')\n",
    "print(arr2)"
   ]
  },
  {
   "cell_type": "code",
   "execution_count": 31,
   "id": "4b8764ed",
   "metadata": {},
   "outputs": [
    {
     "name": "stdout",
     "output_type": "stream",
     "text": [
      "[[[0. 0. 0. 0.]\n",
      "  [0. 0. 0. 0.]\n",
      "  [0. 0. 0. 0.]]]\n"
     ]
    }
   ],
   "source": [
    "c= np.zeros((1,3,4))\n",
    "print(c)"
   ]
  },
  {
   "cell_type": "code",
   "execution_count": 35,
   "id": "b65311bd",
   "metadata": {},
   "outputs": [
    {
     "name": "stdout",
     "output_type": "stream",
     "text": [
      "[[[1. 1. 1. 1.]\n",
      "  [1. 1. 1. 1.]\n",
      "  [1. 1. 1. 1.]]]\n"
     ]
    },
    {
     "data": {
      "text/plain": [
       "3"
      ]
     },
     "execution_count": 35,
     "metadata": {},
     "output_type": "execute_result"
    }
   ],
   "source": [
    "c= np.ones((1,3,4))\n",
    "print(c)\n",
    "c.ndim"
   ]
  },
  {
   "cell_type": "code",
   "execution_count": 50,
   "id": "bfd9765d",
   "metadata": {},
   "outputs": [
    {
     "name": "stdout",
     "output_type": "stream",
     "text": [
      "[[[-2.64543722e-098  9.74894463e-312  9.74886088e-312 -1.36276480e+222]\n",
      "  [ 9.74894458e-312  9.74886223e-312 -2.12688969e+212  9.74894458e-312]\n",
      "  [ 9.74886223e-312 -5.07821142e-027  9.74894459e-312  9.74886222e-312]]\n",
      "\n",
      " [[-1.37130802e-110  9.74894459e-312  9.74886222e-312 -2.60776013e-036]\n",
      "  [ 9.74894461e-312  9.74886217e-312 -3.18533777e+214  9.74894461e-312]\n",
      "  [ 9.74886217e-312 -8.65050411e+299  9.74894461e-312  9.74886178e-312]]\n",
      "\n",
      " [[-9.77655876e+280  9.74894461e-312  9.74886178e-312 -7.63739863e+174]\n",
      "  [ 9.74894461e-312  9.74886128e-312  3.77844912e+132  9.74894461e-312]\n",
      "  [ 9.74886128e-312 -7.21303444e-001  9.74894447e-312  9.74884613e-312]]\n",
      "\n",
      " [[-6.70030069e+072  9.74894447e-312  9.74884613e-312 -1.27377985e+039]\n",
      "  [ 9.74894461e-312  9.74886256e-312 -2.18915280e-230  9.74894461e-312]\n",
      "  [ 9.74886256e-312  1.57588673e+127  9.74894463e-312  9.74860154e-312]]\n",
      "\n",
      " [[ 3.52928270e+093  9.74894463e-312  9.74860154e-312  5.63605110e+253]\n",
      "  [ 9.74894463e-312  9.74860138e-312  1.78496776e+238  9.74894463e-312]\n",
      "  [ 9.74860138e-312  1.15565652e+174  9.74894463e-312  9.74859581e-312]]]\n"
     ]
    }
   ],
   "source": [
    "y= np.empty((5,3,4)) #0 is null, 1 is default\n",
    "print(y)\n"
   ]
  },
  {
   "cell_type": "code",
   "execution_count": 37,
   "id": "b2ebd5f4",
   "metadata": {},
   "outputs": [
    {
     "name": "stdout",
     "output_type": "stream",
     "text": [
      "[1 3 2]\n"
     ]
    },
    {
     "data": {
      "text/plain": [
       "1"
      ]
     },
     "execution_count": 37,
     "metadata": {},
     "output_type": "execute_result"
    }
   ],
   "source": [
    "a = np.array((1,3,2))\n",
    "print(a)\n",
    "a.ndim"
   ]
  },
  {
   "cell_type": "code",
   "execution_count": 53,
   "id": "6945d119",
   "metadata": {},
   "outputs": [
    {
     "name": "stdout",
     "output_type": "stream",
     "text": [
      "\n",
      " array intiailized with all 6. type is complex [[6.+0.j 6.+0.j 6.+0.j]\n",
      " [6.+0.j 6.+0.j 6.+0.j]\n",
      " [6.+0.j 6.+0.j 6.+0.j]]\n"
     ]
    }
   ],
   "source": [
    "d = np.full((3,3),6, dtype = 'complex')\n",
    "print('\\n array intiailized with all 6. type is complex', d)"
   ]
  },
  {
   "cell_type": "code",
   "execution_count": 62,
   "id": "015a5b7a",
   "metadata": {},
   "outputs": [
    {
     "name": "stdout",
     "output_type": "stream",
     "text": [
      "[[0.8174818  0.72712592 0.39935434]\n",
      " [0.06217838 0.6343724  0.78415327]\n",
      " [0.28457846 0.89291026 0.69107403]]\n"
     ]
    }
   ],
   "source": [
    "d = np.random.random((3,3))\n",
    "print (d)"
   ]
  },
  {
   "cell_type": "code",
   "execution_count": 67,
   "id": "60de39bd",
   "metadata": {},
   "outputs": [
    {
     "name": "stdout",
     "output_type": "stream",
     "text": [
      "An array with steps of 5: [ 0  5 10 15 20 25]\n",
      "1\n"
     ]
    }
   ],
   "source": [
    "#sequence of numbers from 0 to 50 with a step value of 5\n",
    "f = np.arange(0,30,5)\n",
    "print('An array with steps of 5:',f)\n",
    "print(f.ndim)"
   ]
  },
  {
   "cell_type": "code",
   "execution_count": 77,
   "id": "8162081e",
   "metadata": {},
   "outputs": [
    {
     "name": "stdout",
     "output_type": "stream",
     "text": [
      "[0.         0.55555556 1.11111111 1.66666667 2.22222222 2.77777778\n",
      " 3.33333333 3.88888889 4.44444444 5.        ]\n"
     ]
    }
   ],
   "source": [
    "#creating a sequence of 10 values in range 0 to 5\n",
    "g = np.linspace(0,5,10)  # end value is number of sequence\n",
    "print(g)"
   ]
  },
  {
   "cell_type": "code",
   "execution_count": 80,
   "id": "58a8bf1b",
   "metadata": {},
   "outputs": [
    {
     "name": "stdout",
     "output_type": "stream",
     "text": [
      "[[1 2 3 4]\n",
      " [5 3 4 5]\n",
      " [1 2 3 1]]\n",
      "2\n",
      "(3, 4)\n"
     ]
    }
   ],
   "source": [
    "i = np.array([[1,2,3,4],\n",
    "             [5,3,4,5],\n",
    "             [1,2,3,1]])\n",
    "print(i)\n",
    "print(i.ndim)\n",
    "print(i.shape)"
   ]
  },
  {
   "cell_type": "code",
   "execution_count": 86,
   "id": "82f70911",
   "metadata": {},
   "outputs": [
    {
     "name": "stdout",
     "output_type": "stream",
     "text": [
      "[[[1 2 3]\n",
      "  [4 5 3]\n",
      "  [4 5 1]\n",
      "  [2 3 1]]]\n"
     ]
    },
    {
     "data": {
      "text/plain": [
       "3"
      ]
     },
     "execution_count": 86,
     "metadata": {},
     "output_type": "execute_result"
    }
   ],
   "source": [
    "newi = i.reshape(1,4,3)  # converts 2D to 3D array the total number of elements should be same as orginal array. eg 12 3*4 and 2*2*3, 1*3*4 \n",
    "print(newi)\n",
    "newi.ndim\n",
    "# newi.shape"
   ]
  },
  {
   "cell_type": "code",
   "execution_count": 91,
   "id": "6e7c341c",
   "metadata": {},
   "outputs": [
    {
     "name": "stdout",
     "output_type": "stream",
     "text": [
      "[[-1.   4. ]\n",
      " [ 4.   9. ]\n",
      " [ 3.   6. ]\n",
      " [ 5.   0.1]]\n"
     ]
    }
   ],
   "source": [
    "## Array indexing\n",
    "\n",
    "arr = np.array([[-1,2,3,4],\n",
    "               [4,0,5,9],\n",
    "               [3,4,5,6],\n",
    "               [5,6,7,0.1]])\n",
    "\n",
    "#slicing array\n",
    "temp = arr [:4,::3] #first one signisfies the second one signifies the column, you can create  step value \n",
    "print(temp)"
   ]
  },
  {
   "cell_type": "code",
   "execution_count": 92,
   "id": "32412fc3",
   "metadata": {},
   "outputs": [
    {
     "name": "stdout",
     "output_type": "stream",
     "text": [
      "[4. 5. 4. 5.]\n"
     ]
    }
   ],
   "source": [
    "#integer array example\n",
    "temp = arr[[0,1,2,3],[3,2,1,0]] #elements at indices (0,3),(1,2),(2,1),(3,0)\n",
    "print(temp)"
   ]
  },
  {
   "cell_type": "code",
   "execution_count": 94,
   "id": "d624a2ab",
   "metadata": {},
   "outputs": [
    {
     "ename": "IndexError",
     "evalue": "too many indices for array: array is 2-dimensional, but 3 were indexed",
     "output_type": "error",
     "traceback": [
      "\u001b[1;31m---------------------------------------------------------------------------\u001b[0m",
      "\u001b[1;31mIndexError\u001b[0m                                Traceback (most recent call last)",
      "\u001b[1;32m<ipython-input-94-83565e2926b5>\u001b[0m in \u001b[0;36m<module>\u001b[1;34m\u001b[0m\n\u001b[1;32m----> 1\u001b[1;33m \u001b[0mtemp\u001b[0m \u001b[1;33m=\u001b[0m \u001b[0marr\u001b[0m\u001b[1;33m[\u001b[0m\u001b[1;33m[\u001b[0m\u001b[1;36m0\u001b[0m\u001b[1;33m,\u001b[0m\u001b[1;36m1\u001b[0m\u001b[1;33m,\u001b[0m\u001b[1;36m2\u001b[0m\u001b[1;33m,\u001b[0m\u001b[1;36m3\u001b[0m\u001b[1;33m]\u001b[0m\u001b[1;33m,\u001b[0m\u001b[1;33m[\u001b[0m\u001b[1;36m3\u001b[0m\u001b[1;33m,\u001b[0m\u001b[1;36m2\u001b[0m\u001b[1;33m,\u001b[0m\u001b[1;36m1\u001b[0m\u001b[1;33m,\u001b[0m\u001b[1;36m0\u001b[0m\u001b[1;33m]\u001b[0m\u001b[1;33m,\u001b[0m\u001b[1;33m[\u001b[0m\u001b[1;36m3\u001b[0m\u001b[1;33m,\u001b[0m\u001b[1;36m2\u001b[0m\u001b[1;33m,\u001b[0m\u001b[1;36m1\u001b[0m\u001b[1;33m,\u001b[0m\u001b[1;36m0\u001b[0m\u001b[1;33m]\u001b[0m\u001b[1;33m]\u001b[0m\u001b[1;33m\u001b[0m\u001b[1;33m\u001b[0m\u001b[0m\n\u001b[0m\u001b[0;32m      2\u001b[0m \u001b[0mprint\u001b[0m\u001b[1;33m(\u001b[0m\u001b[0mtemp\u001b[0m\u001b[1;33m)\u001b[0m\u001b[1;33m\u001b[0m\u001b[1;33m\u001b[0m\u001b[0m\n",
      "\u001b[1;31mIndexError\u001b[0m: too many indices for array: array is 2-dimensional, but 3 were indexed"
     ]
    }
   ],
   "source": [
    "# temp = arr[[0,1,2,3],[3,2,1,0],[3,2,1,0]] # this is for 3 dimension array\n",
    "# print(temp)"
   ]
  },
  {
   "cell_type": "code",
   "execution_count": 100,
   "id": "e9131ba0",
   "metadata": {},
   "outputs": [
    {
     "name": "stdout",
     "output_type": "stream",
     "text": [
      "[4. 4. 5. 9. 4. 5. 6. 5. 6. 7.]\n"
     ]
    }
   ],
   "source": [
    "#boolean indexing\n",
    "cond = arr>3\n",
    "temp =arr[arr>3] #(elements greater than 3)\n",
    "print(temp)\n"
   ]
  },
  {
   "cell_type": "code",
   "execution_count": 101,
   "id": "66e1feae",
   "metadata": {},
   "outputs": [
    {
     "data": {
      "text/plain": [
       "array([[False, False, False,  True],\n",
       "       [ True, False,  True,  True],\n",
       "       [False,  True,  True,  True],\n",
       "       [ True,  True,  True, False]])"
      ]
     },
     "execution_count": 101,
     "metadata": {},
     "output_type": "execute_result"
    }
   ],
   "source": [
    "t = arr>3\n",
    "t"
   ]
  },
  {
   "cell_type": "code",
   "execution_count": 109,
   "id": "ee05c466",
   "metadata": {},
   "outputs": [
    {
     "name": "stdout",
     "output_type": "stream",
     "text": [
      "[2 3 6 4]\n",
      "[0 1 4 2]\n",
      "[ 3  6 15  9]\n",
      "[ 1  4 25  9]\n",
      "[1 2 5 3]\n",
      "[ 2  4 10  6]\n"
     ]
    }
   ],
   "source": [
    "import numpy as p\n",
    "a = np.array([1,2,5,3])\n",
    "#add 1 to every element\n",
    "print(a+1)\n",
    "#subtract 1 to every element\n",
    "print(a-1)\n",
    "#multiply 3 to every element\n",
    "print(a*3)\n",
    "#raise to the power 2\n",
    "print(a**2)\n",
    "print(a)\n",
    "#double easch elemt and modify the array\n",
    "a*=2\n",
    "print(a)\n"
   ]
  },
  {
   "cell_type": "code",
   "execution_count": 112,
   "id": "9cc0a6c3",
   "metadata": {},
   "outputs": [
    {
     "name": "stdout",
     "output_type": "stream",
     "text": [
      "[[-1  2  3  4]\n",
      " [ 4  0  5  9]\n",
      " [ 3  4  5 10]]\n",
      "(3, 4)\n"
     ]
    }
   ],
   "source": [
    "a = np.array([[-1,2,3,4],\n",
    "               [4,0,5,9],\n",
    "               [3,4,5,10]])\n",
    "print(a)\n",
    "print(a.shape)"
   ]
  },
  {
   "cell_type": "code",
   "execution_count": 113,
   "id": "adddebcb",
   "metadata": {},
   "outputs": [
    {
     "name": "stdout",
     "output_type": "stream",
     "text": [
      "[[-1  4  3]\n",
      " [ 2  0  4]\n",
      " [ 3  5  5]\n",
      " [ 4  9 10]]\n",
      "(4, 3)\n"
     ]
    }
   ],
   "source": [
    "b= a.T\n",
    "print(b)\n",
    "print(b.shape)"
   ]
  },
  {
   "cell_type": "code",
   "execution_count": 123,
   "id": "2986a8bc",
   "metadata": {},
   "outputs": [
    {
     "data": {
      "text/plain": [
       "array([-1,  0,  3,  4])"
      ]
     },
     "execution_count": 123,
     "metadata": {},
     "output_type": "execute_result"
    }
   ],
   "source": [
    "b.max()\n",
    "b[:3,1:3].max(axis=0)\n",
    "b.min(axis=1) #axis 1 signifies rows"
   ]
  },
  {
   "cell_type": "code",
   "execution_count": 124,
   "id": "c649bd74",
   "metadata": {},
   "outputs": [
    {
     "data": {
      "text/plain": [
       "array([4, 5])"
      ]
     },
     "execution_count": 124,
     "metadata": {},
     "output_type": "execute_result"
    }
   ],
   "source": [
    "b[1:3,1:3].max(axis=1)"
   ]
  },
  {
   "cell_type": "code",
   "execution_count": 120,
   "id": "8a6c1723",
   "metadata": {},
   "outputs": [
    {
     "data": {
      "text/plain": [
       "array([-1,  0,  3])"
      ]
     },
     "execution_count": 120,
     "metadata": {},
     "output_type": "execute_result"
    }
   ],
   "source": [
    "b.min(axis=0)  #axis 0 signifies columns"
   ]
  },
  {
   "cell_type": "code",
   "execution_count": 121,
   "id": "65799543",
   "metadata": {},
   "outputs": [
    {
     "data": {
      "text/plain": [
       "48"
      ]
     },
     "execution_count": 121,
     "metadata": {},
     "output_type": "execute_result"
    }
   ],
   "source": [
    "b.sum()"
   ]
  },
  {
   "cell_type": "code",
   "execution_count": 122,
   "id": "b0993ca7",
   "metadata": {},
   "outputs": [
    {
     "data": {
      "text/plain": [
       "array([[-1,  4,  3],\n",
       "       [ 1,  4,  7],\n",
       "       [ 4,  9, 12],\n",
       "       [ 8, 18, 22]], dtype=int32)"
      ]
     },
     "execution_count": 122,
     "metadata": {},
     "output_type": "execute_result"
    }
   ],
   "source": [
    "b.cumsum(axis=0) #cumulative sum along colums adds every sum of element before the element "
   ]
  },
  {
   "cell_type": "code",
   "execution_count": 125,
   "id": "c5d74c64",
   "metadata": {},
   "outputs": [
    {
     "data": {
      "text/plain": [
       "array([[-1,  3,  6],\n",
       "       [ 2,  2,  6],\n",
       "       [ 3,  8, 13],\n",
       "       [ 4, 13, 23]], dtype=int32)"
      ]
     },
     "execution_count": 125,
     "metadata": {},
     "output_type": "execute_result"
    }
   ],
   "source": [
    "b.cumsum(axis=1)"
   ]
  },
  {
   "cell_type": "code",
   "execution_count": 126,
   "id": "6bfb970b",
   "metadata": {},
   "outputs": [
    {
     "data": {
      "text/plain": [
       "array([[ -1,   4,   3],\n",
       "       [ -2,   0,  12],\n",
       "       [ -6,   0,  60],\n",
       "       [-24,   0, 600]], dtype=int32)"
      ]
     },
     "execution_count": 126,
     "metadata": {},
     "output_type": "execute_result"
    }
   ],
   "source": [
    "b.cumprod(axis=0)"
   ]
  },
  {
   "cell_type": "code",
   "execution_count": 129,
   "id": "c0eaf3e4",
   "metadata": {},
   "outputs": [
    {
     "data": {
      "text/plain": [
       "array([[ -1,  -4, -12],\n",
       "       [  2,   0,   0],\n",
       "       [  3,  15,  75],\n",
       "       [  4,  36, 360]], dtype=int32)"
      ]
     },
     "execution_count": 129,
     "metadata": {},
     "output_type": "execute_result"
    }
   ],
   "source": [
    "b.cumprod(axis=1)"
   ]
  },
  {
   "cell_type": "code",
   "execution_count": 135,
   "id": "1143e7d1",
   "metadata": {},
   "outputs": [
    {
     "data": {
      "text/plain": [
       "array([17,  8,  5, 19,  6, 17, 17, 16])"
      ]
     },
     "execution_count": 135,
     "metadata": {},
     "output_type": "execute_result"
    }
   ],
   "source": [
    "#Random array generation\n",
    "\n",
    "f = np.random.randint(5,20,8)  #1.low value, 2.highest value, 3.number of values b/w high and low\n",
    "f"
   ]
  },
  {
   "cell_type": "code",
   "execution_count": 143,
   "id": "5b5e9e65",
   "metadata": {},
   "outputs": [
    {
     "data": {
      "text/plain": [
       "array([[[19, 12, 13,  6,  9,  6],\n",
       "        [ 7, 12,  9,  6,  5,  5],\n",
       "        [17, 16, 12, 17, 17,  8],\n",
       "        [17, 14,  8, 15, 17,  5]],\n",
       "\n",
       "       [[10, 16,  6, 12, 13, 13],\n",
       "        [12,  7, 14, 11,  9, 13],\n",
       "        [16,  6, 12, 18,  5, 16],\n",
       "        [10, 14, 14, 11, 19, 19]],\n",
       "\n",
       "       [[16, 13, 16, 12,  7,  5],\n",
       "        [ 8,  8, 16, 10, 11,  9],\n",
       "        [ 7,  7, 15, 13,  9, 17],\n",
       "        [ 7, 10,  8, 14, 10, 10]]])"
      ]
     },
     "execution_count": 143,
     "metadata": {},
     "output_type": "execute_result"
    }
   ],
   "source": [
    "f = np.random.randint(5,20,(3,4,6)) #creates array b/w high and low d is depth/layers, then rows and then colums, \n",
    "#last data 20 will be exlsuive\n",
    "f #3D array of random arranges"
   ]
  },
  {
   "cell_type": "code",
   "execution_count": 146,
   "id": "d9b7b6a8",
   "metadata": {},
   "outputs": [
    {
     "data": {
      "text/plain": [
       "array([[ 9, 11, 10,  6]])"
      ]
     },
     "execution_count": 146,
     "metadata": {},
     "output_type": "execute_result"
    }
   ],
   "source": [
    "f = np.random.randint(5,20,(1,4))\n",
    "f"
   ]
  },
  {
   "cell_type": "code",
   "execution_count": 148,
   "id": "f62093d1",
   "metadata": {},
   "outputs": [
    {
     "data": {
      "text/plain": [
       "array([[3.250478  , 5.79227203, 4.89156391, 6.73897246]])"
      ]
     },
     "execution_count": 148,
     "metadata": {},
     "output_type": "execute_result"
    }
   ],
   "source": [
    "f = np.random.uniform(1.5,7.5,(1,4)) #returns a random float number\n",
    "f"
   ]
  },
  {
   "cell_type": "code",
   "execution_count": 151,
   "id": "1f72daf5",
   "metadata": {},
   "outputs": [
    {
     "ename": "NameError",
     "evalue": "name 'random' is not defined",
     "output_type": "error",
     "traceback": [
      "\u001b[1;31m---------------------------------------------------------------------------\u001b[0m",
      "\u001b[1;31mNameError\u001b[0m                                 Traceback (most recent call last)",
      "\u001b[1;32m<ipython-input-151-cf1e60764eb0>\u001b[0m in \u001b[0;36m<module>\u001b[1;34m\u001b[0m\n\u001b[1;32m----> 1\u001b[1;33m \u001b[0mf\u001b[0m \u001b[1;33m=\u001b[0m \u001b[0mnp\u001b[0m\u001b[1;33m.\u001b[0m\u001b[0mround\u001b[0m\u001b[1;33m(\u001b[0m\u001b[0mrandom\u001b[0m\u001b[1;33m.\u001b[0m\u001b[0muniform\u001b[0m\u001b[1;33m(\u001b[0m\u001b[1;36m1.55\u001b[0m\u001b[1;33m,\u001b[0m\u001b[1;36m7.55\u001b[0m\u001b[1;33m)\u001b[0m\u001b[1;33m,\u001b[0m\u001b[1;36m2\u001b[0m\u001b[1;33m)\u001b[0m\u001b[1;33m\u001b[0m\u001b[1;33m\u001b[0m\u001b[0m\n\u001b[0m\u001b[0;32m      2\u001b[0m \u001b[0mf\u001b[0m\u001b[1;33m\u001b[0m\u001b[1;33m\u001b[0m\u001b[0m\n",
      "\u001b[1;31mNameError\u001b[0m: name 'random' is not defined"
     ]
    }
   ],
   "source": [
    "f = np.round(random.uniform(1.55,7.55),2)\n",
    "f"
   ]
  },
  {
   "cell_type": "code",
   "execution_count": 156,
   "id": "3f3694e8",
   "metadata": {},
   "outputs": [
    {
     "ename": "AttributeError",
     "evalue": "module 'numpy.random' has no attribute 'SystemRandom'",
     "output_type": "error",
     "traceback": [
      "\u001b[1;31m---------------------------------------------------------------------------\u001b[0m",
      "\u001b[1;31mAttributeError\u001b[0m                            Traceback (most recent call last)",
      "\u001b[1;32m<ipython-input-156-7a60a10f9858>\u001b[0m in \u001b[0;36m<module>\u001b[1;34m\u001b[0m\n\u001b[1;32m----> 1\u001b[1;33m \u001b[0mh\u001b[0m \u001b[1;33m=\u001b[0m \u001b[0mnp\u001b[0m\u001b[1;33m.\u001b[0m\u001b[0mrandom\u001b[0m\u001b[1;33m.\u001b[0m\u001b[0mSystemRandom\u001b[0m\u001b[1;33m(\u001b[0m\u001b[1;33m)\u001b[0m\u001b[1;33m.\u001b[0m\u001b[0muniform\u001b[0m\u001b[1;33m(\u001b[0m\u001b[1;36m5\u001b[0m\u001b[1;33m,\u001b[0m\u001b[1;36m10\u001b[0m\u001b[1;33m)\u001b[0m\u001b[1;33m\u001b[0m\u001b[1;33m\u001b[0m\u001b[0m\n\u001b[0m\u001b[0;32m      2\u001b[0m \u001b[0mh\u001b[0m\u001b[1;33m\u001b[0m\u001b[1;33m\u001b[0m\u001b[0m\n",
      "\u001b[1;31mAttributeError\u001b[0m: module 'numpy.random' has no attribute 'SystemRandom'"
     ]
    }
   ],
   "source": [
    "h = np.random.SystemRandom().uniform(5,10)\n",
    "h\n"
   ]
  },
  {
   "cell_type": "code",
   "execution_count": 163,
   "id": "8e3bf0e8",
   "metadata": {},
   "outputs": [
    {
     "data": {
      "text/plain": [
       "array([[[3.47386765, 3.2280175 , 3.17021619, 3.50061602],\n",
       "        [3.3929933 , 3.38147726, 3.09410995, 3.46414438],\n",
       "        [3.07108091, 3.9615993 , 3.34472519, 3.90746433]],\n",
       "\n",
       "       [[3.21045251, 3.19165732, 3.69177007, 3.76671287],\n",
       "        [3.24619865, 3.12975265, 3.46911904, 3.34904106],\n",
       "        [3.67082556, 3.15320775, 3.3758281 , 3.62376627]],\n",
       "\n",
       "       [[3.46141968, 3.82018618, 3.59389315, 3.54303311],\n",
       "        [3.74915714, 3.29881744, 3.4407107 , 3.0202153 ],\n",
       "        [3.01173678, 3.57231765, 3.00416969, 3.61568192]]])"
      ]
     },
     "execution_count": 163,
     "metadata": {},
     "output_type": "execute_result"
    }
   ],
   "source": [
    "f = np.random.uniform(3,4,(3,3,4)) #returns a random array of floats\n",
    "f"
   ]
  },
  {
   "cell_type": "code",
   "execution_count": 171,
   "id": "f982d56e",
   "metadata": {},
   "outputs": [
    {
     "name": "stdout",
     "output_type": "stream",
     "text": [
      "[[ 6  8]\n",
      " [10 12]]\n",
      "[[ 5 12]\n",
      " [21 32]]\n"
     ]
    }
   ],
   "source": [
    "# binary operation\n",
    "\n",
    "#addition\n",
    "a = np.array([[1,2],\n",
    "             [3,4]])\n",
    "b = np.array([[5,6],\n",
    "            [7,8]])\n",
    "\n",
    "print(a+b)\n",
    "print(a*b) # scalar multiplication each element in array A with its corresponding element in array B"
   ]
  },
  {
   "cell_type": "code",
   "execution_count": 170,
   "id": "86f46ea9",
   "metadata": {},
   "outputs": [
    {
     "name": "stdout",
     "output_type": "stream",
     "text": [
      "[[31 31]\n",
      " [55 59]\n",
      " [14 15]]\n"
     ]
    }
   ],
   "source": [
    "#multiplication\n",
    "a = np.array([[1,2,3],\n",
    "             [3,4,3],\n",
    "             [2,0,1]])\n",
    "b = np.array([[5,6],\n",
    "            [7,8],\n",
    "             [4,3]])\n",
    "print(a.dot(b)) # matrix multiplcation"
   ]
  },
  {
   "cell_type": "code",
   "execution_count": 185,
   "id": "401fa125",
   "metadata": {},
   "outputs": [
    {
     "name": "stdout",
     "output_type": "stream",
     "text": [
      "[[ 0.84147098  0.90929743]\n",
      " [ 0.14112001 -0.7568025 ]]\n",
      "[[ 2.71828183  7.3890561 ]\n",
      " [20.08553692 54.59815003]]\n",
      "[[1.         1.41421356]\n",
      " [1.73205081 2.        ]]\n"
     ]
    }
   ],
   "source": [
    "\n",
    "Universal function\n",
    "a = np.array([[1,2],\n",
    "            [3,4]])\n",
    "             \n",
    "print(np.sin(a))\n",
    "print(np.exp(a))\n",
    "print(np.sqrt(a))"
   ]
  },
  {
   "cell_type": "code",
   "execution_count": 187,
   "id": "cf54b145",
   "metadata": {},
   "outputs": [
    {
     "name": "stdout",
     "output_type": "stream",
     "text": [
      "36\n"
     ]
    },
    {
     "ename": "ValueError",
     "evalue": "invalid number of arguments",
     "output_type": "error",
     "traceback": [
      "\u001b[1;31m---------------------------------------------------------------------------\u001b[0m",
      "\u001b[1;31mValueError\u001b[0m                                Traceback (most recent call last)",
      "\u001b[1;32m<ipython-input-187-cebba0dbd329>\u001b[0m in \u001b[0;36m<module>\u001b[1;34m\u001b[0m\n\u001b[0;32m      4\u001b[0m             [7,8]])\n\u001b[0;32m      5\u001b[0m \u001b[0mprint\u001b[0m\u001b[1;33m(\u001b[0m\u001b[0mnp\u001b[0m\u001b[1;33m.\u001b[0m\u001b[0msum\u001b[0m\u001b[1;33m(\u001b[0m\u001b[0ma\u001b[0m\u001b[1;33m+\u001b[0m\u001b[0mb\u001b[0m\u001b[1;33m)\u001b[0m\u001b[1;33m)\u001b[0m\u001b[1;33m\u001b[0m\u001b[1;33m\u001b[0m\u001b[0m\n\u001b[1;32m----> 6\u001b[1;33m \u001b[0mprint\u001b[0m\u001b[1;33m(\u001b[0m\u001b[0mnp\u001b[0m\u001b[1;33m.\u001b[0m\u001b[0msubtract\u001b[0m\u001b[1;33m(\u001b[0m\u001b[0ma\u001b[0m\u001b[1;33m-\u001b[0m\u001b[0mb\u001b[0m\u001b[1;33m)\u001b[0m\u001b[1;33m)\u001b[0m\u001b[1;33m\u001b[0m\u001b[1;33m\u001b[0m\u001b[0m\n\u001b[0m",
      "\u001b[1;31mValueError\u001b[0m: invalid number of arguments"
     ]
    }
   ],
   "source": [
    "a = np.array([[1,2],\n",
    "            [3,4]])\n",
    "b = np.array([[5,6],\n",
    "            [7,8]])\n",
    "print(np.sum(a+b))\n",
    "print(np.subtract(a-b))"
   ]
  },
  {
   "cell_type": "code",
   "execution_count": 193,
   "id": "322a5429",
   "metadata": {},
   "outputs": [
    {
     "data": {
      "text/plain": [
       "array([[-1,  0,  3,  4],\n",
       "       [ 3,  2,  5,  9],\n",
       "       [ 4,  4,  5, 10]])"
      ]
     },
     "execution_count": 193,
     "metadata": {},
     "output_type": "execute_result"
    }
   ],
   "source": [
    "a = np.array([[-1,2,3,4],\n",
    "               [4,0,5,9],\n",
    "               [3,4,5,10]])\n",
    "np.sort(a,axis=0)"
   ]
  },
  {
   "cell_type": "code",
   "execution_count": 194,
   "id": "a78eb442",
   "metadata": {},
   "outputs": [
    {
     "data": {
      "text/plain": [
       "array([[-1,  2,  3,  4],\n",
       "       [ 0,  4,  5,  9],\n",
       "       [ 3,  4,  5, 10]])"
      ]
     },
     "execution_count": 194,
     "metadata": {},
     "output_type": "execute_result"
    }
   ],
   "source": [
    "np.sort(a,kind = 'mergesort')"
   ]
  },
  {
   "cell_type": "code",
   "execution_count": 195,
   "id": "ba3ffb14",
   "metadata": {},
   "outputs": [
    {
     "data": {
      "text/plain": [
       "array([[-1,  2,  3,  4],\n",
       "       [ 0,  4,  5,  9],\n",
       "       [ 3,  4,  5, 10]])"
      ]
     },
     "execution_count": 195,
     "metadata": {},
     "output_type": "execute_result"
    }
   ],
   "source": [
    "np.sort(a,kind = 'heapsort')"
   ]
  },
  {
   "cell_type": "code",
   "execution_count": 200,
   "id": "bd6bcef8",
   "metadata": {},
   "outputs": [
    {
     "name": "stdout",
     "output_type": "stream",
     "text": [
      "sort by name [(b'ABC', 2009, 8.5) (b'LMN', 2008, 8.6) (b'XYZ', 2008, 9.6)]\n",
      "sort by grad_year and then Cgpa [(b'LMN', 2008, 8.6) (b'XYZ', 2008, 9.6) (b'ABC', 2009, 8.5)]\n"
     ]
    }
   ],
   "source": [
    "#sort names in array\n",
    "\n",
    "d = [('name','S10'),('grad_yr', int), ('cgpa', float)]\n",
    "values = [('ABC',2009, 8.5), ('XYZ',2008, 9.6),('LMN',2008, 8.6) ]\n",
    "arr = np.array(values, dtype = d)\n",
    "print(\"sort by name\",np.sort(arr, order= 'name'))\n",
    "print('sort by grad_year and then Cgpa', np.sort(arr,order=['grad_yr','cgpa']))"
   ]
  },
  {
   "cell_type": "code",
   "execution_count": null,
   "id": "10b88894",
   "metadata": {},
   "outputs": [],
   "source": []
  },
  {
   "cell_type": "code",
   "execution_count": null,
   "id": "646d8779",
   "metadata": {},
   "outputs": [],
   "source": []
  },
  {
   "cell_type": "code",
   "execution_count": null,
   "id": "d965dd0f",
   "metadata": {},
   "outputs": [],
   "source": []
  }
 ],
 "metadata": {
  "kernelspec": {
   "display_name": "Python 3",
   "language": "python",
   "name": "python3"
  },
  "language_info": {
   "codemirror_mode": {
    "name": "ipython",
    "version": 3
   },
   "file_extension": ".py",
   "mimetype": "text/x-python",
   "name": "python",
   "nbconvert_exporter": "python",
   "pygments_lexer": "ipython3",
   "version": "3.8.8"
  }
 },
 "nbformat": 4,
 "nbformat_minor": 5
}
