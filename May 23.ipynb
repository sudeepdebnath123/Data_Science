{
 "cells": [
  {
   "cell_type": "code",
   "execution_count": null,
   "id": "2db00069",
   "metadata": {},
   "outputs": [],
   "source": [
    "# to run the cell- ctrl + enter or alt + enter"
   ]
  },
  {
   "cell_type": "code",
   "execution_count": null,
   "id": "e957c11f",
   "metadata": {},
   "outputs": [],
   "source": [
    "2-3"
   ]
  },
  {
   "cell_type": "code",
   "execution_count": null,
   "id": "0ed6f40c",
   "metadata": {},
   "outputs": [],
   "source": [
    "# to comment ctrl + /\n",
    "# to add a cell select the cell +press a\n",
    "# to add a cell down slect the cell + press b\n",
    "# undo a cell press x\n",
    "#  undo press z\n",
    "# markdown cell selct the cell and press m"
   ]
  },
  {
   "cell_type": "markdown",
   "id": "d5d706da",
   "metadata": {},
   "source": [
    "### header  1\n",
    "<!--  -->\n",
    "\n"
   ]
  },
  {
   "cell_type": "markdown",
   "id": "0135a4bb",
   "metadata": {},
   "source": [
    "# header"
   ]
  },
  {
   "cell_type": "code",
   "execution_count": null,
   "id": "5976a1fe",
   "metadata": {},
   "outputs": [],
   "source": [
    "#### header 3"
   ]
  },
  {
   "cell_type": "code",
   "execution_count": null,
   "id": "a944ccab",
   "metadata": {},
   "outputs": [],
   "source": []
  },
  {
   "cell_type": "code",
   "execution_count": null,
   "id": "d6dd7aff",
   "metadata": {},
   "outputs": [],
   "source": []
  },
  {
   "cell_type": "code",
   "execution_count": null,
   "id": "dd246fae",
   "metadata": {},
   "outputs": [],
   "source": []
  },
  {
   "cell_type": "code",
   "execution_count": null,
   "id": "62e5fbd2",
   "metadata": {},
   "outputs": [],
   "source": []
  },
  {
   "cell_type": "code",
   "execution_count": null,
   "id": "2506ec4c",
   "metadata": {},
   "outputs": [],
   "source": []
  },
  {
   "cell_type": "code",
   "execution_count": null,
   "id": "bfb2dbe1",
   "metadata": {},
   "outputs": [],
   "source": []
  }
 ],
 "metadata": {
  "kernelspec": {
   "display_name": "Python 3",
   "language": "python",
   "name": "python3"
  },
  "language_info": {
   "codemirror_mode": {
    "name": "ipython",
    "version": 3
   },
   "file_extension": ".py",
   "mimetype": "text/x-python",
   "name": "python",
   "nbconvert_exporter": "python",
   "pygments_lexer": "ipython3",
   "version": "3.8.8"
  }
 },
 "nbformat": 4,
 "nbformat_minor": 5
}
