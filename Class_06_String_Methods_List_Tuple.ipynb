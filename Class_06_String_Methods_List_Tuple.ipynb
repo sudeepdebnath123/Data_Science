{
 "cells": [
  {
   "cell_type": "code",
   "execution_count": null,
   "id": "3cee27c5",
   "metadata": {},
   "outputs": [],
   "source": [
    "# Integer Caching\n",
    "# String Interning"
   ]
  },
  {
   "cell_type": "code",
   "execution_count": null,
   "id": "0bc551dc",
   "metadata": {},
   "outputs": [],
   "source": [
    "CPython\n",
    "# Object Reusability\n",
    "    Integers - -5 to 256\n",
    "    String - A-Z, a-z, 0-9, _\n",
    "    Boolean - True, False \n",
    "    None\n",
    "    \n",
    "    Float and Complex - 0-1"
   ]
  },
  {
   "cell_type": "code",
   "execution_count": 2,
   "id": "6be63158",
   "metadata": {
    "ExecuteTime": {
     "end_time": "2021-06-27T03:12:10.841105Z",
     "start_time": "2021-06-27T03:12:10.831075Z"
    }
   },
   "outputs": [
    {
     "name": "stdout",
     "output_type": "stream",
     "text": [
      "True\n",
      "False\n"
     ]
    }
   ],
   "source": [
    "# a = 10\n",
    "# b = 10\n",
    "# print(a is b)\n",
    "\n",
    "# a = 1000\n",
    "# b = 1000\n",
    "# print(a is b)"
   ]
  },
  {
   "cell_type": "code",
   "execution_count": null,
   "id": "fb729d58",
   "metadata": {},
   "outputs": [],
   "source": [
    "#   'encode',  'format', \n",
    "# 'format_map', \n",
    "#  'maketrans', \n",
    "#    'translate', "
   ]
  },
  {
   "cell_type": "code",
   "execution_count": null,
   "id": "2e0c9e0e",
   "metadata": {},
   "outputs": [],
   "source": [
    "# find - it returns the lowest index of the first occurence of matching substring into the main string.\n",
    "# If the sub stringis not foud then returns -1\n",
    "\n",
    "# rfind - it returns the higehst index of the matching substring into the main string.\n",
    "# If the sub stringis not foud then returns -1\n"
   ]
  },
  {
   "cell_type": "code",
   "execution_count": 10,
   "id": "2a149ef5",
   "metadata": {
    "ExecuteTime": {
     "end_time": "2021-06-27T03:20:24.505172Z",
     "start_time": "2021-06-27T03:20:24.499534Z"
    }
   },
   "outputs": [],
   "source": [
    "my_str = 'peter piper picked a peck of pickled peppers'\n",
    "sub_str = 'p'\n",
    "# print(my_str.find(sub_str))\n",
    "# print(my_str.find('z'))\n",
    "# print(my_str.find('peck'))\n",
    "\n",
    "my_str = 'peter piper picked a peck of pickled peppers'\n",
    "sub_str = 'p'\n",
    "# print(my_str.rfind(sub_str))\n",
    "# print(my_str.rfind('z'))\n",
    "# print(my_str.rfind('peck'))\n",
    "\n"
   ]
  },
  {
   "cell_type": "code",
   "execution_count": null,
   "id": "fa86925a",
   "metadata": {},
   "outputs": [],
   "source": [
    "# index - it returns the lowest index of the first occurence of matching substring into the main string.\n",
    "# If the sub stringis not foud then returns ValueError\n",
    "\n",
    "# rindex - it returns the higehst index of the matching substring into the main string.\n",
    "# If the sub stringis not foud then returns ValueError"
   ]
  },
  {
   "cell_type": "code",
   "execution_count": 16,
   "id": "665615d9",
   "metadata": {
    "ExecuteTime": {
     "end_time": "2021-06-27T03:22:23.664300Z",
     "start_time": "2021-06-27T03:22:23.648495Z"
    }
   },
   "outputs": [
    {
     "ename": "ValueError",
     "evalue": "substring not found",
     "output_type": "error",
     "traceback": [
      "\u001b[0;31m---------------------------------------------------------------------------\u001b[0m",
      "\u001b[0;31mValueError\u001b[0m                                Traceback (most recent call last)",
      "\u001b[0;32m<ipython-input-16-795857d40723>\u001b[0m in \u001b[0;36m<module>\u001b[0;34m\u001b[0m\n\u001b[1;32m      8\u001b[0m \u001b[0msub_str\u001b[0m \u001b[0;34m=\u001b[0m \u001b[0;34m'p'\u001b[0m\u001b[0;34m\u001b[0m\u001b[0;34m\u001b[0m\u001b[0m\n\u001b[1;32m      9\u001b[0m \u001b[0;31m# print(my_str.rindex(sub_str))\u001b[0m\u001b[0;34m\u001b[0m\u001b[0;34m\u001b[0m\u001b[0;34m\u001b[0m\u001b[0m\n\u001b[0;32m---> 10\u001b[0;31m \u001b[0mprint\u001b[0m\u001b[0;34m(\u001b[0m\u001b[0mmy_str\u001b[0m\u001b[0;34m.\u001b[0m\u001b[0mrindex\u001b[0m\u001b[0;34m(\u001b[0m\u001b[0;34m'z'\u001b[0m\u001b[0;34m)\u001b[0m\u001b[0;34m)\u001b[0m\u001b[0;34m\u001b[0m\u001b[0;34m\u001b[0m\u001b[0m\n\u001b[0m\u001b[1;32m     11\u001b[0m \u001b[0;31m# print(my_str.rindex('peck'))\u001b[0m\u001b[0;34m\u001b[0m\u001b[0;34m\u001b[0m\u001b[0;34m\u001b[0m\u001b[0m\n",
      "\u001b[0;31mValueError\u001b[0m: substring not found"
     ]
    }
   ],
   "source": [
    "my_str = 'peter piper picked a peck of pickled peppers'\n",
    "sub_str = 'p'\n",
    "# print(my_str.index(sub_str))\n",
    "# print(my_str.index('z'))\n",
    "# print(my_str.index('peck'))\n",
    "\n",
    "my_str = 'peter piper picked a peck of pickled peppers'\n",
    "sub_str = 'p'\n",
    "# print(my_str.rindex(sub_str))\n",
    "# print(my_str.rindex('z'))\n",
    "# print(my_str.rindex('peck'))"
   ]
  },
  {
   "cell_type": "code",
   "execution_count": 20,
   "id": "dd5bd373",
   "metadata": {
    "ExecuteTime": {
     "end_time": "2021-06-27T03:24:48.221934Z",
     "start_time": "2021-06-27T03:24:48.210897Z"
    }
   },
   "outputs": [
    {
     "name": "stdout",
     "output_type": "stream",
     "text": [
      "9\n",
      "5\n",
      "3\n",
      "0\n"
     ]
    }
   ],
   "source": [
    "my_str = 'peter piper picked a peck of pickled peppers'\n",
    "print(my_str.count('p'))\n",
    "print(my_str.count('pe'))\n",
    "print(my_str.count('p', 6, 21))\n",
    "print(my_str.count('o', 6, 21))"
   ]
  },
  {
   "cell_type": "code",
   "execution_count": 40,
   "id": "4b37a55e",
   "metadata": {
    "ExecuteTime": {
     "end_time": "2021-06-27T03:35:47.583921Z",
     "start_time": "2021-06-27T03:35:47.578620Z"
    }
   },
   "outputs": [],
   "source": [
    "# 'isalnum', 'isalpha', 'isidentifier', \n",
    "# 'islower', 'isnumeric', 'isprintable', 'isspace', 'istitle', 'isupper',\n",
    "\n",
    "# isalnum - string is made up of only alphabets, number or alphabets and numbers both\n",
    "# isalpha - string is made up of only alphabets\n",
    "# isidentifier - True if String is valid identifier else returns False (Exception - Gives True for keywords)\n",
    "# islower - checks whetehr all characters are in lower case\n",
    "# isnumeric - checks whetehr all characters are in numeric characters\n",
    "# isprintable - checks whetehr all characters in string are in printtable format\n",
    "# isspace - checks whetehr all characters in string are space characters or not\n",
    "# istitle - checks whetehr string is in title case or not\n",
    "# isupper - checks whetehr all characters are in upper case\n",
    "\n",
    "# my_str = 'Peter \\vpiper picked \\na peck of \\tpickled peppers'\n",
    "# print(my_str.isprintable())\n",
    "\n",
    "\n",
    "# my_str = '\\v\\t\\f\\n \\t\\f\\n\\v'\n",
    "# print(my_str.isspace())\n",
    "\n",
    "# print('num1'.isidentifier())\n",
    "# print('nu1m'.isidentifier())\n",
    "\n",
    "# print('num_1'.isidentifier())\n",
    "# print('2num1'.isidentifier())\n",
    "# print('num%'.isidentifier())\n",
    "# print('for'.isidentifier())\n",
    "\n",
    "# import keyword\n",
    "# print(keyword.iskeyword('for'))\n",
    "\n",
    "\n",
    "\n",
    "\n"
   ]
  },
  {
   "cell_type": "code",
   "execution_count": 48,
   "id": "7d569e9a",
   "metadata": {
    "ExecuteTime": {
     "end_time": "2021-06-27T03:41:17.180060Z",
     "start_time": "2021-06-27T03:41:17.165963Z"
    }
   },
   "outputs": [
    {
     "name": "stdout",
     "output_type": "stream",
     "text": [
      "00000000000000Python\n",
      "00000000000000Python\n"
     ]
    }
   ],
   "source": [
    "# Center, rjust, ljust, zfill - We use these method to justify the string\n",
    "\n",
    "my_str = 'Python'\n",
    "print(my_str.rjust(20, '0'))\n",
    "# print(my_str.ljust(20, '+'))\n",
    "\n",
    "# print(my_str.center(20, '*'))\n",
    "# print(my_str.zfill(20))\n",
    "\n"
   ]
  },
  {
   "cell_type": "code",
   "execution_count": 51,
   "id": "2e802ca3",
   "metadata": {
    "ExecuteTime": {
     "end_time": "2021-06-27T03:44:45.852740Z",
     "start_time": "2021-06-27T03:44:45.844119Z"
    }
   },
   "outputs": [
    {
     "name": "stdout",
     "output_type": "stream",
     "text": [
      "This is       Python      class\n",
      "This is       Python      class                  \n",
      "                This is       Python      class\n"
     ]
    }
   ],
   "source": [
    "# strip, lstrip, rstrip - Used to remove un-neccessary spaces from ends of the string\n",
    "# These methods can not remove the spaces from the middle of the string\n",
    "my_str = '                This is       Python      class                  '\n",
    "print(my_str.strip())\n",
    "print(my_str.lstrip())\n",
    "print(my_str.rstrip())"
   ]
  },
  {
   "cell_type": "code",
   "execution_count": 59,
   "id": "e5c31b99",
   "metadata": {
    "ExecuteTime": {
     "end_time": "2021-06-27T03:53:06.177707Z",
     "start_time": "2021-06-27T03:53:06.164223Z"
    }
   },
   "outputs": [
    {
     "name": "stdout",
     "output_type": "stream",
     "text": [
      "Before operation - \n",
      "4587856304\n",
      "peter piper picked a peck of pickled peppers\n",
      "\n",
      "zeter zizer zicked a zeck of pickled peppers\n",
      "After operation - \n",
      "4587856304\n",
      "peter piper picked a peck of pickled peppers\n",
      "\n",
      "After operation - \n",
      "4586816304\n",
      "zeter zizer zicked a zeck of zickled zezzers\n"
     ]
    }
   ],
   "source": [
    "# replace - replace all the occurrences of substring from the string\n",
    "\n",
    "my_str = 'peter piper picked a peck of pickled peppers'\n",
    "print('Before operation - ', id(my_str), my_str, sep = '\\n')\n",
    "print()\n",
    "out_str = my_str.replace('p', 'z')\n",
    "print(my_str.replace('p', 'z', 5))\n",
    "print('After operation - ', id(my_str), my_str, sep = '\\n')\n",
    "print()\n",
    "print('After operation - ', id(out_str), out_str, sep = '\\n')\n",
    "\n"
   ]
  },
  {
   "cell_type": "code",
   "execution_count": 69,
   "id": "c263cf3b",
   "metadata": {
    "ExecuteTime": {
     "end_time": "2021-06-27T03:56:41.233246Z",
     "start_time": "2021-06-27T03:56:41.222775Z"
    }
   },
   "outputs": [
    {
     "data": {
      "text/plain": [
       "'peter piper picked a peck of pickled peppers'"
      ]
     },
     "execution_count": 69,
     "metadata": {},
     "output_type": "execute_result"
    }
   ],
   "source": [
    "# split, join\n",
    "\n",
    "# split - it splots the string from spaces and returns a list\n",
    "my_str = 'peter piper picked a peck of pickled peppers'\n",
    "# print(my_str.split())\n",
    "# print(my_str.split('p'))\n",
    "\n",
    "lst_split = my_str.split()\n",
    "# print(lst_split)\n",
    "\n",
    "# join methods takes a list as an arguments and retiurns a string after joining that lst\n",
    "' '.join(lst_split)\n",
    "\n"
   ]
  },
  {
   "cell_type": "code",
   "execution_count": 70,
   "id": "7e8afff4",
   "metadata": {
    "ExecuteTime": {
     "end_time": "2021-06-27T03:58:14.910774Z",
     "start_time": "2021-06-27T03:58:14.902597Z"
    }
   },
   "outputs": [
    {
     "data": {
      "text/plain": [
       "6"
      ]
     },
     "execution_count": 70,
     "metadata": {},
     "output_type": "execute_result"
    }
   ],
   "source": [
    "len('Python')"
   ]
  },
  {
   "cell_type": "code",
   "execution_count": 77,
   "id": "1aa6ed7b",
   "metadata": {
    "ExecuteTime": {
     "end_time": "2021-06-27T04:05:48.495981Z",
     "start_time": "2021-06-27T04:05:48.483775Z"
    }
   },
   "outputs": [
    {
     "data": {
      "text/plain": [
       "('peter', ' ', 'piper picked a peck of pickled peppers')"
      ]
     },
     "execution_count": 77,
     "metadata": {},
     "output_type": "execute_result"
    }
   ],
   "source": [
    "# Partition - returns a tuple of three elements\n",
    "# first element is from begining to the partition characters or word -1\n",
    "# Second element - the partition characters or word itself\n",
    "# thirs element - from partition characters or word +1 to end\n",
    "my_str = 'peter piper picked a peck of pickled peppers'\n",
    "my_str.partition(' ')\n"
   ]
  },
  {
   "cell_type": "code",
   "execution_count": 76,
   "id": "55a9202a",
   "metadata": {
    "ExecuteTime": {
     "end_time": "2021-06-27T04:04:54.960279Z",
     "start_time": "2021-06-27T04:04:54.954339Z"
    }
   },
   "outputs": [
    {
     "name": "stdout",
     "output_type": "stream",
     "text": [
      "['peter piper picked ', 'a peck of ', 'pickled peppers']\n"
     ]
    }
   ],
   "source": [
    "#  'splitlines', - returns a list of elements splitted from \\n\n",
    "# first element is from begining to the \\n-1 index\n",
    "# Second element - from \\n+1 index to end\n",
    "my_str = 'peter piper picked \\na peck of \\npickled peppers'\n",
    "print(my_str.splitlines())\n",
    "\n"
   ]
  },
  {
   "cell_type": "code",
   "execution_count": 91,
   "id": "0673b130",
   "metadata": {
    "ExecuteTime": {
     "end_time": "2021-06-27T04:10:46.881294Z",
     "start_time": "2021-06-27T04:10:46.871608Z"
    }
   },
   "outputs": [
    {
     "name": "stdout",
     "output_type": "stream",
     "text": [
      "Pyt                 hon\n"
     ]
    }
   ],
   "source": [
    "# expandtabs\n",
    "my_str = 'Pyt\\thon'\n",
    "print(my_str.expandtabs(20))\n",
    "# P         y         t         h         o         n\n",
    "# 1\n",
    "# P       y       t       h       o       n\n"
   ]
  },
  {
   "cell_type": "code",
   "execution_count": 110,
   "id": "b71854ea",
   "metadata": {
    "ExecuteTime": {
     "end_time": "2021-06-27T04:33:26.810062Z",
     "start_time": "2021-06-27T04:33:26.792190Z"
    }
   },
   "outputs": [
    {
     "data": {
      "text/plain": [
       "'reteP repiP dekciP A kceP fO delkciP sreppeP'"
      ]
     },
     "execution_count": 110,
     "metadata": {},
     "output_type": "execute_result"
    }
   ],
   "source": [
    "my_str = 'peter piper picked a peck of pickled peppers'\n",
    "\n",
    "# out_str = 'sreppep delkcip fo kcep a dekcip repip retep'\n",
    "\n",
    "# print(my_str[::-1])\n",
    "\n",
    "\n",
    "\n",
    "\n",
    "\n",
    "# out_str = 'retep repip dekcip a kcep fo delkcip sreppep'\n",
    "\n",
    "# out_lst = my_str.split()\n",
    "# # loop comprehension\n",
    "# out_lst = [i[::-1] for i in out_lst]\n",
    "# print(' '.join(out_lst))\n",
    "\n",
    "\n",
    "' '.join([i[::-1] for i in my_str.split()])\n",
    "\n",
    "\n",
    "\n",
    "\n",
    "\n",
    "# out_str = 'reteP repiP dekciP A kceP fO delkciP sreppeP'\n",
    "\n",
    "\n",
    "\n",
    "\n",
    "# y = my_str.title()\n",
    "# \" \".join(i[::-1] for i in y.split())\n",
    "\n",
    "\n",
    "' '.join([i[::-1] for i in my_str.title().split()])\n",
    "\n",
    "\n",
    "\n",
    "\n",
    "\n",
    "\n",
    "\n",
    "\n",
    "\n"
   ]
  },
  {
   "cell_type": "code",
   "execution_count": 113,
   "id": "5c94aa2c",
   "metadata": {
    "ExecuteTime": {
     "end_time": "2021-06-27T04:40:13.423582Z",
     "start_time": "2021-06-27T04:40:13.404562Z"
    }
   },
   "outputs": [
    {
     "name": "stdout",
     "output_type": "stream",
     "text": [
      "[10, 10.2, (10+20j), 'Python', True, None] <class 'list'>\n"
     ]
    }
   ],
   "source": [
    "# List - Any value kept inside []\n",
    "# lst = [10, 10.20, 10+20j, 'Python', True, None]\n",
    "# print(lst, type(lst))\n",
    "\n",
    "# List - Is a sequence\n",
    "    # List supports +ve and -ve indexing\n",
    "    # +ve indexing starts from 0 from left side\n",
    "    # -ve indexing starts from -1 from right side\n",
    "    # Indexing, slicing, concatenation, Repetition, len()\n",
    "    \n",
    "# List is a collection of heterogeneous data types\n",
    "# List can have duplicate elements\n",
    "# List is mutable type\n",
    "    # 1. Allows the item assignment\n",
    "    # 2. Changes will be done in same object\n"
   ]
  },
  {
   "cell_type": "code",
   "execution_count": 138,
   "id": "f27aed2f",
   "metadata": {
    "ExecuteTime": {
     "end_time": "2021-06-27T05:05:18.029127Z",
     "start_time": "2021-06-27T05:05:18.016817Z"
    }
   },
   "outputs": [
    {
     "data": {
      "text/plain": [
       "[100, 200, 300]"
      ]
     },
     "execution_count": 138,
     "metadata": {},
     "output_type": "execute_result"
    }
   ],
   "source": [
    "# List creation\n",
    "\n",
    "# lst = [10, 10.20, 10+20j, 'Python', True, None]\n",
    "# print(lst, type(lst))\n",
    "\n",
    "# Using list(iterable) function\n",
    "# Iterable - is any object which implements __iter__ method\n",
    "# print(dir(list))\n",
    "# print(dir(str))\n",
    "# print(dir(tuple))\n",
    "# print(dir(dict))\n",
    "\n",
    "# lst1 = list([10,20,30,40])\n",
    "# print(lst1, type(lst1))\n",
    "# print()\n",
    "# lst1 = list((10,20,30,40))\n",
    "# print(lst1, type(lst1))\n",
    "# print()\n",
    "# lst1 = list('Python')\n",
    "# print(lst1, type(lst1))\n",
    "# print()\n",
    "# lst1 = list({1:100, 2:200, 3:300, 4:400})\n",
    "# print(lst1, type(lst1))\n",
    "\n",
    "# Taking a list as input from user\n",
    "# lst1 = eval(input('Enter a list: '))\n",
    "# print(lst1, type(lst1))\n",
    "\n",
    "# Using list comprehension\n",
    "# Syntax - [expr for var in iterable if cond]\n",
    "\n",
    "# [i+2 for i in range(5)]\n",
    "\n",
    "d = {1:100, 2:200, 3:300}\n",
    "[d[i] for i in d]\n",
    "\n"
   ]
  },
  {
   "cell_type": "code",
   "execution_count": 135,
   "id": "8091f0b5",
   "metadata": {
    "ExecuteTime": {
     "end_time": "2021-06-27T05:03:51.440839Z",
     "start_time": "2021-06-27T05:03:51.434912Z"
    }
   },
   "outputs": [],
   "source": [
    "# lst = [10,20,30,40]\n",
    "# print(lst, type(lst))\n",
    "\n",
    "# eval('10+20')\n",
    "\n",
    "# range(start, stop, step)\n",
    "# range(stop) -> start = 0, step = 1\n",
    "\n",
    "# Generating a sequence of numbers from left to right - step -> +ve\n",
    "# Generating a sequence of numbers from right to left - step -> -ve\n",
    "# step = +/- 1(seq of consecutive numbers), +/-2(sequence of ebvery 2nd number), +/-3(sequence of ebvery 2nd number))\n",
    "\n",
    "# print(list(range(5)))\n",
    "# print(list(range(12, 16)))\n",
    "# print(list(range(12, -16, -3)))\n",
    "\n",
    "\n",
    "# my_str  = 'Python'\n",
    "# [i for i in my_str]\n",
    "\n",
    " -6.  -5.   -4.       -3         -2      -1\n",
    "[10,20.30, 30+40j, 'Python', [1,2,3,4], True]\n",
    " 0    1.     2.       3.         4.       5\n",
    "\n"
   ]
  },
  {
   "cell_type": "code",
   "execution_count": 148,
   "id": "105c5f41",
   "metadata": {
    "ExecuteTime": {
     "end_time": "2021-06-27T05:13:07.773157Z",
     "start_time": "2021-06-27T05:13:07.764740Z"
    }
   },
   "outputs": [
    {
     "name": "stdout",
     "output_type": "stream",
     "text": [
      "88\n"
     ]
    }
   ],
   "source": [
    "# Nested List\n",
    "# lst = [10,20.30, 30+40j, 'Python', [1,2,3,4], True]\n",
    "# print(lst[4][1])\n",
    "\n",
    "# lst1 = [10,20,[30,40,[11,[22,33,[1,2,3,[99,88,77]]]],44],50]\n",
    "# print(lst1[2][2][1][-1][-1][1])\n"
   ]
  },
  {
   "cell_type": "code",
   "execution_count": 149,
   "id": "40b63df9",
   "metadata": {
    "ExecuteTime": {
     "end_time": "2021-06-27T05:13:46.230812Z",
     "start_time": "2021-06-27T05:13:46.226170Z"
    }
   },
   "outputs": [
    {
     "name": "stdout",
     "output_type": "stream",
     "text": [
      "['__add__', '__class__', '__contains__', '__delattr__', '__delitem__', '__dir__', '__doc__', '__eq__', '__format__', '__ge__', '__getattribute__', '__getitem__', '__gt__', '__hash__', '__iadd__', '__imul__', '__init__', '__init_subclass__', '__iter__', '__le__', '__len__', '__lt__', '__mul__', '__ne__', '__new__', '__reduce__', '__reduce_ex__', '__repr__', '__reversed__', '__rmul__', '__setattr__', '__setitem__', '__sizeof__', '__str__', '__subclasshook__', 'append', 'clear', 'copy', 'count', 'extend', 'index', 'insert', 'pop', 'remove', 'reverse', 'sort']\n"
     ]
    }
   ],
   "source": [
    "# List Methods\n",
    "print(dir(list))\n",
    "\n",
    "#  'copy',  "
   ]
  },
  {
   "cell_type": "code",
   "execution_count": 157,
   "id": "dbcaefd9",
   "metadata": {
    "ExecuteTime": {
     "end_time": "2021-06-27T05:41:08.874742Z",
     "start_time": "2021-06-27T05:41:08.860995Z"
    }
   },
   "outputs": [
    {
     "name": "stdout",
     "output_type": "stream",
     "text": [
      "[10, 10.2, (10+20j), 111, 'Python', True, None]\n"
     ]
    }
   ],
   "source": [
    "# Adding the elements inside a list\n",
    "\n",
    "\n",
    "# Append - adds the value at the end of the list\n",
    "# lst = [10, 10.20, 10+20j, 'Python', True, None]\n",
    "# print('Before Operation')\n",
    "# print(lst, id(lst))\n",
    "# lst.append(111)\n",
    "# print()\n",
    "# print('After Operation')\n",
    "# print(lst, id(lst))\n",
    "\n",
    "# Extend - extends a lst to another list\n",
    "# Looks similar to concatenation but it makes changes to the existing list\n",
    "# lst = [10, 10.20, 10+20j, 'Python', True, None]\n",
    "# lst1 = [1,2,3,4]\n",
    "# lst.extend(lst1)\n",
    "# print(lst)\n",
    "\n",
    "# insert(ind, val)\n",
    "# lst = [10, 10.20, 10+20j, 'Python', True, None]\n",
    "# lst.insert(3, 111)\n",
    "# print(lst)\n",
    "\n",
    "\n",
    "\n",
    "\n"
   ]
  },
  {
   "cell_type": "code",
   "execution_count": 179,
   "id": "4c4a98a4",
   "metadata": {
    "ExecuteTime": {
     "end_time": "2021-06-27T05:54:56.635138Z",
     "start_time": "2021-06-27T05:54:56.623672Z"
    }
   },
   "outputs": [
    {
     "ename": "IndentationError",
     "evalue": "unexpected indent (<ipython-input-179-689deb1af638>, line 2)",
     "output_type": "error",
     "traceback": [
      "\u001b[0;36m  File \u001b[0;32m\"<ipython-input-179-689deb1af638>\"\u001b[0;36m, line \u001b[0;32m2\u001b[0m\n\u001b[0;31m    lst1 = [1,2,3,4]\u001b[0m\n\u001b[0m    ^\u001b[0m\n\u001b[0;31mIndentationError\u001b[0m\u001b[0;31m:\u001b[0m unexpected indent\n"
     ]
    }
   ],
   "source": [
    "lst = [10, 10.20, 10+20j, 'Python', True, None]\n",
    "lst1 = [1,2,3,4]\n",
    "lst.append(lst1)\n",
    "print(lst)"
   ]
  },
  {
   "cell_type": "code",
   "execution_count": 170,
   "id": "8db98a2a",
   "metadata": {
    "ExecuteTime": {
     "end_time": "2021-06-27T05:47:07.855169Z",
     "start_time": "2021-06-27T05:47:07.849138Z"
    }
   },
   "outputs": [],
   "source": [
    "# pop, remove, clear\n",
    "\n",
    "# pop() - removes the last element from list\n",
    "# Returns index Error if list is empty\n",
    "# it returns the value which it has removed\n",
    "# lst = [10,20,30,40]\n",
    "# lst.pop()\n",
    "# print(lst)\n",
    "\n",
    "# pop(ind) - removes the element from list at specified index\n",
    "# Returns index Error if list is empty or that index does not exist\n",
    "# it returns the value which it has removed\n",
    "\n",
    "# lst = [10, 10.20, 10+20j, 'Python', True, None]\n",
    "# lst.pop(2)\n",
    "# print(lst)\n",
    "\n",
    "# remove(val) - removes the first occurrece of the vaue from list\n",
    "# if value is ot present then gives ValueError\n",
    "\n",
    "# lst = [10, 10.20, 10+20j, 'Python', True, None, 10]\n",
    "# lst.remove(10)\n",
    "# print(lst)\n",
    "\n",
    "\n",
    "# clear - clears the list or deletes all elements from list\n",
    "# # Leaves empty list behind\n",
    "# lst = [10, 10.20, 10+20j, 'Python', True, None, 10]\n",
    "# lst.clear()\n",
    "# print(lst)\n",
    "\n"
   ]
  },
  {
   "cell_type": "code",
   "execution_count": 174,
   "id": "bbe38403",
   "metadata": {
    "ExecuteTime": {
     "end_time": "2021-06-27T05:48:53.155689Z",
     "start_time": "2021-06-27T05:48:53.132744Z"
    }
   },
   "outputs": [
    {
     "ename": "ValueError",
     "evalue": "1111 is not in list",
     "output_type": "error",
     "traceback": [
      "\u001b[0;31m---------------------------------------------------------------------------\u001b[0m",
      "\u001b[0;31mValueError\u001b[0m                                Traceback (most recent call last)",
      "\u001b[0;32m<ipython-input-174-1499254c1ee0>\u001b[0m in \u001b[0;36m<module>\u001b[0;34m\u001b[0m\n\u001b[1;32m      6\u001b[0m \u001b[0;31m# lst.index(100)\u001b[0m\u001b[0;34m\u001b[0m\u001b[0;34m\u001b[0m\u001b[0;34m\u001b[0m\u001b[0m\n\u001b[1;32m      7\u001b[0m \u001b[0;34m\u001b[0m\u001b[0m\n\u001b[0;32m----> 8\u001b[0;31m \u001b[0mlst\u001b[0m\u001b[0;34m.\u001b[0m\u001b[0mindex\u001b[0m\u001b[0;34m(\u001b[0m\u001b[0;36m1111\u001b[0m\u001b[0;34m)\u001b[0m\u001b[0;34m\u001b[0m\u001b[0;34m\u001b[0m\u001b[0m\n\u001b[0m\u001b[1;32m      9\u001b[0m \u001b[0;34m\u001b[0m\u001b[0m\n",
      "\u001b[0;31mValueError\u001b[0m: 1111 is not in list"
     ]
    }
   ],
   "source": [
    "# 'count', 'index',\n",
    "\n",
    "lst = [10,20,30,10,100,102,10,11,10,1000,10,200,10]\n",
    "print(lst.count(10))\n",
    "\n",
    "lst.index(100)\n",
    "\n",
    "# lst.index(1111)\n",
    "\n"
   ]
  },
  {
   "cell_type": "code",
   "execution_count": 178,
   "id": "55e44ffe",
   "metadata": {
    "ExecuteTime": {
     "end_time": "2021-06-27T05:52:23.827296Z",
     "start_time": "2021-06-27T05:52:23.802773Z"
    }
   },
   "outputs": [
    {
     "ename": "TypeError",
     "evalue": "'<' not supported between instances of 'complex' and 'float'",
     "output_type": "error",
     "traceback": [
      "\u001b[0;31m---------------------------------------------------------------------------\u001b[0m",
      "\u001b[0;31mTypeError\u001b[0m                                 Traceback (most recent call last)",
      "\u001b[0;32m<ipython-input-178-8c44809e2f32>\u001b[0m in \u001b[0;36m<module>\u001b[0;34m\u001b[0m\n\u001b[1;32m     14\u001b[0m \u001b[0;34m\u001b[0m\u001b[0m\n\u001b[1;32m     15\u001b[0m \u001b[0mlst\u001b[0m \u001b[0;34m=\u001b[0m \u001b[0;34m[\u001b[0m\u001b[0;36m10\u001b[0m\u001b[0;34m,\u001b[0m \u001b[0;36m10.20\u001b[0m\u001b[0;34m,\u001b[0m \u001b[0;36m10\u001b[0m\u001b[0;34m+\u001b[0m\u001b[0;36m20j\u001b[0m\u001b[0;34m,\u001b[0m \u001b[0;34m'Python'\u001b[0m\u001b[0;34m,\u001b[0m \u001b[0;32mTrue\u001b[0m\u001b[0;34m,\u001b[0m \u001b[0;32mNone\u001b[0m\u001b[0;34m,\u001b[0m \u001b[0;36m10\u001b[0m\u001b[0;34m]\u001b[0m\u001b[0;34m\u001b[0m\u001b[0;34m\u001b[0m\u001b[0m\n\u001b[0;32m---> 16\u001b[0;31m \u001b[0mlst\u001b[0m\u001b[0;34m.\u001b[0m\u001b[0msort\u001b[0m\u001b[0;34m(\u001b[0m\u001b[0;34m)\u001b[0m\u001b[0;34m\u001b[0m\u001b[0;34m\u001b[0m\u001b[0m\n\u001b[0m",
      "\u001b[0;31mTypeError\u001b[0m: '<' not supported between instances of 'complex' and 'float'"
     ]
    }
   ],
   "source": [
    "# 'reverse', 'sort'\n",
    "\n",
    "lst = [10,20,30,10,100,102,10,11,10,1000,10,200,10]\n",
    "# lst.reverse()\n",
    "# print(lst)\n",
    "\n",
    "# lst.sort()     # Default sorting - ascending order\n",
    "# print(lst)\n",
    "\n",
    "\n",
    "\n",
    "# lst.sort(reverse = True)     # sorting - Descending order\n",
    "# print(lst)\n",
    "\n",
    "lst = [10, 10.20, 10+20j, 'Python', True, None, 10]\n",
    "lst.sort()\n"
   ]
  },
  {
   "cell_type": "code",
   "execution_count": null,
   "id": "1fc49c51",
   "metadata": {},
   "outputs": [],
   "source": [
    "# tuple"
   ]
  },
  {
   "cell_type": "code",
   "execution_count": 185,
   "id": "e7ba1b21",
   "metadata": {
    "ExecuteTime": {
     "end_time": "2021-06-27T05:55:53.182075Z",
     "start_time": "2021-06-27T05:55:53.166118Z"
    }
   },
   "outputs": [
    {
     "name": "stdout",
     "output_type": "stream",
     "text": [
      "Hi\n",
      "Hello\n"
     ]
    }
   ],
   "source": [
    "if 10:\n",
    "    print('Hi')\n",
    "print('Hello')"
   ]
  },
  {
   "cell_type": "code",
   "execution_count": null,
   "id": "6086b963",
   "metadata": {},
   "outputs": [],
   "source": []
  },
  {
   "cell_type": "code",
   "execution_count": null,
   "id": "6c74f6ef",
   "metadata": {},
   "outputs": [],
   "source": []
  },
  {
   "cell_type": "code",
   "execution_count": null,
   "id": "8ad72f66",
   "metadata": {},
   "outputs": [],
   "source": []
  },
  {
   "cell_type": "code",
   "execution_count": null,
   "id": "7ba84b33",
   "metadata": {},
   "outputs": [],
   "source": []
  },
  {
   "cell_type": "code",
   "execution_count": null,
   "id": "4fbb4b97",
   "metadata": {},
   "outputs": [],
   "source": []
  },
  {
   "cell_type": "code",
   "execution_count": null,
   "id": "991ecf8a",
   "metadata": {},
   "outputs": [],
   "source": []
  },
  {
   "cell_type": "code",
   "execution_count": null,
   "id": "90a10ed2",
   "metadata": {},
   "outputs": [],
   "source": []
  },
  {
   "cell_type": "code",
   "execution_count": null,
   "id": "6b31519b",
   "metadata": {},
   "outputs": [],
   "source": []
  },
  {
   "cell_type": "code",
   "execution_count": null,
   "id": "6e00870a",
   "metadata": {},
   "outputs": [],
   "source": []
  },
  {
   "cell_type": "code",
   "execution_count": null,
   "id": "bc712d13",
   "metadata": {},
   "outputs": [],
   "source": []
  },
  {
   "cell_type": "code",
   "execution_count": null,
   "id": "a0b4266c",
   "metadata": {},
   "outputs": [],
   "source": []
  },
  {
   "cell_type": "code",
   "execution_count": null,
   "id": "20666165",
   "metadata": {},
   "outputs": [],
   "source": []
  },
  {
   "cell_type": "code",
   "execution_count": null,
   "id": "69814a98",
   "metadata": {},
   "outputs": [],
   "source": []
  },
  {
   "cell_type": "code",
   "execution_count": null,
   "id": "edbc34d7",
   "metadata": {},
   "outputs": [],
   "source": []
  },
  {
   "cell_type": "code",
   "execution_count": null,
   "id": "587c815b",
   "metadata": {},
   "outputs": [],
   "source": []
  },
  {
   "cell_type": "code",
   "execution_count": null,
   "id": "b43bad1e",
   "metadata": {},
   "outputs": [],
   "source": []
  },
  {
   "cell_type": "code",
   "execution_count": null,
   "id": "b93c74ca",
   "metadata": {},
   "outputs": [],
   "source": []
  },
  {
   "cell_type": "code",
   "execution_count": null,
   "id": "7c79576e",
   "metadata": {},
   "outputs": [],
   "source": []
  },
  {
   "cell_type": "code",
   "execution_count": null,
   "id": "8bc38635",
   "metadata": {},
   "outputs": [],
   "source": []
  },
  {
   "cell_type": "code",
   "execution_count": null,
   "id": "78408679",
   "metadata": {},
   "outputs": [],
   "source": []
  },
  {
   "cell_type": "code",
   "execution_count": null,
   "id": "3dcb089f",
   "metadata": {},
   "outputs": [],
   "source": []
  },
  {
   "cell_type": "code",
   "execution_count": null,
   "id": "d60a02da",
   "metadata": {},
   "outputs": [],
   "source": []
  },
  {
   "cell_type": "code",
   "execution_count": null,
   "id": "5c7566a2",
   "metadata": {},
   "outputs": [],
   "source": []
  },
  {
   "cell_type": "code",
   "execution_count": null,
   "id": "70f3df8a",
   "metadata": {},
   "outputs": [],
   "source": []
  },
  {
   "cell_type": "code",
   "execution_count": null,
   "id": "5041ef0a",
   "metadata": {},
   "outputs": [],
   "source": []
  },
  {
   "cell_type": "code",
   "execution_count": null,
   "id": "35f8eed9",
   "metadata": {},
   "outputs": [],
   "source": []
  },
  {
   "cell_type": "code",
   "execution_count": null,
   "id": "f8338581",
   "metadata": {},
   "outputs": [],
   "source": []
  },
  {
   "cell_type": "code",
   "execution_count": null,
   "id": "e2c96a09",
   "metadata": {},
   "outputs": [],
   "source": []
  },
  {
   "cell_type": "code",
   "execution_count": null,
   "id": "3db33156",
   "metadata": {},
   "outputs": [],
   "source": []
  },
  {
   "cell_type": "code",
   "execution_count": null,
   "id": "62af4158",
   "metadata": {},
   "outputs": [],
   "source": []
  },
  {
   "cell_type": "code",
   "execution_count": null,
   "id": "0275592e",
   "metadata": {},
   "outputs": [],
   "source": []
  },
  {
   "cell_type": "code",
   "execution_count": null,
   "id": "f51e4cc6",
   "metadata": {},
   "outputs": [],
   "source": []
  },
  {
   "cell_type": "code",
   "execution_count": null,
   "id": "1c7d5071",
   "metadata": {},
   "outputs": [],
   "source": []
  },
  {
   "cell_type": "code",
   "execution_count": null,
   "id": "81013254",
   "metadata": {},
   "outputs": [],
   "source": []
  },
  {
   "cell_type": "code",
   "execution_count": null,
   "id": "cd77a0fa",
   "metadata": {},
   "outputs": [],
   "source": []
  },
  {
   "cell_type": "code",
   "execution_count": null,
   "id": "541d34e4",
   "metadata": {},
   "outputs": [],
   "source": []
  },
  {
   "cell_type": "code",
   "execution_count": null,
   "id": "e0dd1375",
   "metadata": {},
   "outputs": [],
   "source": []
  },
  {
   "cell_type": "code",
   "execution_count": null,
   "id": "7d3a2957",
   "metadata": {},
   "outputs": [],
   "source": []
  },
  {
   "cell_type": "code",
   "execution_count": null,
   "id": "9629f174",
   "metadata": {},
   "outputs": [],
   "source": []
  },
  {
   "cell_type": "code",
   "execution_count": null,
   "id": "619c1a6e",
   "metadata": {},
   "outputs": [],
   "source": []
  },
  {
   "cell_type": "code",
   "execution_count": null,
   "id": "2e88becf",
   "metadata": {},
   "outputs": [],
   "source": []
  },
  {
   "cell_type": "code",
   "execution_count": null,
   "id": "a9fbb389",
   "metadata": {},
   "outputs": [],
   "source": []
  },
  {
   "cell_type": "code",
   "execution_count": null,
   "id": "cc3cd80f",
   "metadata": {},
   "outputs": [],
   "source": []
  },
  {
   "cell_type": "code",
   "execution_count": null,
   "id": "ae46db4d",
   "metadata": {},
   "outputs": [],
   "source": []
  },
  {
   "cell_type": "code",
   "execution_count": null,
   "id": "b54bab3f",
   "metadata": {},
   "outputs": [],
   "source": []
  },
  {
   "cell_type": "code",
   "execution_count": null,
   "id": "1287c137",
   "metadata": {},
   "outputs": [],
   "source": []
  },
  {
   "cell_type": "code",
   "execution_count": null,
   "id": "58e32c73",
   "metadata": {},
   "outputs": [],
   "source": []
  },
  {
   "cell_type": "code",
   "execution_count": null,
   "id": "5bfd5bb7",
   "metadata": {},
   "outputs": [],
   "source": []
  },
  {
   "cell_type": "code",
   "execution_count": null,
   "id": "0b5cdac2",
   "metadata": {},
   "outputs": [],
   "source": []
  },
  {
   "cell_type": "code",
   "execution_count": null,
   "id": "47afd893",
   "metadata": {},
   "outputs": [],
   "source": []
  },
  {
   "cell_type": "code",
   "execution_count": null,
   "id": "a037ae9c",
   "metadata": {},
   "outputs": [],
   "source": []
  },
  {
   "cell_type": "code",
   "execution_count": null,
   "id": "3afb5d70",
   "metadata": {},
   "outputs": [],
   "source": []
  },
  {
   "cell_type": "code",
   "execution_count": null,
   "id": "c33e77ac",
   "metadata": {},
   "outputs": [],
   "source": []
  },
  {
   "cell_type": "code",
   "execution_count": null,
   "id": "6516f2d0",
   "metadata": {},
   "outputs": [],
   "source": []
  },
  {
   "cell_type": "code",
   "execution_count": null,
   "id": "d0ef2a22",
   "metadata": {},
   "outputs": [],
   "source": []
  },
  {
   "cell_type": "code",
   "execution_count": null,
   "id": "6d753074",
   "metadata": {},
   "outputs": [],
   "source": []
  },
  {
   "cell_type": "code",
   "execution_count": null,
   "id": "8c6decc2",
   "metadata": {},
   "outputs": [],
   "source": []
  },
  {
   "cell_type": "code",
   "execution_count": null,
   "id": "c5338b70",
   "metadata": {},
   "outputs": [],
   "source": []
  },
  {
   "cell_type": "code",
   "execution_count": null,
   "id": "b940e9f1",
   "metadata": {},
   "outputs": [],
   "source": []
  },
  {
   "cell_type": "code",
   "execution_count": null,
   "id": "387f2213",
   "metadata": {},
   "outputs": [],
   "source": []
  },
  {
   "cell_type": "code",
   "execution_count": null,
   "id": "fdc2b59b",
   "metadata": {},
   "outputs": [],
   "source": []
  },
  {
   "cell_type": "code",
   "execution_count": null,
   "id": "0e72b744",
   "metadata": {},
   "outputs": [],
   "source": []
  },
  {
   "cell_type": "code",
   "execution_count": null,
   "id": "60bc05ab",
   "metadata": {},
   "outputs": [],
   "source": []
  },
  {
   "cell_type": "code",
   "execution_count": null,
   "id": "01475554",
   "metadata": {},
   "outputs": [],
   "source": []
  },
  {
   "cell_type": "code",
   "execution_count": null,
   "id": "65fa0b60",
   "metadata": {},
   "outputs": [],
   "source": []
  },
  {
   "cell_type": "code",
   "execution_count": null,
   "id": "27def14f",
   "metadata": {},
   "outputs": [],
   "source": []
  },
  {
   "cell_type": "code",
   "execution_count": null,
   "id": "b8005d40",
   "metadata": {},
   "outputs": [],
   "source": []
  },
  {
   "cell_type": "code",
   "execution_count": null,
   "id": "9b9e86bd",
   "metadata": {},
   "outputs": [],
   "source": []
  },
  {
   "cell_type": "code",
   "execution_count": null,
   "id": "a554c9c5",
   "metadata": {},
   "outputs": [],
   "source": []
  },
  {
   "cell_type": "code",
   "execution_count": null,
   "id": "36fa75ec",
   "metadata": {},
   "outputs": [],
   "source": []
  },
  {
   "cell_type": "code",
   "execution_count": null,
   "id": "d0ea80ae",
   "metadata": {},
   "outputs": [],
   "source": []
  }
 ],
 "metadata": {
  "kernelspec": {
   "display_name": "Python 3",
   "language": "python",
   "name": "python3"
  },
  "language_info": {
   "codemirror_mode": {
    "name": "ipython",
    "version": 3
   },
   "file_extension": ".py",
   "mimetype": "text/x-python",
   "name": "python",
   "nbconvert_exporter": "python",
   "pygments_lexer": "ipython3",
   "version": "3.8.2"
  }
 },
 "nbformat": 4,
 "nbformat_minor": 5
}
