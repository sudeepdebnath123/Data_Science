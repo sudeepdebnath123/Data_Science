{
 "cells": [
  {
   "cell_type": "code",
   "execution_count": null,
   "id": "eeb50750",
   "metadata": {},
   "outputs": [],
   "source": [
    "# Conditional Statement in Python \n",
    "# if, elif, else in Python\n",
    "# Loop control in Python\n",
    "# for and while in Python\n",
    "# break and continue"
   ]
  },
  {
   "cell_type": "code",
   "execution_count": null,
   "id": "b22709c2",
   "metadata": {},
   "outputs": [],
   "source": [
    "# Conditional Statement in Python \n",
    "    1. else is optional"
   ]
  },
  {
   "cell_type": "code",
   "execution_count": null,
   "id": "f5901bce",
   "metadata": {},
   "outputs": [],
   "source": [
    "# Syntax of if statement\n",
    "if cond:\n",
    "    code\n",
    "    code\n",
    "    code"
   ]
  },
  {
   "cell_type": "code",
   "execution_count": null,
   "id": "1fd33d86",
   "metadata": {},
   "outputs": [],
   "source": [
    "# Syntax of if-else statement\n",
    "if cond:\n",
    "    code1\n",
    "    code2\n",
    "    code3\n",
    "else:\n",
    "    code4\n",
    "    code5\n",
    "    code6"
   ]
  },
  {
   "cell_type": "code",
   "execution_count": null,
   "id": "43e544a3",
   "metadata": {},
   "outputs": [],
   "source": [
    "# Syntax of if-elif statement\n",
    "if cond1:\n",
    "    code11\n",
    "    code12\n",
    "    code13\n",
    "elif cond2:\n",
    "    code21\n",
    "    code22\n",
    "    code33\n",
    "elif cond3:\n",
    "    code31\n",
    "    code32\n",
    "    code33\n",
    "    "
   ]
  },
  {
   "cell_type": "code",
   "execution_count": null,
   "id": "9ba3a6a9",
   "metadata": {},
   "outputs": [],
   "source": [
    "# Writing code with multiple if\n",
    "if cond1:\n",
    "    code11\n",
    "    code12\n",
    "    code13\n",
    "if cond2:\n",
    "    code21\n",
    "    code22\n",
    "    code33\n",
    "if cond3:\n",
    "    code31\n",
    "    code32\n",
    "    code33\n",
    "else:\n",
    "    code41\n",
    "    code42\n",
    "    code43"
   ]
  },
  {
   "cell_type": "code",
   "execution_count": null,
   "id": "8bae4673",
   "metadata": {},
   "outputs": [],
   "source": [
    "# Syntax of if-elif-else statement\n",
    "if cond1:\n",
    "    code11\n",
    "    code12\n",
    "    code13\n",
    "elif cond2:\n",
    "    code21\n",
    "    code22\n",
    "    code33\n",
    "elif cond3:\n",
    "    code31\n",
    "    code32\n",
    "    code33\n",
    "else:\n",
    "    code41\n",
    "    code42\n",
    "    code43"
   ]
  },
  {
   "cell_type": "code",
   "execution_count": 2,
   "id": "33450b63",
   "metadata": {
    "ExecuteTime": {
     "end_time": "2021-07-03T03:43:31.837594Z",
     "start_time": "2021-07-03T03:43:30.697814Z"
    }
   },
   "outputs": [
    {
     "name": "stdout",
     "output_type": "stream",
     "text": [
      "Enter a number: 22\n",
      "Even\n"
     ]
    }
   ],
   "source": [
    "# Check a number is odd or even\n",
    "num = int(input('Enter a number: '))\n",
    "if num%2 == 0:\n",
    "    print('Even')\n",
    "else:\n",
    "    print('Odd')"
   ]
  },
  {
   "cell_type": "code",
   "execution_count": 4,
   "id": "ab80d8f5",
   "metadata": {
    "ExecuteTime": {
     "end_time": "2021-07-03T03:48:41.451820Z",
     "start_time": "2021-07-03T03:48:41.447402Z"
    }
   },
   "outputs": [],
   "source": [
    "# Nested if-else\n",
    "# if cond1:\n",
    "#     code1\n",
    "#     if cond2:\n",
    "#         code2\n",
    "#         if cond3:\n",
    "#             code3\n",
    "#         else:\n",
    "#             code4\n",
    "#     else:\n",
    "#         code5\n",
    "# else:\n",
    "#     code6\n",
    "    \n",
    "# if cond1, cond2 and cond3 - True -> code1, code2, code3\n",
    "# if cond1, cond2 - True and cond3 - False -> code1, code2, code4\n",
    "# if cond1 - True, cond2, and cond3 - False -> code1, code5\n",
    "# if cond1, cond2, and cond3 - False -> code6\n",
    "        "
   ]
  },
  {
   "cell_type": "code",
   "execution_count": 27,
   "id": "70a5e16e",
   "metadata": {
    "ExecuteTime": {
     "end_time": "2021-07-03T04:14:25.136919Z",
     "start_time": "2021-07-03T04:14:21.883868Z"
    }
   },
   "outputs": [
    {
     "name": "stdout",
     "output_type": "stream",
     "text": [
      " Enter the year: 1967\n",
      "Year is not a leap year\n"
     ]
    }
   ],
   "source": [
    "## Check whether an year is leap year or not\n",
    "# Leap - 1600, 2000, 2020, 2004\n",
    "# Non-Leap - 1800, 1900, 2003, 1967\n",
    "\n",
    "# If year is divisible by 100 then we check whether year is divisible by 400 - True - Leap Year\n",
    "# If year is divisible by 100 then we check whether year is divisible by 400 - False - Non Leap Year\n",
    "# If yesr is not divisioble by 100 then check if year is divisible by 4 - Year is leap Year\n",
    "\n",
    "# leap_year = int(input(\" Enter the year: \"))\n",
    "\n",
    "# if(leap_year%100 == 0):\n",
    "#     if(leap_year%400 == 0):\n",
    "#         print(f\"{leap_year} is a leap year\")\n",
    "#     else:\n",
    "#         print(f\"{leap_year} is not a leap year\")\n",
    "# elif(leap_year%4==0):\n",
    "#     print(f\"{leap_year} is a leap year\")\n",
    "# else:\n",
    "#     print(f\"{leap_year} is not a leap year\")\n",
    "\n",
    "# year = 2000 => \n",
    "# if True:\n",
    "#     if True:\n",
    "#         print('Year is leap Year')\n",
    "\n",
    "# year = 1600 => \n",
    "# if True:\n",
    "#     if True:\n",
    "#         print('Year is leap Year')\n",
    "\n",
    "# year = 1800 => \n",
    "# if True:\n",
    "#     if False:\n",
    "#         no executin\n",
    "#     else:\n",
    "#         print('Year is not a leap year')\n",
    "\n",
    "# year = 2020 => \n",
    "# if False:\n",
    "#     no executin\n",
    "# elif True:\n",
    "#     print('Leap Year')\n",
    "\n",
    "# year = 2003 => \n",
    "# if False:\n",
    "#     no executin\n",
    "# elif False:\n",
    "#     no executin\n",
    "# else:\n",
    "#     print('Year is no a leap year')\n",
    "\n",
    "\n",
    "# year = int(input('Enter a year  '))\n",
    "# if ((year%400 == 0) or ((year%4==0) and (year%100!=0))):\n",
    "#            print (f'{year} is a leap year')\n",
    "# else:\n",
    "#      print (f'{year} is not a leap year')\n",
    "\n",
    "# year = int(input(\" Enter the year: \"))\n",
    "# if year%4 == 0:\n",
    "#     if year%100 == 0:\n",
    "#         if year%400 == 0:\n",
    "#             print('Year is leap Year')\n",
    "#         else:\n",
    "#             print('Year is not a leap year')\n",
    "#     else:   \n",
    "#         print('Year is leap Year')\n",
    "# else:\n",
    "#     print('Year is not a leap year')\n",
    "\n",
    "\n"
   ]
  },
  {
   "cell_type": "code",
   "execution_count": 34,
   "id": "980b6067",
   "metadata": {
    "ExecuteTime": {
     "end_time": "2021-07-03T04:18:48.431266Z",
     "start_time": "2021-07-03T04:18:47.119178Z"
    }
   },
   "outputs": [
    {
     "name": "stdout",
     "output_type": "stream",
     "text": [
      " Please enter the no. frm 1-910\n",
      "No. is not from 1-9\n"
     ]
    }
   ],
   "source": [
    "# Take a number form user(0-9) and print that number in word format. If number is outside of the range then \n",
    "# Print that number is outside the range\n",
    "# input - 9\n",
    "# Output:- Nine\n",
    "# input - 4\n",
    "# Output - Four\n",
    "# a = int(input('Enter a number  bw 0-9 \\n'))\n",
    "# if(a in range (10)):\n",
    "#     if a == 0:\n",
    "#         print('Zero')\n",
    "#     elif a == 1:\n",
    "#         print('One')\n",
    "#     elif a == 2:\n",
    "#         print('Two')\n",
    "#     elif a == 3:\n",
    "#         print('Three')\n",
    "#     elif a == 4:\n",
    "#         print('Four')\n",
    "#     elif a == 5:\n",
    "#         print('Five')\n",
    "#     elif a == 6:\n",
    "#         print('Six')\n",
    "#     elif a == 7:\n",
    "#         print('Seven')\n",
    "#     elif a == 8:\n",
    "#         print('eight')\n",
    "#     elif a == 9:\n",
    "#         print('nine')\n",
    "# else:\n",
    "#     print('Number is Outside the range')\n",
    "\n",
    "a = int( input(\" Please enter the no. frm 1-9\")) \n",
    "if a==1:\n",
    "    print(\"ONE\")\n",
    "elif a==2:\n",
    "     print(\"TWO\")\n",
    "elif a==3:\n",
    "     print(\"THREE\")\n",
    "elif a==4:\n",
    "     print(\"Four\")\n",
    "elif a==5:\n",
    "     print(\"FIVE\")\n",
    "elif a==6:\n",
    "     print(\"SIX\")\n",
    "elif a==7:\n",
    "     print(\"SEVEN\")\n",
    "elif a==8:\n",
    "     print(\"EIGHT\")\n",
    "elif a==9:\n",
    "     print(\"Nine\")\n",
    "else:\n",
    "    print(\"No. is not from 1-9\")"
   ]
  },
  {
   "cell_type": "code",
   "execution_count": 40,
   "id": "4593923c",
   "metadata": {
    "ExecuteTime": {
     "end_time": "2021-07-03T04:31:15.034747Z",
     "start_time": "2021-07-03T04:31:08.521902Z"
    }
   },
   "outputs": [
    {
     "name": "stdout",
     "output_type": "stream",
     "text": [
      "Enter marks for 3 subjects separated by space: 99 89 98\n",
      "Grade is A\n"
     ]
    }
   ],
   "source": [
    "# Take marks obtained by a student in 3 different subject as input from user.\n",
    "# Calculate the average and then print the grade based on below table. If\n",
    "# Marks Obtained - Grade\n",
    "# 90-100         - A\n",
    "# 80-89          - B\n",
    "# 70-79          - C\n",
    "# 60-69          - D\n",
    "# 50-59          - E\n",
    "# <50            - F\n",
    "\n",
    "# marks = [int(x) for x in input(\"Enter marks for 3 subjects separated by space: \").split()]\n",
    "# avg = sum(marks)//3\n",
    "# if avg in range(90,101):\n",
    "#     print(\"Grade is A\")\n",
    "# elif avg in range(80,90):\n",
    "#     print(\"Grade is B\")\n",
    "# elif avg in range(70,80):\n",
    "#     print(\"Grade is C\")\n",
    "# elif avg in range(60,70):\n",
    "#     print(\"Grade is D\")\n",
    "# elif avg in range(50,60):\n",
    "#     print(\"Grade is E\")\n",
    "# else:\n",
    "#     print(\"Grade is F\")\n",
    "\n",
    "\n",
    "# marks1 = int(input(\"Enter subject1 marks : \"))\n",
    "# marks2 = int(input(\"Enter subject2 marks : \"))\n",
    "# marks3 = int(input(\"Enter subject3 marks : \"))\n",
    "\n",
    "# avg = (marks1+marks2+marks3)/3\n",
    "# print(\"Average :\",avg)\n",
    "# if avg < 50 :\n",
    "#     print(\"Grade : F\")\n",
    "# elif avg in range(50,60):\n",
    "#     print(\"Grade : E\")\n",
    "# elif avg in range(60,70):\n",
    "#     print(\"Grade : D\")\n",
    "# elif avg in range(70,80):\n",
    "#     print(\"Grade : C\")\n",
    "# elif avg in range(80,90):\n",
    "#     print(\"Grade : B\")\n",
    "# elif avg in range(90,101):\n",
    "#     print(\"Grade : A\")\n",
    "\n",
    "print(\"Enter Marks Obtained in 3 Subjects: \")\n",
    "subjectOne = int(input())\n",
    "subjectTwo = int(input())\n",
    "subjectThree = int(input())\n",
    "\n",
    "\n",
    "tot = subjectOne+subjectTwo+subjectThree\n",
    "avg = tot/3\n",
    "print(avg)\n",
    "    \n",
    "if avg>=90 and avg<=100:\n",
    "    print(\"Your Grade is A\")\n",
    "elif avg>=80 and avg<=89:\n",
    "    print(\"Your Grade is B\")\n",
    "elif avg>=70 and avg<=79:\n",
    "    print(\"Your Grade is C\")\n",
    "elif avg>=60 and avg<=69:\n",
    "    print(\"Your Grade is D\")\n",
    "elif avg>=51 and avg<=59:\n",
    "    print(\"Your Grade is E\")\n",
    "elif avg <50:\n",
    "    print(\"Your Grade is F\")\n",
    "else:\n",
    "    print(\"Invalid Input!\")\n",
    "\n",
    "\n"
   ]
  },
  {
   "cell_type": "code",
   "execution_count": null,
   "id": "377b4925",
   "metadata": {},
   "outputs": [],
   "source": [
    "# Take a number from user from (1-12) and print the corresponding month. If a number is outside of the range\n",
    "# then print number is outside of the range.\n"
   ]
  },
  {
   "cell_type": "code",
   "execution_count": 39,
   "id": "f0c9453a",
   "metadata": {
    "ExecuteTime": {
     "end_time": "2021-07-03T04:29:32.768429Z",
     "start_time": "2021-07-03T04:29:30.490834Z"
    }
   },
   "outputs": [
    {
     "name": "stdout",
     "output_type": "stream",
     "text": [
      "Enter a character: b\n",
      "b is consonant\n"
     ]
    }
   ],
   "source": [
    "# write a python program to check whether a charatcer entered by user is vowel or consonant?\n",
    "cha = input(\"Enter a character: \")\n",
    "\n",
    "if cha == \"a\" or cha == \"e\" or cha == \"i\" or cha == \"o\" or cha == \"u\" or cha == \"A\" or cha == \"E\" or cha == \"I\" or cha == \"O\" or cha == \"U\":\n",
    "    print(f'{cha} is vowel')\n",
    "else:\n",
    "    print(f'{cha} is consonant')"
   ]
  },
  {
   "cell_type": "code",
   "execution_count": 60,
   "id": "792d8f31",
   "metadata": {
    "ExecuteTime": {
     "end_time": "2021-07-03T05:08:06.123988Z",
     "start_time": "2021-07-03T05:08:06.120238Z"
    }
   },
   "outputs": [],
   "source": [
    "# Take 3 inputs from user as below\n",
    "# a - coeficient of X^2\n",
    "# b - coeficient of X\n",
    "# c - constant term.\n",
    "\n",
    "# Find the roots of the equation (aX^2 + bx+c = 0) on formula - \n",
    "\n",
    "# (-b+/-sqrt(b^2-4ac))/2a\n",
    "\n",
    "# Conditions are\n",
    "# b^2-4ac == 0 => Roots are equal\n",
    "# b^2-4ac > 0 => Roots are real\n",
    "# b^2-4ac < 0 => Roots are complex\n",
    "\n",
    "# import math\n",
    "# a= eval(input(\"enter coeficient of x^2: \"))\n",
    "# b= eval(input(\"enter coeficient of x: \"))\n",
    "# c= eval(input(\"enter constant: \"))\n",
    "\n",
    "# dis = (b**2) - (4*a*c)\n",
    "\n",
    "# if dis == 0:\n",
    "#     print('Roots are equal --> ')\n",
    "#     print('Root 1 = ', -b/(2*a))\n",
    "#     print('Root 2 = ', -b/(2*a))\n",
    "# elif dis > 0:\n",
    "#     print('Roots are real --> ')\n",
    "#     print('Root 1 = ', (-b+math.sqrt(dis))/(2*a))\n",
    "#     print('Root 2 = ', (-b-math.sqrt(dis))/(2*a))\n",
    "# else:\n",
    "#     print('Roots are Complex')\n",
    "    \n",
    "# a = int(input(\"Enter the value for coefficient of x^2 :\"))\n",
    "# b = int(input(\"Enter the value for coefficient of x :\"))\n",
    "# c = int(input(\"Enter the value for constant :\"))\n",
    "\n",
    "# b1 = (-b+(((b**2)-4*a*c)**(0.5)))/(2*a)\n",
    "# b2 = (-b-(((b**2)-4*a*c)**(0.5)))/(2*a)\n",
    "\n",
    "\n",
    "# if(((b**2)-4*a*c)==0):\n",
    "#     print(f\"roots are equal  : {b1}, {b2}\")\n",
    "# elif(((b**2)-4*a*c)>0):\n",
    "#     print(f\"roots are real  : {b1}, {b2}\")\n",
    "# else:\n",
    "#     print(f\"roots are complex  : {b1}, {b2}\")\n",
    "\n",
    "\n",
    "\n"
   ]
  },
  {
   "cell_type": "code",
   "execution_count": 47,
   "id": "5b4e3f64",
   "metadata": {
    "ExecuteTime": {
     "end_time": "2021-07-03T04:51:28.156235Z",
     "start_time": "2021-07-03T04:51:26.366458Z"
    }
   },
   "outputs": [
    {
     "name": "stdout",
     "output_type": "stream",
     "text": [
      "input the string s\n",
      "Vowels found\n"
     ]
    }
   ],
   "source": [
    "strng=str(input(\"input the string \"))\n",
    "if(strng==\"a\"or\"e\"or\"i\"or\"o\"or\"u\"or\"A\"or\"E\"or\"I\"or\"O\"or\"U\"):\n",
    "    print(\"Vowels found\")\n",
    "else:\n",
    "    \n",
    "    print(\"No Vowel found\")"
   ]
  },
  {
   "cell_type": "code",
   "execution_count": 51,
   "id": "46d7aec2",
   "metadata": {
    "ExecuteTime": {
     "end_time": "2021-07-03T04:59:47.079926Z",
     "start_time": "2021-07-03T04:59:47.069446Z"
    }
   },
   "outputs": [
    {
     "data": {
      "text/plain": [
       "True"
      ]
     },
     "execution_count": 51,
     "metadata": {},
     "output_type": "execute_result"
    }
   ],
   "source": [
    "# False or 'e'\n",
    "bool('e')"
   ]
  },
  {
   "cell_type": "code",
   "execution_count": 86,
   "id": "4146759f",
   "metadata": {
    "ExecuteTime": {
     "end_time": "2021-07-03T05:32:51.769994Z",
     "start_time": "2021-07-03T05:32:47.623573Z"
    }
   },
   "outputs": [
    {
     "name": "stdout",
     "output_type": "stream",
     "text": [
      "Enter the password: Python123\n",
      "Password is correct\n"
     ]
    }
   ],
   "source": [
    "# Loop(Iteration) statements in Python\n",
    "\n",
    "# why do we use loop?\n",
    "# DRY - Do Not Repeat Yourself\n",
    "\n",
    "# Types of loop \n",
    "    # for loop - Finite Iteration\n",
    "        # Syntax of for loop\n",
    "#             for var in iterable:\n",
    "#                 code\n",
    "#                 code\n",
    "#                 code\n",
    "    # While loop - Infinite Iteration\n",
    "\n",
    "# Executing the code a finite number of time;\n",
    "# for var in range(num):\n",
    "#     code\n",
    "#     code\n",
    "#     code\n",
    "\n",
    "# for i in range(10):\n",
    "#     print('Hello')\n",
    "\n",
    "org_pwd = 'Python123'\n",
    "user_pwd = input('Enter the password: ')\n",
    "attempts = 5\n",
    "for i in range(5):\n",
    "    if user_pwd == org_pwd:\n",
    "        print('Password is correct')\n",
    "        break\n",
    "    else:\n",
    "        attempts -= 1\n",
    "        print('Entered Password is Wrong')\n",
    "        print(f'{attempts} left')\n",
    "        print('Please re-enter the password')\n",
    "        user_pwd = input()\n",
    "\n",
    "\n",
    "\n",
    "\n"
   ]
  },
  {
   "cell_type": "code",
   "execution_count": 75,
   "id": "1df1feab",
   "metadata": {
    "ExecuteTime": {
     "end_time": "2021-07-03T05:25:52.507402Z",
     "start_time": "2021-07-03T05:25:52.501269Z"
    }
   },
   "outputs": [
    {
     "name": "stdout",
     "output_type": "stream",
     "text": [
      "['__abs__', '__add__', '__and__', '__bool__', '__ceil__', '__class__', '__delattr__', '__dir__', '__divmod__', '__doc__', '__eq__', '__float__', '__floor__', '__floordiv__', '__format__', '__ge__', '__getattribute__', '__getnewargs__', '__gt__', '__hash__', '__index__', '__init__', '__init_subclass__', '__int__', '__invert__', '__le__', '__lshift__', '__lt__', '__mod__', '__mul__', '__ne__', '__neg__', '__new__', '__or__', '__pos__', '__pow__', '__radd__', '__rand__', '__rdivmod__', '__reduce__', '__reduce_ex__', '__repr__', '__rfloordiv__', '__rlshift__', '__rmod__', '__rmul__', '__ror__', '__round__', '__rpow__', '__rrshift__', '__rshift__', '__rsub__', '__rtruediv__', '__rxor__', '__setattr__', '__sizeof__', '__str__', '__sub__', '__subclasshook__', '__truediv__', '__trunc__', '__xor__', 'as_integer_ratio', 'bit_length', 'conjugate', 'denominator', 'from_bytes', 'imag', 'numerator', 'real', 'to_bytes']\n"
     ]
    }
   ],
   "source": [
    "# iterable - any object which implements __iter__ function\n",
    "\n",
    "# print(dir(int))"
   ]
  },
  {
   "cell_type": "code",
   "execution_count": 71,
   "id": "02c30fd1",
   "metadata": {
    "ExecuteTime": {
     "end_time": "2021-07-03T05:24:22.607929Z",
     "start_time": "2021-07-03T05:24:22.592274Z"
    }
   },
   "outputs": [
    {
     "name": "stdout",
     "output_type": "stream",
     "text": [
      "[0, 1, 2, 3, 4, 5, 6, 7, 8, 9]\n",
      "[11, 12, 13, 14, 15, 16, 17, 18, 19]\n",
      "[11, 13, 15, 17, 19]\n"
     ]
    }
   ],
   "source": [
    "# range(start, stop, step)\n",
    "\n",
    "# Default step is +1 -> It generates a seq of numbers in forward direction from start to stop(exclusive)\n",
    "# When step -ve value then numbers will be generated from left to right.   ------------------------->  \n",
    "# When step +ve value then numbers will be generated from right to left.   <-------------------------\n",
    "\n",
    "# Step -> +/-2 -> Generates a seq of every 2nd value\n",
    "# Step -> +/-3 -> Generates a seq of every 3rd value\n",
    "# Step -> +/-4 -> Generates a seq of every 4th value\n",
    "\n",
    "\n",
    "# range(stop)\n",
    "# start = 0\n",
    "# step = 1\n",
    "\n",
    "# print(list(range(10)))\n",
    "# print(list(range(11, 20)))\n",
    "# print(list(range(11, 20, 2)))\n"
   ]
  },
  {
   "cell_type": "code",
   "execution_count": 79,
   "id": "f3f1f68d",
   "metadata": {
    "ExecuteTime": {
     "end_time": "2021-07-03T05:27:51.808854Z",
     "start_time": "2021-07-03T05:27:51.799633Z"
    }
   },
   "outputs": [
    {
     "name": "stdout",
     "output_type": "stream",
     "text": [
      "0\n",
      "0\n",
      "0\n",
      "\n",
      "1\n",
      "2\n",
      "1\n",
      "\n",
      "2\n",
      "4\n",
      "4\n",
      "\n",
      "3\n",
      "6\n",
      "9\n",
      "\n",
      "4\n",
      "8\n",
      "16\n",
      "\n"
     ]
    }
   ],
   "source": [
    "for i in range(5):\n",
    "    print(i)\n",
    "    print(i*2)\n",
    "    print(i**2)\n",
    "    print()"
   ]
  },
  {
   "cell_type": "code",
   "execution_count": 87,
   "id": "7d45599c",
   "metadata": {
    "ExecuteTime": {
     "end_time": "2021-07-03T05:33:37.524181Z",
     "start_time": "2021-07-03T05:33:37.515846Z"
    }
   },
   "outputs": [],
   "source": [
    "# To do acees the element index wise\n",
    "# my_str = 'Python class'\n",
    "# no_of_ele = len(my_str)\n",
    "# for i in range(no_of_ele):\n",
    "#     print(i)\n",
    "#     print(my_str[i])\n",
    "#     print()\n",
    "    \n",
    "# my_str = 'Python class'\n",
    "# no_of_ele = len(my_str)\n",
    "# for i in range(-1, -len(my_str)-1, -1):\n",
    "#     print(i)\n",
    "#     print(my_str[i])\n",
    "#     print()\n",
    "\n"
   ]
  },
  {
   "cell_type": "code",
   "execution_count": 88,
   "id": "e880d3cf",
   "metadata": {
    "ExecuteTime": {
     "end_time": "2021-07-03T05:33:53.109342Z",
     "start_time": "2021-07-03T05:33:53.100319Z"
    }
   },
   "outputs": [
    {
     "name": "stdout",
     "output_type": "stream",
     "text": [
      "P\n",
      "\n",
      "y\n",
      "\n",
      "t\n",
      "\n",
      "h\n",
      "\n",
      "o\n",
      "\n",
      "n\n",
      "\n"
     ]
    }
   ],
   "source": [
    "for i in 'Python':\n",
    "    print(i)\n",
    "    print()"
   ]
  },
  {
   "cell_type": "code",
   "execution_count": 89,
   "id": "5ba785f9",
   "metadata": {
    "ExecuteTime": {
     "end_time": "2021-07-03T05:34:14.230474Z",
     "start_time": "2021-07-03T05:34:14.212320Z"
    }
   },
   "outputs": [
    {
     "name": "stdout",
     "output_type": "stream",
     "text": [
      "1\n",
      "\n",
      "2\n",
      "\n",
      "3\n",
      "\n",
      "4\n",
      "\n"
     ]
    }
   ],
   "source": [
    "for i in (1,2,3,4):\n",
    "    print(i)\n",
    "    print()"
   ]
  },
  {
   "cell_type": "code",
   "execution_count": 90,
   "id": "fc671fcf",
   "metadata": {
    "ExecuteTime": {
     "end_time": "2021-07-03T05:34:21.869233Z",
     "start_time": "2021-07-03T05:34:21.859087Z"
    }
   },
   "outputs": [
    {
     "name": "stdout",
     "output_type": "stream",
     "text": [
      "1\n",
      "\n",
      "2\n",
      "\n",
      "3\n",
      "\n",
      "4\n",
      "\n"
     ]
    }
   ],
   "source": [
    "for i in [1,2,3,4]:\n",
    "    print(i)\n",
    "    print()"
   ]
  },
  {
   "cell_type": "code",
   "execution_count": 92,
   "id": "ab45c141",
   "metadata": {
    "ExecuteTime": {
     "end_time": "2021-07-03T05:34:56.021432Z",
     "start_time": "2021-07-03T05:34:56.011385Z"
    }
   },
   "outputs": [
    {
     "name": "stdout",
     "output_type": "stream",
     "text": [
      "1\n",
      "100\n",
      "\n",
      "2\n",
      "200\n",
      "\n",
      "3\n",
      "300\n",
      "\n",
      "4\n",
      "400\n",
      "\n"
     ]
    }
   ],
   "source": [
    "d = {1:100, 2:200, 3:300, 4:400}\n",
    "for i in d:\n",
    "    print(i)\n",
    "    print(d[i])\n",
    "    print()"
   ]
  },
  {
   "cell_type": "code",
   "execution_count": 96,
   "id": "845823d2",
   "metadata": {
    "ExecuteTime": {
     "end_time": "2021-07-03T05:39:13.359331Z",
     "start_time": "2021-07-03T05:39:13.355991Z"
    }
   },
   "outputs": [],
   "source": [
    "# while loop - no of iterations are infinite\n",
    "\n",
    "# org_pwd = 'Python123'\n",
    "# user_pwd = input('Enter the password: ')\n",
    "\n",
    "# while True:\n",
    "#     if user_pwd == org_pwd:\n",
    "#         print('Password is correct')\n",
    "#         break\n",
    "#     else:\n",
    "#         print('Entered Password is Wrong')\n",
    "#         print('Please re-enter the password')\n",
    "#         user_pwd = input()\n",
    "\n"
   ]
  },
  {
   "cell_type": "code",
   "execution_count": 98,
   "id": "0cd32ce3",
   "metadata": {
    "ExecuteTime": {
     "end_time": "2021-07-03T05:41:32.190889Z",
     "start_time": "2021-07-03T05:41:25.472527Z"
    }
   },
   "outputs": [
    {
     "name": "stdout",
     "output_type": "stream",
     "text": [
      "Enter the password: ahvf\n",
      "Password is incorrect\n",
      "Please re-enter the apssword\n",
      "habfk\n",
      "Password is incorrect\n",
      "Please re-enter the apssword\n",
      "hjabvf\n",
      "Password is incorrect\n",
      "Please re-enter the apssword\n",
      "hqvfw\n",
      "Password is incorrect\n",
      "Please re-enter the apssword\n",
      "Python123\n",
      "Password is correct\n"
     ]
    }
   ],
   "source": [
    "org_pwd = 'Python123'\n",
    "user_pwd = input('Enter the password: ')\n",
    "while user_pwd != org_pwd:\n",
    "    print('Password is incorrect')\n",
    "    print('Please re-enter the apssword')\n",
    "    user_pwd = input()\n",
    "else:\n",
    "    print('Password is correct')\n",
    "    \n",
    "    \n",
    "# else is optional and will be executed at end once loop execution is completed.\n"
   ]
  },
  {
   "cell_type": "code",
   "execution_count": 99,
   "id": "5a8d0e7a",
   "metadata": {
    "ExecuteTime": {
     "end_time": "2021-07-03T05:46:18.937258Z",
     "start_time": "2021-07-03T05:46:01.093680Z"
    }
   },
   "outputs": [
    {
     "name": "stdout",
     "output_type": "stream",
     "text": [
      "Enter the password: Python987\n",
      "Entered Password is Wrong\n",
      "Please re-enter the password\n",
      "python123\n",
      "Entered Password is Wrong\n",
      "Please re-enter the password\n",
      "pyton654\n",
      "Entered Password is Wrong\n",
      "Please re-enter the password\n",
      "python543\n"
     ]
    }
   ],
   "source": [
    "org_pwd = 'Python123'\n",
    "user_pwd = input('Enter the password: ')\n",
    "attempts = 3\n",
    "while attempts >= 0:\n",
    "    if user_pwd == org_pwd:\n",
    "        print('Password is correct')\n",
    "        break\n",
    "    else:\n",
    "        print('Entered Password is Wrong')\n",
    "        attempts -= 1\n",
    "        print('Please re-enter the password')\n",
    "        user_pwd = input()\n"
   ]
  },
  {
   "cell_type": "code",
   "execution_count": 103,
   "id": "2c1322a1",
   "metadata": {
    "ExecuteTime": {
     "end_time": "2021-07-03T05:50:33.762762Z",
     "start_time": "2021-07-03T05:50:33.750507Z"
    }
   },
   "outputs": [
    {
     "name": "stdout",
     "output_type": "stream",
     "text": [
      "P\n",
      "y\n",
      "t\n",
      "h\n",
      "o\n",
      "n\n"
     ]
    }
   ],
   "source": [
    "# Initialization\n",
    "# Condition checing\n",
    "# Increment/decrement\n",
    "\n",
    "my_str = 'Python'\n",
    "ind = 0\n",
    "while ind < len(my_str):\n",
    "    print(my_str[ind])\n",
    "    ind += 1\n",
    "    \n",
    "# ind = 5\n",
    "# P\n",
    "# y\n",
    "# t\n",
    "# h\n",
    "# o\n",
    "# n"
   ]
  },
  {
   "cell_type": "code",
   "execution_count": 119,
   "id": "d0fa49b1",
   "metadata": {
    "ExecuteTime": {
     "end_time": "2021-07-03T06:08:31.657883Z",
     "start_time": "2021-07-03T06:08:29.094850Z"
    }
   },
   "outputs": [
    {
     "name": "stdout",
     "output_type": "stream",
     "text": [
      "Enter a number: \n",
      "98765\n",
      "35\n"
     ]
    }
   ],
   "source": [
    "# Take a number from user and find the sum of it's digits.\n",
    "# input_num = 98765\n",
    "# outout = 35\n",
    "\n",
    "# num = input(\"Enter the number :\")\n",
    "# sum = 0\n",
    "# for i in num:\n",
    "#     sum+= int(i)\n",
    "# print(sum)\n",
    "\n",
    "# val=eval(input(\"Enter a number : \"))\n",
    "# a=0\n",
    "\n",
    "# while (val!=0):\n",
    "#     a = a + (val % 10)\n",
    "#     val = val//10\n",
    "    \n",
    "# print(a)\n",
    "\n",
    "\n",
    "num = input('Enter a number: \\n')\n",
    "\n",
    "sum = 0\n",
    "\n",
    "for  i in range(len(num)):\n",
    "    sum = sum+int(num[i])\n",
    "    \n",
    "print(sum)\n",
    "\n"
   ]
  },
  {
   "cell_type": "code",
   "execution_count": 112,
   "id": "e81d83e2",
   "metadata": {
    "ExecuteTime": {
     "end_time": "2021-07-03T06:02:31.805224Z",
     "start_time": "2021-07-03T06:02:28.872110Z"
    }
   },
   "outputs": [
    {
     "name": "stdout",
     "output_type": "stream",
     "text": [
      "enter a no-9\n",
      "1\n"
     ]
    }
   ],
   "source": [
    "# Take a number from user and print the factorial of that number.\n",
    "# input_num = 5\n",
    "# result = 120 (5X4X3X2X1)\n",
    "\n",
    "# num = int(input(\"Enter the number :\"))\n",
    "# fact = 1\n",
    "# for i in range(1,num+1):\n",
    "#     fact = fact*i\n",
    "# print(fact)\n",
    "\n",
    "# n = int(input(\"enter a no\"))\n",
    "\n",
    "# fac = 1\n",
    "# while n>0 :\n",
    "#     fac = fac*n\n",
    "#     n-=1\n",
    "# print(fac)"
   ]
  },
  {
   "cell_type": "code",
   "execution_count": 115,
   "id": "75a19f27",
   "metadata": {
    "ExecuteTime": {
     "end_time": "2021-07-03T06:06:01.650054Z",
     "start_time": "2021-07-03T06:05:58.099609Z"
    }
   },
   "outputs": [
    {
     "name": "stdout",
     "output_type": "stream",
     "text": [
      "Enter a string:PYTHON\n",
      "NOHTYP\n"
     ]
    }
   ],
   "source": [
    "# Take a string from user and reverse it using loop, (do not use any method)\n",
    "Mystring = input(\"Enter a string:\")\n",
    "new_str=\"\"\n",
    "i=len(Mystring)\n",
    "while i>0:\n",
    "    new_str = new_str + Mystring[i-1]\n",
    "    i-=1\n",
    "    \n",
    "print(new_str)"
   ]
  },
  {
   "cell_type": "code",
   "execution_count": null,
   "id": "d173f3a2",
   "metadata": {},
   "outputs": [],
   "source": [
    "# print below pattern\n",
    "    *\n",
    "   **\n",
    "  ***\n",
    " ****\n",
    "*****"
   ]
  },
  {
   "cell_type": "code",
   "execution_count": 124,
   "id": "019fd3dc",
   "metadata": {
    "ExecuteTime": {
     "end_time": "2021-07-03T06:12:24.618617Z",
     "start_time": "2021-07-03T06:12:24.613106Z"
    }
   },
   "outputs": [],
   "source": [
    "# Transfer Statmenet - \n",
    "# break - to break the loop, or to exit the loop\n",
    "# continue - it skips the current iteration\n",
    "\n",
    "# org_pwd = 'Python123'\n",
    "# user_pwd = input('Enter the password: ')\n",
    "# attempts = 3\n",
    "# while attempts >= 0:\n",
    "#     if user_pwd == org_pwd:\n",
    "#         print('Password is correct')\n",
    "#         break\n",
    "#     else:\n",
    "#         print('Entered Password is Wrong')\n",
    "#         attempts -= 1\n",
    "#         print('Please re-enter the password')\n",
    "#         user_pwd = input()\n",
    "\n",
    "\n",
    "# lst = list(range(10))\n",
    "# for i in lst:\n",
    "#     if i == 6:\n",
    "#         break\n",
    "#     else:\n",
    "#         print(i)\n",
    "\n",
    "\n",
    "# lst = list(range(10))\n",
    "# for i in lst:\n",
    "#     if i == 6:\n",
    "#         continue\n",
    "#     else:\n",
    "#         print(i)\n",
    "\n"
   ]
  },
  {
   "cell_type": "code",
   "execution_count": null,
   "id": "4d5539b0",
   "metadata": {},
   "outputs": [],
   "source": [
    "# for loop1:\n",
    "#     for loop2:\n",
    "#         break/continue"
   ]
  },
  {
   "cell_type": "code",
   "execution_count": 125,
   "id": "282aa723",
   "metadata": {
    "ExecuteTime": {
     "end_time": "2021-07-03T06:13:55.528146Z",
     "start_time": "2021-07-03T06:13:55.513317Z"
    }
   },
   "outputs": [
    {
     "name": "stdout",
     "output_type": "stream",
     "text": [
      "0\n",
      "0\n",
      "0\n",
      "0\n",
      "1\n",
      "2\n",
      "0\n",
      "2\n",
      "4\n",
      "0\n",
      "3\n",
      "6\n",
      "0\n",
      "4\n",
      "8\n"
     ]
    }
   ],
   "source": [
    "for i in range(5):\n",
    "    for j in range(3):\n",
    "        print(i*j)"
   ]
  },
  {
   "cell_type": "code",
   "execution_count": null,
   "id": "4bf6efc7",
   "metadata": {},
   "outputs": [],
   "source": []
  },
  {
   "cell_type": "code",
   "execution_count": null,
   "id": "77d1d9a8",
   "metadata": {},
   "outputs": [],
   "source": []
  },
  {
   "cell_type": "code",
   "execution_count": null,
   "id": "55198306",
   "metadata": {},
   "outputs": [],
   "source": []
  },
  {
   "cell_type": "code",
   "execution_count": null,
   "id": "fe780690",
   "metadata": {},
   "outputs": [],
   "source": []
  },
  {
   "cell_type": "code",
   "execution_count": null,
   "id": "d0273334",
   "metadata": {},
   "outputs": [],
   "source": []
  },
  {
   "cell_type": "code",
   "execution_count": null,
   "id": "71464aa7",
   "metadata": {},
   "outputs": [],
   "source": []
  },
  {
   "cell_type": "code",
   "execution_count": null,
   "id": "4a12149f",
   "metadata": {},
   "outputs": [],
   "source": []
  },
  {
   "cell_type": "code",
   "execution_count": null,
   "id": "4b04fc50",
   "metadata": {},
   "outputs": [],
   "source": []
  },
  {
   "cell_type": "code",
   "execution_count": null,
   "id": "a77431b2",
   "metadata": {},
   "outputs": [],
   "source": []
  },
  {
   "cell_type": "code",
   "execution_count": null,
   "id": "791d5cee",
   "metadata": {},
   "outputs": [],
   "source": []
  },
  {
   "cell_type": "code",
   "execution_count": null,
   "id": "fcc26788",
   "metadata": {},
   "outputs": [],
   "source": []
  },
  {
   "cell_type": "code",
   "execution_count": null,
   "id": "76cf5663",
   "metadata": {},
   "outputs": [],
   "source": []
  },
  {
   "cell_type": "code",
   "execution_count": null,
   "id": "d89edf6c",
   "metadata": {},
   "outputs": [],
   "source": []
  },
  {
   "cell_type": "code",
   "execution_count": null,
   "id": "4e344beb",
   "metadata": {},
   "outputs": [],
   "source": []
  },
  {
   "cell_type": "code",
   "execution_count": null,
   "id": "8eed1368",
   "metadata": {},
   "outputs": [],
   "source": []
  },
  {
   "cell_type": "code",
   "execution_count": null,
   "id": "af5b1539",
   "metadata": {},
   "outputs": [],
   "source": []
  },
  {
   "cell_type": "code",
   "execution_count": null,
   "id": "3f7a8151",
   "metadata": {},
   "outputs": [],
   "source": []
  },
  {
   "cell_type": "code",
   "execution_count": null,
   "id": "2e14774a",
   "metadata": {},
   "outputs": [],
   "source": []
  },
  {
   "cell_type": "code",
   "execution_count": null,
   "id": "c6090fbd",
   "metadata": {},
   "outputs": [],
   "source": []
  },
  {
   "cell_type": "code",
   "execution_count": null,
   "id": "566929e1",
   "metadata": {},
   "outputs": [],
   "source": []
  },
  {
   "cell_type": "code",
   "execution_count": null,
   "id": "bebca628",
   "metadata": {},
   "outputs": [],
   "source": []
  },
  {
   "cell_type": "code",
   "execution_count": null,
   "id": "2d6cf276",
   "metadata": {},
   "outputs": [],
   "source": []
  },
  {
   "cell_type": "code",
   "execution_count": null,
   "id": "4721318e",
   "metadata": {},
   "outputs": [],
   "source": []
  },
  {
   "cell_type": "code",
   "execution_count": null,
   "id": "50406e71",
   "metadata": {},
   "outputs": [],
   "source": []
  },
  {
   "cell_type": "code",
   "execution_count": null,
   "id": "4d2b46ed",
   "metadata": {},
   "outputs": [],
   "source": []
  },
  {
   "cell_type": "code",
   "execution_count": null,
   "id": "e16393a2",
   "metadata": {},
   "outputs": [],
   "source": []
  },
  {
   "cell_type": "code",
   "execution_count": null,
   "id": "af79b047",
   "metadata": {},
   "outputs": [],
   "source": []
  },
  {
   "cell_type": "code",
   "execution_count": null,
   "id": "76cda988",
   "metadata": {},
   "outputs": [],
   "source": []
  },
  {
   "cell_type": "code",
   "execution_count": null,
   "id": "4f4c3666",
   "metadata": {},
   "outputs": [],
   "source": []
  },
  {
   "cell_type": "code",
   "execution_count": null,
   "id": "95cec8ab",
   "metadata": {},
   "outputs": [],
   "source": []
  },
  {
   "cell_type": "code",
   "execution_count": null,
   "id": "d050a44a",
   "metadata": {},
   "outputs": [],
   "source": []
  },
  {
   "cell_type": "code",
   "execution_count": null,
   "id": "630187a2",
   "metadata": {},
   "outputs": [],
   "source": []
  },
  {
   "cell_type": "code",
   "execution_count": null,
   "id": "9d8413ed",
   "metadata": {},
   "outputs": [],
   "source": []
  },
  {
   "cell_type": "code",
   "execution_count": null,
   "id": "7abecb0a",
   "metadata": {},
   "outputs": [],
   "source": []
  },
  {
   "cell_type": "code",
   "execution_count": null,
   "id": "c8d3232e",
   "metadata": {},
   "outputs": [],
   "source": []
  },
  {
   "cell_type": "code",
   "execution_count": null,
   "id": "7556375b",
   "metadata": {},
   "outputs": [],
   "source": []
  },
  {
   "cell_type": "code",
   "execution_count": null,
   "id": "9b81e346",
   "metadata": {},
   "outputs": [],
   "source": []
  },
  {
   "cell_type": "code",
   "execution_count": null,
   "id": "e24910de",
   "metadata": {},
   "outputs": [],
   "source": []
  },
  {
   "cell_type": "code",
   "execution_count": null,
   "id": "1338847c",
   "metadata": {},
   "outputs": [],
   "source": []
  },
  {
   "cell_type": "code",
   "execution_count": null,
   "id": "64cc404b",
   "metadata": {},
   "outputs": [],
   "source": []
  },
  {
   "cell_type": "code",
   "execution_count": null,
   "id": "a41155aa",
   "metadata": {},
   "outputs": [],
   "source": []
  },
  {
   "cell_type": "code",
   "execution_count": null,
   "id": "80f830cb",
   "metadata": {},
   "outputs": [],
   "source": []
  },
  {
   "cell_type": "code",
   "execution_count": null,
   "id": "f71eddfb",
   "metadata": {},
   "outputs": [],
   "source": []
  }
 ],
 "metadata": {
  "kernelspec": {
   "display_name": "Python 3",
   "language": "python",
   "name": "python3"
  },
  "language_info": {
   "codemirror_mode": {
    "name": "ipython",
    "version": 3
   },
   "file_extension": ".py",
   "mimetype": "text/x-python",
   "name": "python",
   "nbconvert_exporter": "python",
   "pygments_lexer": "ipython3",
   "version": "3.8.2"
  }
 },
 "nbformat": 4,
 "nbformat_minor": 5
}
