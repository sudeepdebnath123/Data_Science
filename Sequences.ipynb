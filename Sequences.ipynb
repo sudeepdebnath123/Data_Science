{
 "cells": [
  {
   "cell_type": "code",
   "execution_count": 4,
   "id": "d0ac3541",
   "metadata": {},
   "outputs": [
    {
     "name": "stdout",
     "output_type": "stream",
     "text": [
      "['P', 'Q', 'R', 'S']\n"
     ]
    }
   ],
   "source": [
    "# A list is type of a sequence of data points\n",
    "#  use square brackets\n",
    "#  \"name_of_the_list[index_of_element]\"\n",
    "# count starts from 0 from left to right and -1 from right to left\n",
    "\n",
    "party =['P','Q','R','S']\n",
    "print (party)"
   ]
  },
  {
   "cell_type": "code",
   "execution_count": 5,
   "id": "da38b38a",
   "metadata": {},
   "outputs": [
    {
     "name": "stdout",
     "output_type": "stream",
     "text": [
      "P\n"
     ]
    }
   ],
   "source": [
    "print(party[0])"
   ]
  },
  {
   "cell_type": "code",
   "execution_count": 6,
   "id": "835ed74a",
   "metadata": {},
   "outputs": [
    {
     "name": "stdout",
     "output_type": "stream",
     "text": [
      "S\n"
     ]
    }
   ],
   "source": [
    "print(party[-1])"
   ]
  },
  {
   "cell_type": "code",
   "execution_count": 7,
   "id": "b59aca61",
   "metadata": {},
   "outputs": [
    {
     "name": "stdout",
     "output_type": "stream",
     "text": [
      "P\n"
     ]
    }
   ],
   "source": [
    "print(party[-4])"
   ]
  },
  {
   "cell_type": "code",
   "execution_count": 10,
   "id": "fe021fef",
   "metadata": {},
   "outputs": [
    {
     "name": "stdout",
     "output_type": "stream",
     "text": [
      "['P', 'Q', 'R', 'S']\n"
     ]
    }
   ],
   "source": [
    "party =['P','Q','R','S']\n",
    "print (party)"
   ]
  },
  {
   "cell_type": "code",
   "execution_count": 11,
   "id": "32d09795",
   "metadata": {},
   "outputs": [
    {
     "name": "stdout",
     "output_type": "stream",
     "text": [
      "['P', 'Q', 'R', 'T']\n"
     ]
    }
   ],
   "source": [
    "party[3] = 'T'\n",
    "print(party)"
   ]
  },
  {
   "cell_type": "code",
   "execution_count": 12,
   "id": "7e95c70f",
   "metadata": {},
   "outputs": [],
   "source": [
    "del party[3]"
   ]
  },
  {
   "cell_type": "code",
   "execution_count": 13,
   "id": "3e0e7e78",
   "metadata": {},
   "outputs": [
    {
     "data": {
      "text/plain": [
       "['P', 'Q', 'R']"
      ]
     },
     "execution_count": 13,
     "metadata": {},
     "output_type": "execute_result"
    }
   ],
   "source": [
    "party"
   ]
  },
  {
   "cell_type": "code",
   "execution_count": null,
   "id": "a8da6fa7",
   "metadata": {},
   "outputs": [],
   "source": [
    "#  name of the object .[ dot operator] --> calls on/invokes a certain method eg. append () extend([]) index ()"
   ]
  },
  {
   "cell_type": "code",
   "execution_count": 14,
   "id": "b29b35fb",
   "metadata": {},
   "outputs": [],
   "source": [
    "party.append('T')\n",
    "# here part is an object"
   ]
  },
  {
   "cell_type": "code",
   "execution_count": 15,
   "id": "5ba6cfe8",
   "metadata": {},
   "outputs": [
    {
     "data": {
      "text/plain": [
       "['P', 'Q', 'R', 'T']"
      ]
     },
     "execution_count": 15,
     "metadata": {},
     "output_type": "execute_result"
    }
   ],
   "source": [
    "party"
   ]
  },
  {
   "cell_type": "code",
   "execution_count": 16,
   "id": "8cb39f64",
   "metadata": {},
   "outputs": [
    {
     "name": "stdout",
     "output_type": "stream",
     "text": [
      "['P', 'Q', 'R', 'T', 'M', 'W']\n"
     ]
    }
   ],
   "source": [
    "party.extend(['M','W'])\n",
    "print (party)"
   ]
  },
  {
   "cell_type": "code",
   "execution_count": 83,
   "id": "714db62f",
   "metadata": {},
   "outputs": [
    {
     "name": "stdout",
     "output_type": "stream",
     "text": [
      "the second letter is  T\n"
     ]
    }
   ],
   "source": [
    "print ('the second letter is ', party[1])"
   ]
  },
  {
   "cell_type": "code",
   "execution_count": null,
   "id": "d0820369",
   "metadata": {},
   "outputs": [],
   "source": []
  },
  {
   "cell_type": "code",
   "execution_count": 22,
   "id": "bc58b967",
   "metadata": {},
   "outputs": [
    {
     "data": {
      "text/plain": [
       "6"
      ]
     },
     "execution_count": 22,
     "metadata": {},
     "output_type": "execute_result"
    }
   ],
   "source": [
    "# len returns the number of elements in a list\n",
    "len(party)"
   ]
  },
  {
   "cell_type": "code",
   "execution_count": null,
   "id": "ca252ffb",
   "metadata": {},
   "outputs": [],
   "source": [
    "# here is party is an argument "
   ]
  },
  {
   "cell_type": "code",
   "execution_count": null,
   "id": "85afaf42",
   "metadata": {},
   "outputs": [],
   "source": [
    "# slicing "
   ]
  },
  {
   "cell_type": "code",
   "execution_count": 24,
   "id": "c78f1ee7",
   "metadata": {},
   "outputs": [
    {
     "name": "stdout",
     "output_type": "stream",
     "text": [
      "['P', 'Q', 'R', 'T', 'M', 'W']\n"
     ]
    }
   ],
   "source": [
    "party = ['P', 'Q', 'R', 'T', 'M', 'W']\n",
    "print (party)"
   ]
  },
  {
   "cell_type": "code",
   "execution_count": 30,
   "id": "0b309264",
   "metadata": {},
   "outputs": [
    {
     "data": {
      "text/plain": [
       "['Q', 'R']"
      ]
     },
     "execution_count": 30,
     "metadata": {},
     "output_type": "execute_result"
    }
   ],
   "source": [
    "party[1:3]"
   ]
  },
  {
   "cell_type": "code",
   "execution_count": 31,
   "id": "324a1a2d",
   "metadata": {},
   "outputs": [
    {
     "data": {
      "text/plain": [
       "['P', 'Q']"
      ]
     },
     "execution_count": 31,
     "metadata": {},
     "output_type": "execute_result"
    }
   ],
   "source": [
    "party [:2]"
   ]
  },
  {
   "cell_type": "code",
   "execution_count": 32,
   "id": "259050e5",
   "metadata": {},
   "outputs": [
    {
     "data": {
      "text/plain": [
       "['M', 'W']"
      ]
     },
     "execution_count": 32,
     "metadata": {},
     "output_type": "execute_result"
    }
   ],
   "source": [
    "party[4:]"
   ]
  },
  {
   "cell_type": "code",
   "execution_count": 33,
   "id": "b935a46b",
   "metadata": {},
   "outputs": [
    {
     "data": {
      "text/plain": [
       "['M', 'W']"
      ]
     },
     "execution_count": 33,
     "metadata": {},
     "output_type": "execute_result"
    }
   ],
   "source": [
    "party[-2:]"
   ]
  },
  {
   "cell_type": "code",
   "execution_count": null,
   "id": "75245a11",
   "metadata": {},
   "outputs": [],
   "source": []
  },
  {
   "cell_type": "code",
   "execution_count": null,
   "id": "1bf3a462",
   "metadata": {},
   "outputs": [],
   "source": [
    "# the first number will be taken as indicated in the string but the second element will be the one before the added number \n",
    "# here the p is 1 but to get R we need to take 3 (position of T)"
   ]
  },
  {
   "cell_type": "code",
   "execution_count": 34,
   "id": "18590086",
   "metadata": {},
   "outputs": [
    {
     "data": {
      "text/plain": [
       "3"
      ]
     },
     "execution_count": 34,
     "metadata": {},
     "output_type": "execute_result"
    }
   ],
   "source": [
    "party.index('T')"
   ]
  },
  {
   "cell_type": "code",
   "execution_count": 36,
   "id": "08d87c2f",
   "metadata": {},
   "outputs": [
    {
     "name": "stdout",
     "output_type": "stream",
     "text": [
      "[1, 2, 3, 4, 5]\n"
     ]
    }
   ],
   "source": [
    "num1 = [1,2,3,4,5]\n",
    "print (num1)"
   ]
  },
  {
   "cell_type": "code",
   "execution_count": 37,
   "id": "baa9a0af",
   "metadata": {},
   "outputs": [
    {
     "name": "stdout",
     "output_type": "stream",
     "text": [
      "[['P', 'Q', 'R', 'T', 'M', 'W'], [1, 2, 3, 4, 5]]\n"
     ]
    }
   ],
   "source": [
    "list2 = [ party, num1]\n",
    "print (list2)"
   ]
  },
  {
   "cell_type": "code",
   "execution_count": 38,
   "id": "bcf618ee",
   "metadata": {},
   "outputs": [],
   "source": [
    "# sort() method\n",
    "party.sort()"
   ]
  },
  {
   "cell_type": "code",
   "execution_count": 39,
   "id": "ffa896d6",
   "metadata": {},
   "outputs": [
    {
     "data": {
      "text/plain": [
       "['M', 'P', 'Q', 'R', 'T', 'W']"
      ]
     },
     "execution_count": 39,
     "metadata": {},
     "output_type": "execute_result"
    }
   ],
   "source": [
    "party"
   ]
  },
  {
   "cell_type": "code",
   "execution_count": 40,
   "id": "7bd1823a",
   "metadata": {},
   "outputs": [
    {
     "name": "stdout",
     "output_type": "stream",
     "text": [
      "['W', 'T', 'R', 'Q', 'P', 'M']\n"
     ]
    }
   ],
   "source": [
    "party.sort(reverse=True)\n",
    "print (party)"
   ]
  },
  {
   "cell_type": "code",
   "execution_count": 41,
   "id": "25f8bf53",
   "metadata": {},
   "outputs": [],
   "source": [
    "num1.sort()"
   ]
  },
  {
   "cell_type": "code",
   "execution_count": 42,
   "id": "3b0477e2",
   "metadata": {},
   "outputs": [
    {
     "data": {
      "text/plain": [
       "[1, 2, 3, 4, 5]"
      ]
     },
     "execution_count": 42,
     "metadata": {},
     "output_type": "execute_result"
    }
   ],
   "source": [
    "num1"
   ]
  },
  {
   "cell_type": "code",
   "execution_count": 43,
   "id": "6b39b222",
   "metadata": {},
   "outputs": [
    {
     "name": "stdout",
     "output_type": "stream",
     "text": [
      "[5, 4, 3, 2, 1]\n"
     ]
    }
   ],
   "source": [
    "num1.sort(reverse=True)\n",
    "print (num1)"
   ]
  },
  {
   "cell_type": "code",
   "execution_count": null,
   "id": "99261810",
   "metadata": {},
   "outputs": [],
   "source": [
    "# tuple are type of data sequences\n",
    "# tuples cannot be changed or modified\n",
    "#  tuple elements are in parantheses() and not brackets []"
   ]
  },
  {
   "cell_type": "code",
   "execution_count": 44,
   "id": "66a0bef6",
   "metadata": {},
   "outputs": [
    {
     "name": "stdout",
     "output_type": "stream",
     "text": [
      "(2, 3, 6)\n"
     ]
    }
   ],
   "source": [
    "x = ( 2, 3, 6)\n",
    "print (x)"
   ]
  },
  {
   "cell_type": "code",
   "execution_count": 45,
   "id": "a9e192be",
   "metadata": {},
   "outputs": [
    {
     "name": "stdout",
     "output_type": "stream",
     "text": [
      "3\n"
     ]
    }
   ],
   "source": [
    "a, b, c = 1, 2,3\n",
    "print (c)\n",
    "#  tuple assignment"
   ]
  },
  {
   "cell_type": "code",
   "execution_count": 46,
   "id": "6675736a",
   "metadata": {},
   "outputs": [
    {
     "data": {
      "text/plain": [
       "3"
      ]
     },
     "execution_count": 46,
     "metadata": {},
     "output_type": "execute_result"
    }
   ],
   "source": [
    "x[1]"
   ]
  },
  {
   "cell_type": "code",
   "execution_count": 47,
   "id": "fd78099b",
   "metadata": {},
   "outputs": [],
   "source": [
    "list_1 =[x,a,b,c]"
   ]
  },
  {
   "cell_type": "code",
   "execution_count": 48,
   "id": "74cc54ee",
   "metadata": {},
   "outputs": [
    {
     "data": {
      "text/plain": [
       "[(2, 3, 6), 1, 2, 3]"
      ]
     },
     "execution_count": 48,
     "metadata": {},
     "output_type": "execute_result"
    }
   ],
   "source": [
    "list_1"
   ]
  },
  {
   "cell_type": "code",
   "execution_count": 49,
   "id": "625407dc",
   "metadata": {},
   "outputs": [
    {
     "name": "stdout",
     "output_type": "stream",
     "text": [
      "30\n",
      "5\n"
     ]
    }
   ],
   "source": [
    "# split method\n",
    "(age,years_in_office) = \"30,5\".split(',')\n",
    "print (age)\n",
    "print (years_in_office)"
   ]
  },
  {
   "cell_type": "code",
   "execution_count": 52,
   "id": "58f6a38b",
   "metadata": {},
   "outputs": [],
   "source": [
    "#  functions can provde tuple as return value which helps in getting multiple values \n",
    "\n",
    "def squ_info(x):\n",
    "    A = x ** 2\n",
    "    P = 4 * x\n",
    "    print('Area and perimeters')\n",
    "    return A,P"
   ]
  },
  {
   "cell_type": "code",
   "execution_count": 53,
   "id": "417c8bca",
   "metadata": {},
   "outputs": [
    {
     "name": "stdout",
     "output_type": "stream",
     "text": [
      "Area and perimeters\n"
     ]
    },
    {
     "data": {
      "text/plain": [
       "(100, 40)"
      ]
     },
     "execution_count": 53,
     "metadata": {},
     "output_type": "execute_result"
    }
   ],
   "source": [
    "squ_info(10)"
   ]
  },
  {
   "cell_type": "code",
   "execution_count": 56,
   "id": "ed36a72b",
   "metadata": {},
   "outputs": [
    {
     "name": "stdout",
     "output_type": "stream",
     "text": [
      "dog\n"
     ]
    }
   ],
   "source": [
    "#  dictionarues represent another way of storing data curly braces {}\n",
    "#  each value is associated with a certain key, more precisely a key and its respective value form a key\n",
    "#  key-value pair\n",
    "dict = {'k1': 'cat', 'k2':'dog'}\n",
    "print (dict['k2'])"
   ]
  },
  {
   "cell_type": "code",
   "execution_count": 65,
   "id": "dd7cee21",
   "metadata": {},
   "outputs": [],
   "source": [
    "dict['k3'] = 'parrot'"
   ]
  },
  {
   "cell_type": "code",
   "execution_count": 72,
   "id": "d73fb866",
   "metadata": {},
   "outputs": [
    {
     "name": "stdout",
     "output_type": "stream",
     "text": [
      "{'k3': 'parrot'}\n"
     ]
    }
   ],
   "source": [
    "print (dict)"
   ]
  },
  {
   "cell_type": "code",
   "execution_count": 75,
   "id": "32e1d976",
   "metadata": {},
   "outputs": [],
   "source": [
    "dep_workers ={'dep_1':'peter','dep_2':['Ana', 'steve', 'Cat']}"
   ]
  },
  {
   "cell_type": "code",
   "execution_count": 76,
   "id": "ac395ac5",
   "metadata": {},
   "outputs": [
    {
     "data": {
      "text/plain": [
       "['Ana', 'steve', 'Cat']"
      ]
     },
     "execution_count": 76,
     "metadata": {},
     "output_type": "execute_result"
    }
   ],
   "source": [
    "dep_workers['dep_2']"
   ]
  },
  {
   "cell_type": "code",
   "execution_count": 78,
   "id": "83a256a8",
   "metadata": {},
   "outputs": [
    {
     "name": "stdout",
     "output_type": "stream",
     "text": [
      "{'batsman': 'virat', 'bowler': 'bumrah'}\n"
     ]
    }
   ],
   "source": [
    "team = {}\n",
    "team['batsman'] = 'virat'\n",
    "team['bowler'] = 'bumrah'\n",
    "print (team)"
   ]
  },
  {
   "cell_type": "code",
   "execution_count": 80,
   "id": "a2ce180d",
   "metadata": {},
   "outputs": [
    {
     "name": "stdout",
     "output_type": "stream",
     "text": [
      "bumrah\n"
     ]
    }
   ],
   "source": [
    "print (team['bowler'])"
   ]
  },
  {
   "cell_type": "code",
   "execution_count": 81,
   "id": "9db2b12b",
   "metadata": {},
   "outputs": [
    {
     "name": "stdout",
     "output_type": "stream",
     "text": [
      "virat\n"
     ]
    }
   ],
   "source": [
    "print (team.get('batsman'))"
   ]
  },
  {
   "cell_type": "code",
   "execution_count": 82,
   "id": "16e5b08a",
   "metadata": {},
   "outputs": [
    {
     "name": "stdout",
     "output_type": "stream",
     "text": [
      "None\n"
     ]
    }
   ],
   "source": [
    "print (team.get('coach'))"
   ]
  },
  {
   "cell_type": "code",
   "execution_count": null,
   "id": "c916fb74",
   "metadata": {},
   "outputs": [],
   "source": []
  },
  {
   "cell_type": "code",
   "execution_count": null,
   "id": "9a5e10d2",
   "metadata": {},
   "outputs": [],
   "source": []
  },
  {
   "cell_type": "code",
   "execution_count": null,
   "id": "2cbaea15",
   "metadata": {},
   "outputs": [],
   "source": []
  },
  {
   "cell_type": "code",
   "execution_count": null,
   "id": "133adf4d",
   "metadata": {},
   "outputs": [],
   "source": []
  },
  {
   "cell_type": "code",
   "execution_count": null,
   "id": "2b924160",
   "metadata": {},
   "outputs": [],
   "source": []
  },
  {
   "cell_type": "code",
   "execution_count": null,
   "id": "bbf29731",
   "metadata": {},
   "outputs": [],
   "source": []
  },
  {
   "cell_type": "code",
   "execution_count": null,
   "id": "f78dde6f",
   "metadata": {},
   "outputs": [],
   "source": []
  },
  {
   "cell_type": "code",
   "execution_count": null,
   "id": "920ec5eb",
   "metadata": {},
   "outputs": [],
   "source": []
  },
  {
   "cell_type": "code",
   "execution_count": null,
   "id": "80e8baff",
   "metadata": {},
   "outputs": [],
   "source": []
  },
  {
   "cell_type": "code",
   "execution_count": null,
   "id": "fee53869",
   "metadata": {},
   "outputs": [],
   "source": []
  },
  {
   "cell_type": "code",
   "execution_count": null,
   "id": "2f7ec5a8",
   "metadata": {},
   "outputs": [],
   "source": []
  },
  {
   "cell_type": "code",
   "execution_count": 64,
   "id": "082c44b9",
   "metadata": {},
   "outputs": [
    {
     "name": "stdout",
     "output_type": "stream",
     "text": [
      "{'k3': 'parrot'}\n"
     ]
    }
   ],
   "source": [
    "print (dict)"
   ]
  },
  {
   "cell_type": "code",
   "execution_count": null,
   "id": "7132d38d",
   "metadata": {},
   "outputs": [],
   "source": []
  },
  {
   "cell_type": "code",
   "execution_count": null,
   "id": "6dd32cb8",
   "metadata": {},
   "outputs": [],
   "source": []
  },
  {
   "cell_type": "code",
   "execution_count": null,
   "id": "e05e7e51",
   "metadata": {},
   "outputs": [],
   "source": []
  },
  {
   "cell_type": "code",
   "execution_count": null,
   "id": "db547209",
   "metadata": {},
   "outputs": [],
   "source": []
  },
  {
   "cell_type": "code",
   "execution_count": null,
   "id": "5a93f08d",
   "metadata": {},
   "outputs": [],
   "source": []
  },
  {
   "cell_type": "code",
   "execution_count": 58,
   "id": "93d99ada",
   "metadata": {},
   "outputs": [
    {
     "data": {
      "text/plain": [
       "{'k3': 'parrot'}"
      ]
     },
     "execution_count": 58,
     "metadata": {},
     "output_type": "execute_result"
    }
   ],
   "source": [
    "dict"
   ]
  },
  {
   "cell_type": "code",
   "execution_count": null,
   "id": "f882e29a",
   "metadata": {},
   "outputs": [],
   "source": []
  },
  {
   "cell_type": "code",
   "execution_count": null,
   "id": "764561d1",
   "metadata": {},
   "outputs": [],
   "source": []
  },
  {
   "cell_type": "code",
   "execution_count": null,
   "id": "4482b09d",
   "metadata": {},
   "outputs": [],
   "source": []
  },
  {
   "cell_type": "code",
   "execution_count": null,
   "id": "97b1e441",
   "metadata": {},
   "outputs": [],
   "source": []
  },
  {
   "cell_type": "code",
   "execution_count": null,
   "id": "8c60edc0",
   "metadata": {},
   "outputs": [],
   "source": []
  },
  {
   "cell_type": "code",
   "execution_count": null,
   "id": "17fdf7ac",
   "metadata": {},
   "outputs": [],
   "source": []
  },
  {
   "cell_type": "code",
   "execution_count": null,
   "id": "7b9cdcb7",
   "metadata": {},
   "outputs": [],
   "source": []
  },
  {
   "cell_type": "code",
   "execution_count": null,
   "id": "6a2ba849",
   "metadata": {},
   "outputs": [],
   "source": []
  },
  {
   "cell_type": "code",
   "execution_count": null,
   "id": "c58bbcec",
   "metadata": {},
   "outputs": [],
   "source": []
  },
  {
   "cell_type": "code",
   "execution_count": null,
   "id": "e9d6ae95",
   "metadata": {},
   "outputs": [],
   "source": []
  },
  {
   "cell_type": "code",
   "execution_count": null,
   "id": "1984a4fe",
   "metadata": {},
   "outputs": [],
   "source": []
  },
  {
   "cell_type": "code",
   "execution_count": null,
   "id": "65c7d55f",
   "metadata": {},
   "outputs": [],
   "source": []
  },
  {
   "cell_type": "code",
   "execution_count": null,
   "id": "48bf70e6",
   "metadata": {},
   "outputs": [],
   "source": []
  },
  {
   "cell_type": "code",
   "execution_count": null,
   "id": "9e4ff342",
   "metadata": {},
   "outputs": [],
   "source": []
  }
 ],
 "metadata": {
  "kernelspec": {
   "display_name": "Python 3",
   "language": "python",
   "name": "python3"
  },
  "language_info": {
   "codemirror_mode": {
    "name": "ipython",
    "version": 3
   },
   "file_extension": ".py",
   "mimetype": "text/x-python",
   "name": "python",
   "nbconvert_exporter": "python",
   "pygments_lexer": "ipython3",
   "version": "3.8.8"
  }
 },
 "nbformat": 4,
 "nbformat_minor": 5
}
