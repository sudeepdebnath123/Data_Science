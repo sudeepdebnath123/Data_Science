{
 "cells": [
  {
   "cell_type": "markdown",
   "id": "75321671",
   "metadata": {},
   "source": [
    "# Python Components\n",
    "    - Expressions and Statements\n",
    "    - Block and Indentation\n",
    "    - Comments\n",
    "    - Escape Sequence\n",
    "    - Data Types\n",
    "    - Operators"
   ]
  },
  {
   "cell_type": "code",
   "execution_count": 5,
   "id": "33ce6a5f",
   "metadata": {
    "ExecuteTime": {
     "end_time": "2021-06-20T03:08:46.214835Z",
     "start_time": "2021-06-20T03:08:46.206424Z"
    }
   },
   "outputs": [
    {
     "name": "stdout",
     "output_type": "stream",
     "text": [
      "30\n"
     ]
    }
   ],
   "source": [
    "# Expressions - it is a combination of identifiers, literals, operators etc which gives some result after execution.\n",
    "# 10\n",
    "# 'Python'\n",
    "\n",
    "# print(10+20)"
   ]
  },
  {
   "cell_type": "code",
   "execution_count": 11,
   "id": "e9e8c21a",
   "metadata": {
    "ExecuteTime": {
     "end_time": "2021-06-20T03:12:11.524849Z",
     "start_time": "2021-06-20T03:12:11.516497Z"
    }
   },
   "outputs": [
    {
     "name": "stdout",
     "output_type": "stream",
     "text": [
      "0\n",
      "1\n",
      "2\n",
      "3\n",
      "4\n"
     ]
    }
   ],
   "source": [
    "# Statement - it is a combination of identifiers, literals, operators etc which does not give any result after execution.\n",
    "a = 10\n",
    "\n",
    "for i in range(5):print(i)\n",
    "\n"
   ]
  },
  {
   "cell_type": "code",
   "execution_count": null,
   "id": "2f799115",
   "metadata": {},
   "outputs": [],
   "source": [
    "# package\n",
    "# modules\n",
    "# function\n",
    "# Blocks\n",
    "# Expression and statements\n",
    "# literal and Identifiers, operators"
   ]
  },
  {
   "cell_type": "code",
   "execution_count": 16,
   "id": "0905b7b1",
   "metadata": {
    "ExecuteTime": {
     "end_time": "2021-06-20T03:25:16.852102Z",
     "start_time": "2021-06-20T03:25:16.844310Z"
    }
   },
   "outputs": [
    {
     "name": "stdout",
     "output_type": "stream",
     "text": [
      "\n",
      "**How we can create Pivot table using a Pandas DataFrame**\n"
     ]
    }
   ],
   "source": [
    "# Indentation - space\n",
    "# INdentation is used to create a block of code in Python\n",
    "\n",
    "\n",
    "# loading libraries\n",
    "import pandas as pd\n",
    "print()\n",
    "print('**How we can create Pivot table using a Pandas DataFrame**')\n",
    "def Pivot():\n",
    "\n",
    "    # Creating dataframe\n",
    "#     raw_data = {'regiment': ['Nighthawks', 'Nighthawks', 'Nighthawks', 'Nighthawks',\n",
    "#                              'Dragoons', 'Dragoons', 'Dragoons', 'Dragoons',\n",
    "#                              'Scouts', 'Scouts', 'Scouts', 'Scouts'],\n",
    "#                 'company': ['1st', '1st', '2nd', '2nd', '1st', '1st', '2nd',\n",
    "#                             '2nd','1st', '1st', '2nd', '2nd'],\n",
    "#                 'TestScore': [4, 24, 31, 2, 3, 4, 24, 31, 2, 3, 2, 3]}\n",
    "\n",
    "#     df = pd.DataFrame(raw_data, columns = ['regiment', 'company', 'TestScore'])\n",
    "#     print(); print(df)\n",
    "\n",
    "#     # Creating a pivot table of group means, by company and regiment\n",
    "#     df1 = pd.pivot_table(df, index=['regiment','company'], aggfunc='mean')\n",
    "#     print(); print(df1)\n",
    "\n",
    "#     # Creating a pivot table of group score counts, by company and regimensts\n",
    "#     df2 = df.pivot_table(index=['regiment','company'], aggfunc='count')\n",
    "#     print(); print(df2)\n",
    "\n",
    "#     # Creating a pivot table of group score max, by company and regimensts\n",
    "#     df3 = df.pivot_table(index=['regiment','company'], aggfunc='max')\n",
    "#     print(); print(df3)\n",
    "\n",
    "#     # Creating a pivot table of group score min, by company and regimensts\n",
    "#     df4 = df.pivot_table(index=['regiment','company'], aggfunc='min')\n",
    "#     print(); print(df4)\n",
    "    pass\n",
    "\n",
    "\n",
    "# Pivot()\n",
    "\n",
    "\n",
    "\n"
   ]
  },
  {
   "cell_type": "code",
   "execution_count": null,
   "id": "d5f440c5",
   "metadata": {},
   "outputs": [],
   "source": [
    "# Block - if, elif, else, for, while,with, def, class, try, except, else, finally etc"
   ]
  },
  {
   "cell_type": "code",
   "execution_count": null,
   "id": "458e18c6",
   "metadata": {},
   "outputs": [],
   "source": [
    "# Comments in Python\n"
   ]
  },
  {
   "cell_type": "code",
   "execution_count": 26,
   "id": "cda735c1",
   "metadata": {
    "ExecuteTime": {
     "end_time": "2021-06-20T03:31:50.472413Z",
     "start_time": "2021-06-20T03:31:50.463613Z"
    }
   },
   "outputs": [
    {
     "name": "stdout",
     "output_type": "stream",
     "text": [
      "This is \\vPython Class\n"
     ]
    }
   ],
   "source": [
    "# Escape Sequence - '\\n' - new line, '\\t' - Horizontal tab, '\\v' - Vertical tab, \\ - to escape something\n",
    "\n",
    "# print('This is Python\\'s class')\n",
    "# print(\"This is \\\"Pythons\\\" class\")\n",
    "\n",
    "# print('This is \\nPython Class')\n",
    "# print('This is \\\\nPython Class')\n",
    "# print('This is \\tPython Class')\n",
    "# print('This is \\\\tPython Class')\n",
    "\n",
    "print('This is \\\\vPython Class')\n",
    "\n",
    "# print('This \\#\n",
    "# is \\\n",
    "# python \\\n",
    "# class')"
   ]
  },
  {
   "cell_type": "code",
   "execution_count": null,
   "id": "4a99e3f2",
   "metadata": {},
   "outputs": [],
   "source": [
    "# Data Types in Python\n",
    "# 1. Fundamental Data Types - int, float, complex, boolean, strings\n",
    "# 2. Derived Data Types - List, Tuples, set, frozenset, dictionary, range, bytes, bytearray\n"
   ]
  },
  {
   "cell_type": "code",
   "execution_count": 33,
   "id": "a196c9d7",
   "metadata": {
    "ExecuteTime": {
     "end_time": "2021-06-20T03:46:44.559477Z",
     "start_time": "2021-06-20T03:46:44.550966Z"
    }
   },
   "outputs": [
    {
     "name": "stdout",
     "output_type": "stream",
     "text": [
      "9876\n",
      "9876\n",
      "9876\n"
     ]
    }
   ],
   "source": [
    "# Integer Data Types - Any value without decimal point - 10, -10, 0\n",
    "# You can represent the integer data in different format\n",
    "#     Decimal - 0-9, No prefix required - 98765, 12345\n",
    "#     Binary - 0&1, prefix - 0b, bin(x) - string - 0b101010\n",
    "#     octal - 0-7, prefix - 0o, oct(x) - string - 0o7654\n",
    "#     Hexadcimal - 0-9 and A-F, prefix - 0x, hex(x) - string - 0xfc98\n",
    "# Only integer values can be represented in binary, octal and hexadecimal\n",
    "\n",
    "# dec_num = 9876\n",
    "# print(f'Binary Equivalent of {dec_num} =', bin(dec_num), type(bin(dec_num)))\n",
    "# print(f'Octal Equivalent of {dec_num} =', oct(dec_num), type(oct(dec_num)))\n",
    "# print(f'Hexadecimal Equivalent of {dec_num} =', hex(dec_num), type(hex(dec_num)))\n",
    "\n",
    "# bin_num = 0b10011010010100\n",
    "# print(bin_num)\n",
    "\n",
    "# oct_num = 0o23224\n",
    "# print(oct_num)\n",
    "\n",
    "# hex_num = 0x2694\n",
    "# print(hex_num)\n",
    "\n"
   ]
  },
  {
   "cell_type": "code",
   "execution_count": 53,
   "id": "1bf29d1f",
   "metadata": {
    "ExecuteTime": {
     "end_time": "2021-06-20T04:04:37.715070Z",
     "start_time": "2021-06-20T04:04:37.703212Z"
    }
   },
   "outputs": [],
   "source": [
    "# Taking input from user\n",
    "\n",
    "# Write a program which takes two numbers from user and adds them\n",
    "# num1 = int(input('Enter 1st number: '))\n",
    "# num2 = int(input('Enter 2nd number: '))\n",
    "# print(type(num1))\n",
    "# print(type(num2))\n",
    "# print(num1+num2)\n",
    "\n",
    "# num1 = float(input('Enter 1st number: '))\n",
    "# num2 = float(input('Enter 2nd number: '))\n",
    "# print(type(num1))\n",
    "# print(type(num2))\n",
    "# print(num1+num2)\n",
    "\n",
    "# num1 = complex(int(input('Enter 1st number: ')),int(input('Enter 1st number: ')))\n",
    "# num2 = complex(int(input('Enter 2nd number: ')),int(input('Enter 2nd number: ')))\n",
    "# print(type(num1))\n",
    "# print(type(num2))\n",
    "# print(num1+num2)\n",
    "\n",
    "# Taking list as input from user\n",
    "# a = eval(input('Enter a list: '))\n",
    "# print(a, type(a))\n",
    "\n",
    "\n",
    "\n",
    "\n",
    "\n"
   ]
  },
  {
   "cell_type": "code",
   "execution_count": 54,
   "id": "132eecce",
   "metadata": {
    "ExecuteTime": {
     "end_time": "2021-06-20T04:04:41.680660Z",
     "start_time": "2021-06-20T04:04:41.676137Z"
    }
   },
   "outputs": [],
   "source": [
    "# eval('expr') - function\n",
    "# a = eval('10+20')\n",
    "# print(a, type(a))\n",
    "\n",
    "# a = eval('10')\n",
    "# print(a, type(a))\n",
    "\n",
    "# a = eval('10.20+30')\n",
    "# print(a, type(a))\n",
    "\n",
    "# b = eval('(10+20j)+20')\n",
    "# print(b, type(b))\n",
    "\n",
    "\n",
    "# a = list('Python')\n",
    "# print(a, type(a))\n",
    "\n",
    "# a = eval('[10,20,30,40]')\n",
    "# print(a, type(a))\n",
    "\n",
    "# b = [10,20,30,40]\n",
    "# print(b)\n"
   ]
  },
  {
   "cell_type": "code",
   "execution_count": 42,
   "id": "f694b7bc",
   "metadata": {
    "ExecuteTime": {
     "end_time": "2021-06-20T03:57:56.591360Z",
     "start_time": "2021-06-20T03:57:56.583087Z"
    }
   },
   "outputs": [
    {
     "data": {
      "text/plain": [
       "40.2"
      ]
     },
     "execution_count": 42,
     "metadata": {},
     "output_type": "execute_result"
    }
   ],
   "source": [
    "10.20+30"
   ]
  },
  {
   "cell_type": "code",
   "execution_count": 76,
   "id": "ca0b2257",
   "metadata": {
    "ExecuteTime": {
     "end_time": "2021-06-20T04:23:15.131924Z",
     "start_time": "2021-06-20T04:23:12.735734Z"
    }
   },
   "outputs": [
    {
     "name": "stdout",
     "output_type": "stream",
     "text": [
      "Enter 1st number: 111\n",
      "Enter 2nd number: 222\n",
      "This sum of 111 and 222 is 333\n"
     ]
    }
   ],
   "source": [
    "# Output function - print()\n",
    "\n",
    "# sep, end\n",
    "# print(10, 20, 30, 40, 50)\n",
    "# print(10, 20, 30, 40, 50, sep = ' ')\n",
    "# print(10, 20, 30, 40, 50, sep = ',')\n",
    "# print('Cisco', 'Amazon', 'Microsoft','Apple', sep = '-->')\n",
    "\n",
    "\n",
    "# print(10, end = '\\t')\n",
    "# print(20, end = '\\t')\n",
    "# print(30, end = '\\t')\n",
    "# print(40, end = '\\t')\n",
    "# print(50, end = '\\t')\n",
    "\n",
    "\n",
    "# Learnbay\n",
    "#     Python\n",
    "#         Class\n",
    "#     Python\n",
    "# Learnbay\n",
    "\n",
    "# print('Learnbay',end='\\n\\t')\n",
    "# print('Python', end='\\n\\t\\t')\n",
    "# print('Class', end='\\n\\t')\n",
    "# print('Python', end='\\n')\n",
    "# print('Learnbay')\n",
    "\n",
    "\n",
    "# Output formatting\n",
    "num1 = int(input('Enter 1st number: '))\n",
    "num2 = int(input('Enter 2nd number: '))\n",
    "print(f'This sum of {num1} and {num2} is {num1+num2}')\n",
    "\n",
    "\n"
   ]
  },
  {
   "cell_type": "code",
   "execution_count": null,
   "id": "a2fb0ed3",
   "metadata": {},
   "outputs": [],
   "source": [
    "# Operators -\n",
    "    1. Arithmetic - +, -, *, /(Float Division), //(floor Division), %(Modulo Operation), **(Exponent) \n",
    "    2. Comparison - <, <=, >, >=\n",
    "    3. Equality - ==, !=\n",
    "    4. Logical - and or not\n",
    "    5. Bitwise - &, |, ^, ~, <<, >>\n",
    "    6. Assignment - =\n",
    "    7. Compound Assignment - +=, -=, *=, /=, //=, %=, **=, &=, |=, ^=, ~=, <<=, >>=\n",
    "    8. Membership - in, not in\n",
    "    9. Identity - is, is not\n",
    "    10. Ternary operator - expr if cond else expr\n",
    "    11 Operator precedence"
   ]
  },
  {
   "cell_type": "code",
   "execution_count": 102,
   "id": "fb42b04a",
   "metadata": {
    "ExecuteTime": {
     "end_time": "2021-06-20T04:42:44.379161Z",
     "start_time": "2021-06-20T04:42:44.372934Z"
    }
   },
   "outputs": [],
   "source": [
    "# 1. Arithmetic Operators - +, -, *, /(Float Division), //(floor Division), %(Modulo Operation), **(Exponent) \n",
    "# print(10+20)\n",
    "# print(100-90)\n",
    "# print(10*90)\n",
    "\n",
    "# print(10/3)                # Float Division\n",
    "# print(10//3)               # Floor Value of float division - Floor Division\n",
    "# print(10%3)                # Remainder - Modulo operation\n",
    "\n",
    "# Ceil Value - Highest nearest whole number\n",
    "# Floor Value - lowest nearest whole number\n",
    "# ceil = 10\n",
    "# num = 9.00009\n",
    "# floor = 9\n",
    "\n",
    "# print(10**3)\n",
    "\n",
    "# print(pow(10, 3))\n",
    "\n",
    "# Integers and Float works well with all aritrhmetic operators\n",
    "# Complex number also works with all arithmetic operators except modulo operator and floor division\n",
    "\n",
    "# print(10.20%9.3)\n",
    "\n",
    "# print(10+20j % 9)\n",
    "\n",
    "# print(10+20j // 3)\n",
    "\n",
    "# Concatenation - + - Sequence type\n",
    "# Both the operand should be same seq type\n",
    "# It creates anew object\n",
    "\n",
    "# print('String Concatenation -> ', 'Python'+'Class')\n",
    "# print('List Concatenation -> ', [10,20,30]+[40,50,60])\n",
    "# print('Tuple Concatenation -> ', (10,20,30)+(40,50,60))\n",
    "\n",
    "# print('String Concatenation -> ', 'Python'+['Class'])\n",
    "# print('List Concatenation -> ', [10,20,30]+'[40,50,60]')\n",
    "# print('Tuple Concatenation -> ', (10,20,30)+[(40,50,60)])\n",
    "\n",
    "# my_str1 = 'Python'\n",
    "# my_str2 = 'Class'\n",
    "# print(my_str1+my_str2)\n",
    "# print(my_str2)\n",
    "# print(my_str1)\n",
    "\n",
    "\n",
    "# Repetition - * - Sequence type\n",
    "# One operand should be sequnece and other should be int\n",
    "# This also creates a new object\n",
    "\n",
    "# print('Python' * 3)\n",
    "# print('Python' * 5)\n",
    "# print('Python' * 5.0)\n",
    "\n",
    "\n",
    "\n"
   ]
  },
  {
   "cell_type": "code",
   "execution_count": 122,
   "id": "9f1a1588",
   "metadata": {
    "ExecuteTime": {
     "end_time": "2021-06-20T04:48:16.304983Z",
     "start_time": "2021-06-20T04:48:16.298987Z"
    }
   },
   "outputs": [],
   "source": [
    "# Compariosn Operator - <, <=, >, >=\n",
    "# Return Boolean values\n",
    "# It works only with similar data type except int and float\n",
    "\n",
    "# print(10<20)\n",
    "# print(10>20.30)\n",
    "# print(10>20)\n",
    "\n",
    "\n",
    "# print(10 < 30+30j)\n",
    "# print('Python'<100)\n",
    "\n",
    "# print('pyThon'<='python')\n",
    "\n",
    "# print('100'<'20')\n",
    "\n",
    "# print(10<20<30<3<=3>=1)\n",
    "\n",
    "\n",
    "\n"
   ]
  },
  {
   "cell_type": "code",
   "execution_count": 130,
   "id": "099b6a06",
   "metadata": {
    "ExecuteTime": {
     "end_time": "2021-06-20T05:01:48.161239Z",
     "start_time": "2021-06-20T05:01:48.153735Z"
    }
   },
   "outputs": [
    {
     "name": "stdout",
     "output_type": "stream",
     "text": [
      "False\n"
     ]
    }
   ],
   "source": [
    "# Equality Operator - ==, !=\n",
    "# Returns Boolean values\n",
    "# It compares the content\n",
    "# It works with differnet data types\n",
    "\n",
    "# print(10 == 20)\n",
    "# print('A' == 65)\n",
    "# print(10 == 10)\n",
    "\n",
    "# print('Python' == 'Python')\n",
    "\n",
    "\n",
    "# print(10==10!=20!=20)\n",
    "\n",
    "\n",
    "\n",
    "\n"
   ]
  },
  {
   "cell_type": "code",
   "execution_count": null,
   "id": "6ec61945",
   "metadata": {},
   "outputs": [],
   "source": [
    "# Logical - and or not\n",
    "# They work with Logic\n",
    "# Logic should always be evaluated as True or False\n",
    "\n",
    "\n",
    "# and Truth Table - False\n",
    "# True and True = True\n",
    "# True and False = False\n",
    "# False and True = False\n",
    "# False and False = False\n",
    "\n",
    "# or Truth Table - True\n",
    "# True or True = True\n",
    "# True or False = True\n",
    "# False or True = True\n",
    "# False or False = False\n",
    "\n",
    "# not Truth Table\n",
    "# not True = False\n",
    "# not False = True\n"
   ]
  },
  {
   "cell_type": "code",
   "execution_count": null,
   "id": "9109a7d5",
   "metadata": {},
   "outputs": [],
   "source": [
    "8 - 9.30"
   ]
  },
  {
   "cell_type": "code",
   "execution_count": null,
   "id": "1a1f1a36",
   "metadata": {},
   "outputs": [],
   "source": []
  },
  {
   "cell_type": "code",
   "execution_count": null,
   "id": "2264782e",
   "metadata": {},
   "outputs": [],
   "source": []
  },
  {
   "cell_type": "code",
   "execution_count": null,
   "id": "cd4f59ea",
   "metadata": {},
   "outputs": [],
   "source": []
  },
  {
   "cell_type": "code",
   "execution_count": null,
   "id": "d4fbe0b3",
   "metadata": {},
   "outputs": [],
   "source": []
  },
  {
   "cell_type": "code",
   "execution_count": null,
   "id": "305f0fa7",
   "metadata": {},
   "outputs": [],
   "source": []
  },
  {
   "cell_type": "code",
   "execution_count": null,
   "id": "82e75a5c",
   "metadata": {},
   "outputs": [],
   "source": []
  },
  {
   "cell_type": "code",
   "execution_count": null,
   "id": "82924a4f",
   "metadata": {},
   "outputs": [],
   "source": []
  },
  {
   "cell_type": "code",
   "execution_count": null,
   "id": "d5d39fb1",
   "metadata": {},
   "outputs": [],
   "source": []
  },
  {
   "cell_type": "code",
   "execution_count": null,
   "id": "6d953927",
   "metadata": {},
   "outputs": [],
   "source": []
  },
  {
   "cell_type": "code",
   "execution_count": null,
   "id": "9d9577a2",
   "metadata": {},
   "outputs": [],
   "source": []
  },
  {
   "cell_type": "code",
   "execution_count": null,
   "id": "bdea97bc",
   "metadata": {},
   "outputs": [],
   "source": []
  },
  {
   "cell_type": "code",
   "execution_count": null,
   "id": "102bc15f",
   "metadata": {},
   "outputs": [],
   "source": []
  },
  {
   "cell_type": "code",
   "execution_count": null,
   "id": "3f1fd40e",
   "metadata": {},
   "outputs": [],
   "source": []
  },
  {
   "cell_type": "code",
   "execution_count": null,
   "id": "5aec1df2",
   "metadata": {},
   "outputs": [],
   "source": []
  },
  {
   "cell_type": "code",
   "execution_count": null,
   "id": "cb842f70",
   "metadata": {},
   "outputs": [],
   "source": []
  },
  {
   "cell_type": "code",
   "execution_count": null,
   "id": "a2cf296c",
   "metadata": {},
   "outputs": [],
   "source": []
  },
  {
   "cell_type": "code",
   "execution_count": null,
   "id": "f048989a",
   "metadata": {},
   "outputs": [],
   "source": []
  },
  {
   "cell_type": "code",
   "execution_count": null,
   "id": "55ee25e5",
   "metadata": {},
   "outputs": [],
   "source": []
  },
  {
   "cell_type": "code",
   "execution_count": null,
   "id": "ad591cf9",
   "metadata": {},
   "outputs": [],
   "source": []
  },
  {
   "cell_type": "code",
   "execution_count": null,
   "id": "4889f86c",
   "metadata": {},
   "outputs": [],
   "source": []
  },
  {
   "cell_type": "code",
   "execution_count": null,
   "id": "ca20e87e",
   "metadata": {},
   "outputs": [],
   "source": []
  },
  {
   "cell_type": "code",
   "execution_count": null,
   "id": "6a88c253",
   "metadata": {},
   "outputs": [],
   "source": []
  },
  {
   "cell_type": "code",
   "execution_count": null,
   "id": "b8994c87",
   "metadata": {},
   "outputs": [],
   "source": []
  },
  {
   "cell_type": "code",
   "execution_count": null,
   "id": "8a2308b5",
   "metadata": {},
   "outputs": [],
   "source": []
  },
  {
   "cell_type": "code",
   "execution_count": null,
   "id": "3faed085",
   "metadata": {},
   "outputs": [],
   "source": []
  },
  {
   "cell_type": "code",
   "execution_count": null,
   "id": "0ce1ac00",
   "metadata": {},
   "outputs": [],
   "source": []
  },
  {
   "cell_type": "code",
   "execution_count": null,
   "id": "a56d8c85",
   "metadata": {},
   "outputs": [],
   "source": []
  },
  {
   "cell_type": "code",
   "execution_count": null,
   "id": "93b0ef90",
   "metadata": {},
   "outputs": [],
   "source": []
  },
  {
   "cell_type": "code",
   "execution_count": null,
   "id": "d8efff7b",
   "metadata": {},
   "outputs": [],
   "source": []
  },
  {
   "cell_type": "code",
   "execution_count": null,
   "id": "68f668f5",
   "metadata": {},
   "outputs": [],
   "source": []
  },
  {
   "cell_type": "code",
   "execution_count": null,
   "id": "7bce882b",
   "metadata": {},
   "outputs": [],
   "source": []
  },
  {
   "cell_type": "code",
   "execution_count": null,
   "id": "2730d63b",
   "metadata": {},
   "outputs": [],
   "source": []
  },
  {
   "cell_type": "code",
   "execution_count": null,
   "id": "f5bc7252",
   "metadata": {},
   "outputs": [],
   "source": []
  },
  {
   "cell_type": "code",
   "execution_count": null,
   "id": "dcc6f7c0",
   "metadata": {},
   "outputs": [],
   "source": []
  },
  {
   "cell_type": "code",
   "execution_count": null,
   "id": "eed0dd12",
   "metadata": {},
   "outputs": [],
   "source": []
  },
  {
   "cell_type": "code",
   "execution_count": null,
   "id": "40b8973e",
   "metadata": {},
   "outputs": [],
   "source": []
  },
  {
   "cell_type": "code",
   "execution_count": null,
   "id": "9933a661",
   "metadata": {},
   "outputs": [],
   "source": []
  },
  {
   "cell_type": "code",
   "execution_count": null,
   "id": "5d8eb796",
   "metadata": {},
   "outputs": [],
   "source": []
  },
  {
   "cell_type": "code",
   "execution_count": null,
   "id": "220c0ac2",
   "metadata": {},
   "outputs": [],
   "source": []
  },
  {
   "cell_type": "code",
   "execution_count": null,
   "id": "40e2e89e",
   "metadata": {},
   "outputs": [],
   "source": []
  },
  {
   "cell_type": "code",
   "execution_count": null,
   "id": "af456e9f",
   "metadata": {},
   "outputs": [],
   "source": []
  },
  {
   "cell_type": "code",
   "execution_count": null,
   "id": "0bef5244",
   "metadata": {},
   "outputs": [],
   "source": []
  },
  {
   "cell_type": "code",
   "execution_count": null,
   "id": "5d678480",
   "metadata": {},
   "outputs": [],
   "source": []
  },
  {
   "cell_type": "code",
   "execution_count": null,
   "id": "3f1bfec1",
   "metadata": {},
   "outputs": [],
   "source": []
  },
  {
   "cell_type": "code",
   "execution_count": null,
   "id": "86e862f4",
   "metadata": {},
   "outputs": [],
   "source": []
  },
  {
   "cell_type": "code",
   "execution_count": null,
   "id": "54e6bd55",
   "metadata": {},
   "outputs": [],
   "source": []
  },
  {
   "cell_type": "code",
   "execution_count": null,
   "id": "9bd06195",
   "metadata": {},
   "outputs": [],
   "source": []
  },
  {
   "cell_type": "code",
   "execution_count": null,
   "id": "da790a1a",
   "metadata": {},
   "outputs": [],
   "source": []
  },
  {
   "cell_type": "code",
   "execution_count": null,
   "id": "97bdf371",
   "metadata": {},
   "outputs": [],
   "source": []
  },
  {
   "cell_type": "code",
   "execution_count": null,
   "id": "9c860a1f",
   "metadata": {},
   "outputs": [],
   "source": []
  },
  {
   "cell_type": "code",
   "execution_count": null,
   "id": "15c16c20",
   "metadata": {},
   "outputs": [],
   "source": []
  },
  {
   "cell_type": "code",
   "execution_count": null,
   "id": "66909959",
   "metadata": {},
   "outputs": [],
   "source": []
  },
  {
   "cell_type": "code",
   "execution_count": null,
   "id": "00648296",
   "metadata": {},
   "outputs": [],
   "source": []
  },
  {
   "cell_type": "code",
   "execution_count": null,
   "id": "3124d730",
   "metadata": {},
   "outputs": [],
   "source": []
  },
  {
   "cell_type": "code",
   "execution_count": null,
   "id": "b0bf7a9d",
   "metadata": {},
   "outputs": [],
   "source": []
  }
 ],
 "metadata": {
  "kernelspec": {
   "display_name": "Python 3",
   "language": "python",
   "name": "python3"
  },
  "language_info": {
   "codemirror_mode": {
    "name": "ipython",
    "version": 3
   },
   "file_extension": ".py",
   "mimetype": "text/x-python",
   "name": "python",
   "nbconvert_exporter": "python",
   "pygments_lexer": "ipython3",
   "version": "3.8.2"
  }
 },
 "nbformat": 4,
 "nbformat_minor": 5
}
