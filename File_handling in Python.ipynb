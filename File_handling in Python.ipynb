{
 "cells": [
  {
   "cell_type": "code",
   "execution_count": null,
   "id": "40eda805",
   "metadata": {},
   "outputs": [],
   "source": [
    "#file handling\n",
    "#read write and append in a file\n",
    "#mode of operation\n",
    "\n",
    "#type of file\n",
    "text file\n",
    "binary file"
   ]
  },
  {
   "cell_type": "code",
   "execution_count": null,
   "id": "670fcc67",
   "metadata": {},
   "outputs": [],
   "source": [
    "f = open('file_name','mode')\n",
    "f.read()\n",
    "f.write()\n",
    "f.close() # close the file as the changes might not been saved\n",
    "\n",
    "with open('file_name','mode') as f:  # to save the progress when the files are closed. closing is not mandatory\n",
    "    f.read()\n",
    "    f.write()\n",
    "\n",
    "    #modes of operation text files\n",
    "read -r\n",
    "wrtie - w\n",
    "append - a\n",
    "read and write- r+\n",
    "write and read - w+\n",
    "append and read - a+\n",
    "\n",
    "    #modes of operation binary files\n",
    "read -rb\n",
    "wrtie - wb\n",
    "append - ab\n",
    "read and write- rb+\n",
    "write and read - wb+\n",
    "append and read - ab+\n",
    "          "
   ]
  },
  {
   "cell_type": "code",
   "execution_count": 5,
   "id": "2868d03c",
   "metadata": {},
   "outputs": [
    {
     "name": "stdout",
     "output_type": "stream",
     "text": [
      "Hello\n"
     ]
    }
   ],
   "source": [
    "with open('f1.py','r') as f:\n",
    "    print(f.read())"
   ]
  },
  {
   "cell_type": "code",
   "execution_count": 17,
   "id": "516701af",
   "metadata": {},
   "outputs": [
    {
     "name": "stdout",
     "output_type": "stream",
     "text": [
      "current cursor postion 0\n",
      "HelloHello\n",
      "cursor postion after reading the file 10\n"
     ]
    }
   ],
   "source": [
    "with open('f1.py','r') as f:\n",
    "    print('current cursor postion',f.tell())\n",
    "    print(f.read())\n",
    "    print('cursor postion after reading the file',f.tell())"
   ]
  },
  {
   "cell_type": "code",
   "execution_count": 28,
   "id": "d4ace40c",
   "metadata": {},
   "outputs": [
    {
     "name": "stdout",
     "output_type": "stream",
     "text": [
      "current cursor postion 0\n",
      "Hellolearn \n",
      "IHIHI\n",
      "cursor postion after reading the file 18\n",
      "2\n",
      "7\n"
     ]
    }
   ],
   "source": [
    "with open('f1.py','r+') as f:\n",
    "    print('current cursor postion',f.tell())\n",
    "    print(f.read())\n",
    "    print('cursor postion after reading the file',f.tell())\n",
    "    print(f.write('HI'))\n",
    "    f.seek(0)\n",
    "    print(f.write('learn \\n'))"
   ]
  },
  {
   "cell_type": "code",
   "execution_count": 32,
   "id": "b1579750",
   "metadata": {},
   "outputs": [
    {
     "name": "stdout",
     "output_type": "stream",
     "text": [
      "13\n",
      "\n"
     ]
    }
   ],
   "source": [
    "with open('f2.py','w+') as f:\n",
    "    print(f.write('Welcome World'))\n",
    "    print(f.read())"
   ]
  },
  {
   "cell_type": "code",
   "execution_count": 33,
   "id": "70d2a678",
   "metadata": {},
   "outputs": [],
   "source": [
    "#Append Mode\n",
    "\n",
    "with open('f3.py','a') as f3:\n",
    "    f3.tell()"
   ]
  },
  {
   "cell_type": "code",
   "execution_count": 34,
   "id": "fd3fc0fc",
   "metadata": {},
   "outputs": [
    {
     "ename": "UnsupportedOperation",
     "evalue": "not readable",
     "output_type": "error",
     "traceback": [
      "\u001b[1;31m---------------------------------------------------------------------------\u001b[0m",
      "\u001b[1;31mUnsupportedOperation\u001b[0m                      Traceback (most recent call last)",
      "\u001b[1;32m<ipython-input-34-0a63a2af6d06>\u001b[0m in \u001b[0;36m<module>\u001b[1;34m\u001b[0m\n\u001b[0;32m      3\u001b[0m     \u001b[0mf\u001b[0m\u001b[1;33m.\u001b[0m\u001b[0mseek\u001b[0m\u001b[1;33m(\u001b[0m\u001b[1;36m0\u001b[0m\u001b[1;33m)\u001b[0m\u001b[1;33m\u001b[0m\u001b[1;33m\u001b[0m\u001b[0m\n\u001b[0;32m      4\u001b[0m     \u001b[0mf\u001b[0m\u001b[1;33m.\u001b[0m\u001b[0mwrite\u001b[0m\u001b[1;33m(\u001b[0m\u001b[1;34m'Hi'\u001b[0m\u001b[1;33m)\u001b[0m\u001b[1;33m\u001b[0m\u001b[1;33m\u001b[0m\u001b[0m\n\u001b[1;32m----> 5\u001b[1;33m     \u001b[0mf\u001b[0m\u001b[1;33m.\u001b[0m\u001b[0mread\u001b[0m\u001b[1;33m(\u001b[0m\u001b[1;33m)\u001b[0m\u001b[1;33m\u001b[0m\u001b[1;33m\u001b[0m\u001b[0m\n\u001b[0m",
      "\u001b[1;31mUnsupportedOperation\u001b[0m: not readable"
     ]
    }
   ],
   "source": [
    "with open('f2.py','a') as f:\n",
    "    f.tell()\n",
    "    f.seek(0)\n",
    "    f.write('Hi')\n",
    "    f.read()"
   ]
  },
  {
   "cell_type": "code",
   "execution_count": 35,
   "id": "62c51b25",
   "metadata": {},
   "outputs": [
    {
     "name": "stdout",
     "output_type": "stream",
     "text": [
      "Welcome WorldHiLearn\n"
     ]
    }
   ],
   "source": [
    "#Append and read mode\n",
    "\n",
    "with open('f2.py','a+') as f:\n",
    "    f.tell()\n",
    "    f.write('Learn')\n",
    "    f.seek(0)\n",
    "    print(f.read())"
   ]
  },
  {
   "cell_type": "code",
   "execution_count": null,
   "id": "ca33204c",
   "metadata": {},
   "outputs": [],
   "source": [
    "# to read the file\n",
    "read()- whole content from current cursor psotipn in a string object\n",
    "read(no_of_char) read specified no. character from current cursor psotipn in a string objec\n",
    "readline()- read only current line\n",
    "\n",
    "readlines()- Read the whole content of the file and return list of string"
   ]
  },
  {
   "cell_type": "code",
   "execution_count": 36,
   "id": "943e40cb",
   "metadata": {},
   "outputs": [
    {
     "name": "stdout",
     "output_type": "stream",
     "text": [
      "Welcome WorldHiLearn <class 'str'>\n"
     ]
    }
   ],
   "source": [
    "with open('f2.py','r+') as f:\n",
    "    content = f.read()\n",
    "    print(content, type(content))"
   ]
  },
  {
   "cell_type": "code",
   "execution_count": 38,
   "id": "7f340d4b",
   "metadata": {},
   "outputs": [
    {
     "name": "stdout",
     "output_type": "stream",
     "text": [
      "Welcome WorldHiLearn <class 'str'>\n"
     ]
    }
   ],
   "source": [
    "with open('f2.py','r+') as f:\n",
    "    f.seek(0)\n",
    "#     content = f.read(5)\n",
    "#     print(content, type(content))\n",
    "    content = f.readline()\n",
    "    print(content, type(content))"
   ]
  },
  {
   "cell_type": "code",
   "execution_count": null,
   "id": "e88d589c",
   "metadata": {},
   "outputs": [],
   "source": [
    "#to write\n",
    "\n",
    "write('str')\n",
    "writelines(['str1 \\n', 'str2 \\n', ...])"
   ]
  },
  {
   "cell_type": "code",
   "execution_count": 45,
   "id": "d558fb9d",
   "metadata": {},
   "outputs": [
    {
     "name": "stdout",
     "output_type": "stream",
     "text": [
      "\n"
     ]
    }
   ],
   "source": [
    "with open('f2.py','w+') as f:\n",
    "#     f.writelines(['str1\\n', 'str2\\n','str1\\n', 'str1\\n'])\n",
    "#     f.seek(0)\n",
    "#     print(f.read())\n",
    "      f.write('''str1,str2,str1,str456''')\n",
    "      print(f.read())"
   ]
  },
  {
   "cell_type": "code",
   "execution_count": null,
   "id": "3eb56b13",
   "metadata": {},
   "outputs": [],
   "source": [
    "#count number of words, number of charc and number of lines"
   ]
  },
  {
   "cell_type": "code",
   "execution_count": 56,
   "id": "ec17da58",
   "metadata": {},
   "outputs": [
    {
     "name": "stdout",
     "output_type": "stream",
     "text": [
      "What is Lorem Ipsum?\n",
      "Lorem Ipsum is simply dummy text of the printing and typesetting industry. Lorem Ipsum has been the industry's standard dummy text ever since the 1500s, when an unknown printer took a galley of type and scrambled it to make a type specimen book. It has survived not only five centuries, but also the leap into electronic typesetting, remaining essentially unchanged. It was popularised in the 1960s with the release of Letraset sheets containing Lorem Ipsum passages, and more recently with desktop publishing software like Aldus PageMaker including versions of Lorem Ipsum.\n",
      "\n",
      "Why do we use it?\n",
      "It is a long established fact that a reader will be distracted by the readable content of a page when looking at its layout. The point of using Lorem Ipsum is that it has a more-or-less normal distribution of letters, as opposed to using 'Content here, content here', making it look like readable English. Many desktop publishing packages and web page editors now use Lorem Ipsum as their default model text, and a search for 'lorem ipsum' will uncover many web sites still in their infancy. Various versions have evolved over the years, sometimes by accident, sometimes on purpose (injected humour and the like).\n",
      "\n",
      "\n",
      "number of characers- 1230\n"
     ]
    }
   ],
   "source": [
    "with open ('f3.py','r') as f3:\n",
    "    print(f3.read())\n",
    "    print('number of characers-',f3.tell()) #number of characters\n",
    "     "
   ]
  },
  {
   "cell_type": "code",
   "execution_count": 55,
   "id": "220b5dfa",
   "metadata": {},
   "outputs": [
    {
     "name": "stdout",
     "output_type": "stream",
     "text": [
      "No of lines - 6\n",
      "no words - 204\n"
     ]
    }
   ],
   "source": [
    "with open('f3.py','r+') as f1:\n",
    "    print('No of lines -',len(f1.readlines()))\n",
    "    f1.seek(0)\n",
    "    print('no words -', len(f1.read().split()))"
   ]
  },
  {
   "cell_type": "code",
   "execution_count": 57,
   "id": "a2ef95a5",
   "metadata": {},
   "outputs": [],
   "source": [
    "with open('python.jpeg','rb') as f1:\n",
    "    with open('new.png','wb') as f2:\n",
    "        f2.write(f1.read())"
   ]
  },
  {
   "cell_type": "code",
   "execution_count": null,
   "id": "1ac839c7",
   "metadata": {},
   "outputs": [],
   "source": []
  },
  {
   "cell_type": "code",
   "execution_count": null,
   "id": "517ea13c",
   "metadata": {},
   "outputs": [],
   "source": []
  },
  {
   "cell_type": "code",
   "execution_count": null,
   "id": "82f4d320",
   "metadata": {},
   "outputs": [],
   "source": []
  },
  {
   "cell_type": "code",
   "execution_count": null,
   "id": "b7039748",
   "metadata": {},
   "outputs": [],
   "source": []
  },
  {
   "cell_type": "code",
   "execution_count": null,
   "id": "529ec395",
   "metadata": {},
   "outputs": [],
   "source": []
  },
  {
   "cell_type": "code",
   "execution_count": null,
   "id": "52d80220",
   "metadata": {},
   "outputs": [],
   "source": []
  }
 ],
 "metadata": {
  "kernelspec": {
   "display_name": "Python 3",
   "language": "python",
   "name": "python3"
  },
  "language_info": {
   "codemirror_mode": {
    "name": "ipython",
    "version": 3
   },
   "file_extension": ".py",
   "mimetype": "text/x-python",
   "name": "python",
   "nbconvert_exporter": "python",
   "pygments_lexer": "ipython3",
   "version": "3.8.8"
  }
 },
 "nbformat": 4,
 "nbformat_minor": 5
}
