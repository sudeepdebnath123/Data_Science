{
 "cells": [
  {
   "cell_type": "markdown",
   "id": "136337f3",
   "metadata": {},
   "source": [
    "#### 1.W. A P. which takes one number from 0 to 9 from the user and prints it in the word. And if the word is not from 0 to 9 then it should print that number is outside of the range and program should exit.\n",
    " For example:-\n",
    " input = 1\n",
    " output = one"
   ]
  },
  {
   "cell_type": "code",
   "execution_count": null,
   "id": "b091e880",
   "metadata": {},
   "outputs": [],
   "source": [
    "# Need help to solve this question"
   ]
  },
  {
   "cell_type": "markdown",
   "id": "e51a189e",
   "metadata": {},
   "source": [
    "#### 2. to implement calculator but the operation to be done and two numbers will be taken as input from user:- Operation console should show below:-\n",
    "Please select any one operation from below:-\n",
    "1. To add enter 1\n",
    "2. to subtract enter 2\n",
    "3. To multiply enter 3\n",
    "4. To divide enter 4\n",
    "5. To divide and find quotient enter 5\n",
    "6. To divide and find remainder enter 6\n",
    "7. To find num1 to the power of num2 enter 7\n",
    "8. To Come out of the program enter 8"
   ]
  },
  {
   "cell_type": "code",
   "execution_count": 54,
   "id": "5ee3ca42",
   "metadata": {},
   "outputs": [
    {
     "name": "stdout",
     "output_type": "stream",
     "text": [
      "3\n",
      "0\n",
      " 4\n",
      "Error\n"
     ]
    }
   ],
   "source": [
    "x = int(input()) #num1\n",
    "y = int(input()) #num2\n",
    "op = str(input(' '))\n",
    "\n",
    "if op == '1':\n",
    "    print ('the sum of {} and {} is '.format(x,y),(x)+(y))\n",
    "elif op == '2':\n",
    "    print ('the substraction of {} and {} is '.format(x,y),(x)-(y))\n",
    "elif op == '3':\n",
    "    print ( 'the multiplication of {} and {} is'.format(x,y), (x)*(y))\n",
    "elif op == '4':\n",
    "    if y != 0:\n",
    "        print ('the float divison of {} and {} is'.format(x,y),(x)/(y))\n",
    "    else:\n",
    "        print ('Error')\n",
    "elif op == '5':\n",
    "        if y != 0:\n",
    "            print ('the float divison of {} and {} is'.format(x,y),(x)/(y))\n",
    "        else:\n",
    "            print ('error')\n",
    "elif op == '6':\n",
    "        if y != 0:\n",
    "            print ('the modulo divison of {} and {} is'.format(x,y),(x)%(y))\n",
    "        else:\n",
    "            print ('Error')\n",
    "elif op == '7':\n",
    "    print ('the {} raise to power of {} is' .format(x,y),(x)**(y))\n",
    "else:\n",
    "    if op == '8':\n",
    "        print ('Operations closed')"
   ]
  },
  {
   "cell_type": "code",
   "execution_count": null,
   "id": "51c0a568",
   "metadata": {},
   "outputs": [],
   "source": []
  },
  {
   "cell_type": "code",
   "execution_count": null,
   "id": "51706952",
   "metadata": {},
   "outputs": [],
   "source": []
  },
  {
   "cell_type": "code",
   "execution_count": null,
   "id": "5be1d109",
   "metadata": {},
   "outputs": [],
   "source": []
  },
  {
   "cell_type": "code",
   "execution_count": null,
   "id": "420e3a7c",
   "metadata": {},
   "outputs": [],
   "source": []
  },
  {
   "cell_type": "code",
   "execution_count": null,
   "id": "624fc35f",
   "metadata": {},
   "outputs": [],
   "source": []
  },
  {
   "cell_type": "code",
   "execution_count": null,
   "id": "c565eac6",
   "metadata": {},
   "outputs": [],
   "source": []
  },
  {
   "cell_type": "code",
   "execution_count": null,
   "id": "8ef6c85f",
   "metadata": {},
   "outputs": [],
   "source": []
  },
  {
   "cell_type": "code",
   "execution_count": null,
   "id": "a759aaf7",
   "metadata": {},
   "outputs": [],
   "source": []
  },
  {
   "cell_type": "code",
   "execution_count": null,
   "id": "f1537d08",
   "metadata": {},
   "outputs": [],
   "source": []
  },
  {
   "cell_type": "code",
   "execution_count": null,
   "id": "663d0e61",
   "metadata": {},
   "outputs": [],
   "source": []
  },
  {
   "cell_type": "markdown",
   "id": "31b2a608",
   "metadata": {},
   "source": [
    "#### 3. W A P to check whether a year entered by user is an leap year or not?\n",
    " Check with below input:-\n",
    "i. leap year:- 2012, 1968, 2004, 1200, 1600,2400\n",
    "ii. Non-leap year:- 1971, 2006, 1700,1800,1900"
   ]
  },
  {
   "cell_type": "code",
   "execution_count": 26,
   "id": "4827c256",
   "metadata": {},
   "outputs": [
    {
     "name": "stdout",
     "output_type": "stream",
     "text": [
      "enter your year   1968\n",
      "1968 is a leap year\n"
     ]
    }
   ],
   "source": [
    "Year = int(input('enter your year   '))\n",
    "\n",
    "if (Year%400 == 0) or (Year%4 == 0) and (Year%100 != 0):\n",
    "        print ('{} is a leap year'.format(Year))\n",
    "else:\n",
    "        print ('{} is a non-leap year'.format(Year))"
   ]
  },
  {
   "cell_type": "markdown",
   "id": "db13e62d",
   "metadata": {},
   "source": [
    "#### 4. W A P which takes one number from the user and checks whether it is\n",
    "an even or odd number? If it even then prints number is even number\n",
    "else prints that number is odd number."
   ]
  },
  {
   "cell_type": "code",
   "execution_count": 29,
   "id": "160d2655",
   "metadata": {},
   "outputs": [
    {
     "name": "stdout",
     "output_type": "stream",
     "text": [
      "7\n",
      "7 is an odd number\n"
     ]
    }
   ],
   "source": [
    "num1 = int(input())\n",
    "\n",
    "if num1%2 == 0:\n",
    "    print ('{} is an even number'.format(num1))\n",
    "else:\n",
    "    print ('{} is an odd number'.format(num1))"
   ]
  },
  {
   "cell_type": "markdown",
   "id": "16c91c3f",
   "metadata": {},
   "source": [
    "#### 5.W A P which takes two numbers from the user and prints below output:-\n",
    " num1 is greater than num2 if num1 is greater than num2\n",
    " num1 is smaller than num2 if num1 is smaller than num2\n",
    " num1 is equal to num2 if num1 and num2 are equal\n",
    " Note: -\n",
    "1. Do this problem using if - else\n",
    "2. Do this using ternary operator"
   ]
  },
  {
   "cell_type": "code",
   "execution_count": 37,
   "id": "e8769693",
   "metadata": {},
   "outputs": [
    {
     "name": "stdout",
     "output_type": "stream",
     "text": [
      "4\n",
      "3\n",
      "4 is greater than 3\n"
     ]
    }
   ],
   "source": [
    "num1 = int(input())\n",
    "num2 = int(input())\n",
    "\n",
    "if num1 > num2:\n",
    "    print ('{} is greater than {}'.format(num1,num2))\n",
    "elif num1 < num2:\n",
    "    print ('{} is smaller than {}'.format(num1,num2))\n",
    "else:\n",
    "    print ('{} is equal to {}'.format(num1,num2))\n"
   ]
  },
  {
   "cell_type": "markdown",
   "id": "e1ebfedd",
   "metadata": {},
   "source": [
    "#### 6. W A P which takes three numbers from the user and prints below\n",
    "output:-\n",
    " num1 is greater than num2 and num3 if num1 is greater than\n",
    "num2 and num3\n",
    " num2 is greater than num1 and num3 if num2 is greater than\n",
    "num1 and num3\n",
    " num3 is greater than num1 and num2 if num3 is greater than\n",
    "num1 and num2\n",
    " Note:-\n",
    "i. 1. Do this problem using if - elif - else\n",
    "ii. 2. Do this using ternary operator"
   ]
  },
  {
   "cell_type": "code",
   "execution_count": 45,
   "id": "67f114bb",
   "metadata": {},
   "outputs": [
    {
     "name": "stdout",
     "output_type": "stream",
     "text": [
      "2\n",
      "3\n",
      "5\n",
      "5 is greater than 2 and 3\n"
     ]
    }
   ],
   "source": [
    "num1 = int(input())\n",
    "num2 = int(input())\n",
    "num3 = int(input())\n",
    "\n",
    "if (num1 > num2) and (num1 > num3):\n",
    "    print (\"{} is greater than {} and {}\".format(num1,num2,num3))\n",
    "elif (num2 > num1) and (num2 > num3):\n",
    "    print (\"{} is greater than {} and {}\".format(num2,num1,num3))\n",
    "elif (num3 > num1) and (num3 > num2):\n",
    "    print (\"{} is greater than {} and {}\".format(num3,num1,num2))\n",
    "else:\n",
    "    print (\"{}, {} and {} are equal\". format(num3,num1,num2))"
   ]
  },
  {
   "cell_type": "code",
   "execution_count": null,
   "id": "60a1485f",
   "metadata": {},
   "outputs": [],
   "source": []
  },
  {
   "cell_type": "code",
   "execution_count": null,
   "id": "cf88af9b",
   "metadata": {},
   "outputs": [],
   "source": []
  },
  {
   "cell_type": "code",
   "execution_count": null,
   "id": "543c4cb5",
   "metadata": {},
   "outputs": [],
   "source": []
  },
  {
   "cell_type": "code",
   "execution_count": null,
   "id": "957100bd",
   "metadata": {},
   "outputs": [],
   "source": []
  },
  {
   "cell_type": "code",
   "execution_count": null,
   "id": "b593238e",
   "metadata": {},
   "outputs": [],
   "source": []
  },
  {
   "cell_type": "code",
   "execution_count": null,
   "id": "02ab6482",
   "metadata": {},
   "outputs": [],
   "source": []
  },
  {
   "cell_type": "code",
   "execution_count": null,
   "id": "7221ddd3",
   "metadata": {},
   "outputs": [],
   "source": []
  },
  {
   "cell_type": "code",
   "execution_count": null,
   "id": "b6985632",
   "metadata": {},
   "outputs": [],
   "source": []
  },
  {
   "cell_type": "code",
   "execution_count": null,
   "id": "1d3fa913",
   "metadata": {},
   "outputs": [],
   "source": []
  },
  {
   "cell_type": "code",
   "execution_count": null,
   "id": "73a6ad04",
   "metadata": {},
   "outputs": [],
   "source": []
  },
  {
   "cell_type": "code",
   "execution_count": null,
   "id": "ca950332",
   "metadata": {},
   "outputs": [],
   "source": []
  },
  {
   "cell_type": "code",
   "execution_count": null,
   "id": "db7e85df",
   "metadata": {},
   "outputs": [],
   "source": []
  },
  {
   "cell_type": "code",
   "execution_count": null,
   "id": "67b22e81",
   "metadata": {},
   "outputs": [],
   "source": []
  },
  {
   "cell_type": "code",
   "execution_count": null,
   "id": "50ed6354",
   "metadata": {},
   "outputs": [],
   "source": []
  },
  {
   "cell_type": "code",
   "execution_count": null,
   "id": "c0c2d9c0",
   "metadata": {},
   "outputs": [],
   "source": []
  },
  {
   "cell_type": "code",
   "execution_count": null,
   "id": "a9555136",
   "metadata": {},
   "outputs": [],
   "source": []
  },
  {
   "cell_type": "code",
   "execution_count": null,
   "id": "e80d0ecf",
   "metadata": {},
   "outputs": [],
   "source": []
  },
  {
   "cell_type": "code",
   "execution_count": null,
   "id": "b5ea7273",
   "metadata": {},
   "outputs": [],
   "source": []
  },
  {
   "cell_type": "code",
   "execution_count": null,
   "id": "91b1dfe1",
   "metadata": {},
   "outputs": [],
   "source": []
  },
  {
   "cell_type": "code",
   "execution_count": null,
   "id": "1c6e993e",
   "metadata": {},
   "outputs": [],
   "source": []
  },
  {
   "cell_type": "code",
   "execution_count": null,
   "id": "b14db3e0",
   "metadata": {},
   "outputs": [],
   "source": []
  },
  {
   "cell_type": "code",
   "execution_count": null,
   "id": "f323b7e1",
   "metadata": {},
   "outputs": [],
   "source": []
  },
  {
   "cell_type": "code",
   "execution_count": null,
   "id": "604c9800",
   "metadata": {},
   "outputs": [],
   "source": []
  },
  {
   "cell_type": "code",
   "execution_count": null,
   "id": "a112c83f",
   "metadata": {},
   "outputs": [],
   "source": []
  },
  {
   "cell_type": "code",
   "execution_count": null,
   "id": "2d2e26d9",
   "metadata": {},
   "outputs": [],
   "source": []
  },
  {
   "cell_type": "code",
   "execution_count": null,
   "id": "636a2c35",
   "metadata": {},
   "outputs": [],
   "source": []
  },
  {
   "cell_type": "code",
   "execution_count": null,
   "id": "6f86619f",
   "metadata": {},
   "outputs": [],
   "source": []
  },
  {
   "cell_type": "code",
   "execution_count": null,
   "id": "be9327f7",
   "metadata": {},
   "outputs": [],
   "source": []
  },
  {
   "cell_type": "code",
   "execution_count": null,
   "id": "42b02a4d",
   "metadata": {},
   "outputs": [],
   "source": []
  },
  {
   "cell_type": "code",
   "execution_count": null,
   "id": "094a3076",
   "metadata": {},
   "outputs": [],
   "source": []
  },
  {
   "cell_type": "code",
   "execution_count": null,
   "id": "b54a9b31",
   "metadata": {},
   "outputs": [],
   "source": []
  },
  {
   "cell_type": "code",
   "execution_count": null,
   "id": "56b16c9e",
   "metadata": {},
   "outputs": [],
   "source": []
  },
  {
   "cell_type": "code",
   "execution_count": null,
   "id": "16ae3df9",
   "metadata": {},
   "outputs": [],
   "source": []
  },
  {
   "cell_type": "code",
   "execution_count": null,
   "id": "a975c5de",
   "metadata": {},
   "outputs": [],
   "source": []
  },
  {
   "cell_type": "code",
   "execution_count": null,
   "id": "0fde58f8",
   "metadata": {},
   "outputs": [],
   "source": []
  },
  {
   "cell_type": "code",
   "execution_count": null,
   "id": "6d20ac4d",
   "metadata": {},
   "outputs": [],
   "source": []
  },
  {
   "cell_type": "code",
   "execution_count": null,
   "id": "77211a93",
   "metadata": {},
   "outputs": [],
   "source": []
  },
  {
   "cell_type": "code",
   "execution_count": null,
   "id": "00d784ac",
   "metadata": {},
   "outputs": [],
   "source": []
  },
  {
   "cell_type": "code",
   "execution_count": null,
   "id": "2e0fbf20",
   "metadata": {},
   "outputs": [],
   "source": []
  },
  {
   "cell_type": "code",
   "execution_count": null,
   "id": "a97a309d",
   "metadata": {},
   "outputs": [],
   "source": []
  },
  {
   "cell_type": "code",
   "execution_count": null,
   "id": "c9140b96",
   "metadata": {},
   "outputs": [],
   "source": []
  },
  {
   "cell_type": "code",
   "execution_count": null,
   "id": "30e6cbd1",
   "metadata": {},
   "outputs": [],
   "source": []
  },
  {
   "cell_type": "code",
   "execution_count": null,
   "id": "62a5dbdc",
   "metadata": {},
   "outputs": [],
   "source": []
  },
  {
   "cell_type": "code",
   "execution_count": null,
   "id": "833d9dc5",
   "metadata": {},
   "outputs": [],
   "source": []
  },
  {
   "cell_type": "code",
   "execution_count": null,
   "id": "32e8541b",
   "metadata": {},
   "outputs": [],
   "source": []
  },
  {
   "cell_type": "code",
   "execution_count": null,
   "id": "5fd38c6b",
   "metadata": {},
   "outputs": [],
   "source": []
  }
 ],
 "metadata": {
  "kernelspec": {
   "display_name": "Python 3",
   "language": "python",
   "name": "python3"
  },
  "language_info": {
   "codemirror_mode": {
    "name": "ipython",
    "version": 3
   },
   "file_extension": ".py",
   "mimetype": "text/x-python",
   "name": "python",
   "nbconvert_exporter": "python",
   "pygments_lexer": "ipython3",
   "version": "3.8.8"
  }
 },
 "nbformat": 4,
 "nbformat_minor": 5
}
